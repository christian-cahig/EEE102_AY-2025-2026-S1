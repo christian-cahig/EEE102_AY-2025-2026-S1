{
 "cells": [
  {
   "cell_type": "markdown",
   "id": "b65460fa",
   "metadata": {},
   "source": [
    "# Exam 1\n",
    "\n",
    "This activity is intended to assess your knowledge\n",
    "in formulating engineering problems as univariate root-finding tasks,\n",
    "as well as in applying relevant numerical methods to solve them."
   ]
  },
  {
   "cell_type": "markdown",
   "id": "4c0e9cf1",
   "metadata": {},
   "source": [
    "## Scenario"
   ]
  },
  {
   "cell_type": "markdown",
   "id": "1d25290a",
   "metadata": {},
   "source": [
    "Two batching plants -- Bonnie and Clyde --\n",
    "have respective ratings of\n",
    "$p_{1}$ kilowatts and $q_{2}$ kilovars,\n",
    "have respective lagging power factors of\n",
    "$\\phi_{1}$ and $\\phi_{2}$,\n",
    "and\n",
    "are separately served by dedicated feeders\n",
    "whose respective impedances are\n",
    "$r_{1} + j x_{1}$\n",
    "and\n",
    "$r_{2} + j x_{2}$ ohms.\n",
    "The feeders branch out from a substation bus\n",
    "regulated around a nominal voltage of $u$ kilovolts.\n",
    "\n",
    "The main objective is to determine the phase-angle difference\n",
    "between the rated operating voltages of Bonnie and of Clyde.\n",
    "One way to accomplish the main objective is\n",
    "to solve for the operating voltage magnitudes of Bonnie and of Clyde\n",
    "(say, $v_{1}$ and $v_{2}$, respectively).\n",
    "With such values,\n",
    "determining the desired phase-angle difference\n",
    "is a matter of analysis and complex-number arithmetic."
   ]
  },
  {
   "cell_type": "markdown",
   "id": "f545bc44",
   "metadata": {},
   "source": [
    "## Part I\n",
    "\n",
    "This is the Written component of the exam."
   ]
  },
  {
   "cell_type": "markdown",
   "id": "03f8609f",
   "metadata": {},
   "source": [
    "### Question 1\n",
    "\n",
    "Derive a univariate function $f\\!\\left(v\\right)$ whose root is $v_{1}$."
   ]
  },
  {
   "cell_type": "markdown",
   "id": "c5913312",
   "metadata": {},
   "source": [
    "### Question 2\n",
    "\n",
    "Derive a univariate function $g\\!\\left(v\\right)$ whose root is $v_{2}$."
   ]
  },
  {
   "cell_type": "markdown",
   "id": "7b5df508",
   "metadata": {},
   "source": [
    "### Question 3\n",
    "\n",
    "Describe how to calculate the desired phase-angle difference\n",
    "using $v_{1}$ and $v_{2}$."
   ]
  },
  {
   "cell_type": "markdown",
   "id": "dbd15e53",
   "metadata": {},
   "source": [
    "### Question 4\n",
    "\n",
    "If you are to solve for $v_{1}$ using the bisection method,\n",
    "how will you set the search interval?"
   ]
  },
  {
   "cell_type": "markdown",
   "id": "efc7506a",
   "metadata": {},
   "source": [
    "### Question 5\n",
    "\n",
    "If you are to solve for $v_{2}$ using the Newton-Raphson method,\n",
    "how will you set the initial estimate?"
   ]
  },
  {
   "cell_type": "markdown",
   "id": "f200d162",
   "metadata": {},
   "source": [
    "### Question 6\n",
    "\n",
    "If you are to solve for $v_{1}$ using the Newton-Raphson method,\n",
    "derive an iteration scheme of the form\n",
    "$v_{k+1} \\gets v_{k} + h\\!\\left(v_{k}\\right)$."
   ]
  },
  {
   "cell_type": "markdown",
   "id": "be823612",
   "metadata": {},
   "source": [
    "### Question 7\n",
    "\n",
    "Reason out whether or not the desired phase-angle difference can take on multiple values."
   ]
  },
  {
   "cell_type": "markdown",
   "id": "a886b63e",
   "metadata": {},
   "source": [
    "### Question 8\n",
    "\n",
    "In your stay so far in the university,\n",
    "what do you consider to be the most profound\n",
    "thing you have heard or learned from a teacher?"
   ]
  },
  {
   "cell_type": "markdown",
   "id": "4a8607a0",
   "metadata": {},
   "source": [
    "## Part II\n",
    "\n",
    "This is the Programming component of the exam."
   ]
  },
  {
   "cell_type": "markdown",
   "id": "06d1809b",
   "metadata": {},
   "source": [
    "Set the power ratings as follows.\n",
    "- M34W12 class:\n",
    "  $p_{1} = 450$, $\\phi_{1} = 0.87$, $q_{2} = 300$, and $\\phi_{2} = 0.90$\n",
    "- M34W34 class:\n",
    "  $p_{1} = 375$, $\\phi_{1} = 0.95$, $q_{2} = 325$, and $\\phi_{2} = 0.80$\n",
    "- H34W56 class:\n",
    "  $p_{1} = 425$, $\\phi_{1} = 0.75$, $q_{2} = 275$, and $\\phi_{2} = 0.75$\n",
    "- H34W78 class:\n",
    "  $p_{1} = 301$, $\\phi_{1} = 0.73$, $q_{2} = 334$, and $\\phi_{2} = 0.84$"
   ]
  },
  {
   "cell_type": "markdown",
   "id": "9f9b2d13",
   "metadata": {},
   "source": [
    "Set the feeder line parameters as follows.\n",
    "- M34W12 class:\n",
    "  $r_{1} = 0.97$, $x_{1} = 2.45$, $r_{2} = 0.99$, and $x_{2} = 2.51$\n",
    "- M34W34 class:\n",
    "  $r_{1} = 0.95$, $x_{1} = 2.54$, $r_{2} = 1.01$, and $x_{2} = 2.75$\n",
    "- H34W56 class:\n",
    "  $r_{1} = 1.01$, $x_{1} = 2.75$, $r_{2} = 0.95$, and $x_{2} = 2.54$\n",
    "- H34W78 class:\n",
    "  $r_{1} = 0.99$, $x_{1} = 2.51$, $r_{2} = 0.97$, and $x_{2} = 2.45$"
   ]
  },
  {
   "cell_type": "markdown",
   "id": "de9d117c",
   "metadata": {},
   "source": [
    "Adopting real-world conditions,\n",
    "the substation bus voltage is allowed to vary within 10 % of the nominal.\n",
    "(Exceeding this range indicates undervoltage or overvoltage.)\n",
    "Set the substation bus voltage as follows.\n",
    "- M34W12 class: the minimum allowed for a $u = 49.0$\n",
    "- M34W34 class: the maximum allowed for a $u = 13.8$\n",
    "- H34W56 class: the minimum allowed for a $u = 13.8$\n",
    "- H34W78 class: the maximum allowed for a $u = 49.0$"
   ]
  },
  {
   "cell_type": "markdown",
   "id": "b3c1fe23",
   "metadata": {},
   "source": [
    "### Preliminaries"
   ]
  },
  {
   "cell_type": "code",
   "execution_count": null,
   "id": "6a9b7654",
   "metadata": {},
   "outputs": [],
   "source": [
    "import math as mt\n",
    "\n",
    "import scipy.optimize as spo"
   ]
  },
  {
   "cell_type": "markdown",
   "id": "a2aef89f",
   "metadata": {},
   "source": [
    "Define the following Python functions.\n",
    "- `f()`, implementing $f\\!\\left(v\\right)$\n",
    "- `g()`, implementing $g\\!\\left(v\\right)$\n",
    "- `df()`, implementing the derivative of $f\\!\\left(v\\right)$ w.r.t. $v$\n",
    "- `dg()`, implementing the derivative of $g\\!\\left(v\\right)$ w.r.t. $v$\n",
    "\n",
    "Each of these functions should have the following inputs.\n",
    "- `v`,\n",
    "  a positional argument that represents the operating voltage\n",
    "- `v_ss`,\n",
    "  a keyword argument that represents the substation bus voltage\n",
    "  and defaults to the nominal value\n",
    "\n",
    "Lastly, define a Python function\n",
    "`calc_angle_diff()` that returns the desired phase-angle difference\n",
    "(in radians)\n",
    "given two inputs:\n",
    "- `v1`, the first positional argument representing $v_{1}$,\n",
    "  and\n",
    "- `v2`, the first positional argument representing $v_{2}$.\n",
    "\n",
    "Replace the `pass` statements in the succeeding code cells."
   ]
  },
  {
   "cell_type": "code",
   "execution_count": null,
   "id": "7ae901e4",
   "metadata": {},
   "outputs": [],
   "source": [
    "def f(x):\n",
    "    pass"
   ]
  },
  {
   "cell_type": "code",
   "execution_count": null,
   "id": "78f8956d",
   "metadata": {},
   "outputs": [],
   "source": [
    "def g(x):\n",
    "    pass"
   ]
  },
  {
   "cell_type": "code",
   "execution_count": null,
   "id": "638a4ca0",
   "metadata": {},
   "outputs": [],
   "source": [
    "def df(x):\n",
    "    pass"
   ]
  },
  {
   "cell_type": "code",
   "execution_count": null,
   "id": "b7b7e699",
   "metadata": {},
   "outputs": [],
   "source": [
    "def dg(x):\n",
    "    pass"
   ]
  },
  {
   "cell_type": "code",
   "execution_count": null,
   "id": "0319f1b1",
   "metadata": {},
   "outputs": [],
   "source": [
    "def calc_angle_diff(y):\n",
    "    pass"
   ]
  },
  {
   "cell_type": "markdown",
   "id": "664fce76",
   "metadata": {},
   "source": [
    "### Using the bisection method"
   ]
  },
  {
   "cell_type": "markdown",
   "id": "d966b641",
   "metadata": {},
   "source": [
    "In solving for $v_{1}$,\n",
    "define Python variables `_V1L` and `_V1U`\n",
    "to store the lower and the upper ends of the search interval.\n",
    "Similarly define Python variables `_V2L` and `_V2U`\n",
    "in solving for $v_{2}$.\n",
    "\n",
    "Run \n",
    "[`scipy.optimize.bisect()`](https://docs.scipy.org/doc/scipy/reference/generated/scipy.optimize.bisect.html)\n",
    "such that you get\n",
    "the (approximate) root\n",
    "as well as information concerning the run.\n",
    "Store the (approximate) root and the information in Python variables\n",
    "\n",
    "- `v1_bs` and `v1_bs_info`, respectively, for $v_{1}$; and\n",
    "- `v2_bs` and `v2_bs_info`, respectively, for $v_{2}$.\n",
    "\n",
    "Set tolerances and iteration budget to their corresponding default values.\n",
    "\n",
    "Replace the `pass` statement in the succeeding cells with the appropriate code."
   ]
  },
  {
   "cell_type": "code",
   "execution_count": null,
   "id": "e06a4864",
   "metadata": {},
   "outputs": [],
   "source": [
    "pass"
   ]
  },
  {
   "cell_type": "code",
   "execution_count": null,
   "id": "cc7ac9ba",
   "metadata": {},
   "outputs": [],
   "source": [
    "print(\"-----\")\n",
    "print(v1_bs_info)\n",
    "print(\"-----\")\n",
    "print(v2_bs_info)"
   ]
  },
  {
   "cell_type": "code",
   "execution_count": null,
   "id": "24dc6941",
   "metadata": {},
   "outputs": [],
   "source": [
    "print(f\"Solving for Bonnie's operating voltage using the bisection method...\")\n",
    "print(f\"\\tinterval: {pass} - {pass} kilovolts\")\n",
    "print(f\"\\troot: {pass}\")\n",
    "print(f\"\\tresidual: {f(v2_bs)}\")"
   ]
  },
  {
   "cell_type": "code",
   "execution_count": null,
   "id": "ffd28736",
   "metadata": {},
   "outputs": [],
   "source": [
    "print(f\"Solving for Clyde's operating voltage using the bisection method...\")\n",
    "print(f\"\\tinterval: {pass} - {pass} kilovolts\")\n",
    "print(f\"\\troot: {pass}\")\n",
    "print(f\"\\tresidual: {g(v1_bs)}\")"
   ]
  },
  {
   "cell_type": "code",
   "execution_count": null,
   "id": "1ccc6f12",
   "metadata": {},
   "outputs": [],
   "source": [
    "print(f\"Phase-angle difference: {calc_angle_diff} degrees\")"
   ]
  },
  {
   "cell_type": "markdown",
   "id": "13a600c2",
   "metadata": {},
   "source": [
    "### Using the Newton-Raphson method"
   ]
  },
  {
   "cell_type": "markdown",
   "id": "a4ae67e6",
   "metadata": {},
   "source": [
    "In solving for $v_{1}$,\n",
    "define a Python variable `_V1NR`\n",
    "to store the initial estimate.\n",
    "Similarly define a Python variable `_V2NR`\n",
    "in solving for $v_{2}$.\n",
    "\n",
    "Run\n",
    "[`scipy.optimize.newton()`](https://docs.scipy.org/doc/scipy/reference/generated/scipy.optimize.newton.html)\n",
    "such that you get the (approximate) root as well as convergence information.\n",
    "Store the (approximate) root and the information in Python variables\n",
    "\n",
    "- `v1_nr` and `v1_nr_info`, respectively, for $v_{1}$; and\n",
    "- `v2_nr` and `v2_nr_info`, respectively, for $v_{2}$.\n",
    "\n",
    "Set tolerances and iteration budget to their corresponding default values.\n",
    "\n",
    "Replace the `pass` statement in the succeeding cell with your code."
   ]
  },
  {
   "cell_type": "code",
   "execution_count": null,
   "id": "e3bd8986",
   "metadata": {},
   "outputs": [],
   "source": [
    "pass"
   ]
  },
  {
   "cell_type": "code",
   "execution_count": null,
   "id": "5933ee9a",
   "metadata": {},
   "outputs": [],
   "source": [
    "print(\"-----\")\n",
    "print(v1_nr_info)\n",
    "print(\"-----\")\n",
    "print(v2_nr_info)"
   ]
  },
  {
   "cell_type": "code",
   "execution_count": null,
   "id": "0be8a37a",
   "metadata": {},
   "outputs": [],
   "source": [
    "print(f\"Solving for Bonnie's operating voltage using the Newton-Raphson method...\")\n",
    "print(f\"\\tstart: {pass} kilovolts\")\n",
    "print(f\"\\troot: {pass}\")\n",
    "print(f\"\\tresidual: {f(v_2_bs)}\")"
   ]
  },
  {
   "cell_type": "code",
   "execution_count": null,
   "id": "dd9ba034",
   "metadata": {},
   "outputs": [],
   "source": [
    "print(f\"Solving for Clyde's operating voltage using the bisection method...\")\n",
    "print(f\"\\tstart: {pass} kilovolts\")\n",
    "print(f\"\\troot: {pass}\")\n",
    "print(f\"\\tresidual: {g(v1_sc)}\")"
   ]
  },
  {
   "cell_type": "code",
   "execution_count": null,
   "id": "df67714b",
   "metadata": {},
   "outputs": [],
   "source": [
    "print(f\"Phase-angle difference: {calc_angle_diff()} degrees\")"
   ]
  },
  {
   "cell_type": "markdown",
   "id": "ec33a0aa",
   "metadata": {},
   "source": [
    "### Using the secant method"
   ]
  },
  {
   "cell_type": "markdown",
   "id": "cced2759",
   "metadata": {},
   "source": [
    "In solving for $v_{1}$,\n",
    "define a Python variable `_V1SC`\n",
    "to store the initial estimate.\n",
    "Similarly define a Python variable `_V2SC`\n",
    "in solving for $v_{2}$.\n",
    "\n",
    "Run\n",
    "[`scipy.optimize.newton()`](https://docs.scipy.org/doc/scipy/reference/generated/scipy.optimize.newton.html)\n",
    "such that you get the (approximate) root as well as information concerning the run.\n",
    "Store the (approximate) root and the information in Python variables\n",
    "\n",
    "- `v1_sc` and `v1_sc_info`, respectively, for $v_{1}$; and\n",
    "- `v2_sc` and `v2_sc_info`, respectively, for $v_{2}$.\n",
    "\n",
    "Set tolerances and iteration budget to their corresponding default values.\n",
    "\n",
    "Replace the `pass` statement in the succeeding cell with your code."
   ]
  },
  {
   "cell_type": "code",
   "execution_count": null,
   "id": "22398df3",
   "metadata": {},
   "outputs": [],
   "source": [
    "pass"
   ]
  },
  {
   "cell_type": "code",
   "execution_count": null,
   "id": "a4c54264",
   "metadata": {},
   "outputs": [],
   "source": [
    "print(\"-----\")\n",
    "print(v1_sc_info)\n",
    "print(\"-----\")\n",
    "print(v_2_sc_info)"
   ]
  },
  {
   "cell_type": "code",
   "execution_count": null,
   "id": "f0fa48cd",
   "metadata": {},
   "outputs": [],
   "source": [
    "print(f\"Solving for Bonnie's operating voltage using the secant method...\")\n",
    "print(f\"\\tstart: {pass} kilovolts\")\n",
    "print(f\"\\troot: {pass}\")\n",
    "print(f\"\\tresidual: {f(v_1_nr)}\")"
   ]
  },
  {
   "cell_type": "code",
   "execution_count": null,
   "id": "d70b25dc",
   "metadata": {},
   "outputs": [],
   "source": [
    "print(f\"Solving for Clyde's operating voltage using the secant method...\")\n",
    "print(f\"\\tstart: {pass} kilovolts\")\n",
    "print(f\"\\troot: {pass}\")\n",
    "print(f\"\\tresidual: {g(v1_sc)}\")"
   ]
  },
  {
   "cell_type": "code",
   "execution_count": null,
   "id": "b0857a87",
   "metadata": {},
   "outputs": [],
   "source": [
    "print(f\"Phase-angle difference: {calc_angle_diff(v1, v2)} degrees\")"
   ]
  },
  {
   "cell_type": "markdown",
   "id": "b3aca3c7",
   "metadata": {},
   "source": [
    "## Instructions and reminders"
   ]
  },
  {
   "cell_type": "markdown",
   "id": "1dff3d2a",
   "metadata": {},
   "source": [
    "### Written exam component"
   ]
  },
  {
   "cell_type": "markdown",
   "id": "aeb4a1fa",
   "metadata": {},
   "source": [
    "Write your answers in white A4 papers.\n",
    "Use one (1) inch for the top, left, right, and bottom margins.\n",
    "Write only on one page of a sheet.\n",
    "Staple the sheets at the upper-left corner of the pages."
   ]
  },
  {
   "cell_type": "markdown",
   "id": "3b61aa97",
   "metadata": {},
   "source": [
    "Corresponding maximum marks for Questions 1 - 7 are as follows.\n",
    "- thirty (30) points for each of Questions 1 and 2\n",
    "- ten (10) points for Question 3\n",
    "- five (5) points for each of Questions 4 - 7\n",
    "\n",
    "Question 8 is a bonus worth three (3) points."
   ]
  },
  {
   "cell_type": "markdown",
   "id": "d62308c7",
   "metadata": {},
   "source": [
    "The use of AI tools to answer this exam is not prohibited,\n",
    "but it is of ethical interest to disclose such use.\n",
    "This is in line with the\n",
    "[MSU Policy on the Fair and Ethical Use of AI and Its Applications](https://www.msumain.edu.ph/wp-content/uploads/2024/05/MSU-Policy-on-Ethical-use-of-AI-Policies.pdf).\n",
    "As such, include a brief closing section\n",
    "(titled \"Declaration on the use of AI tools\")\n",
    "declaring which and how AI tools are used in your work,\n",
    "or non-use thereof."
   ]
  },
  {
   "cell_type": "markdown",
   "id": "22206cc3",
   "metadata": {},
   "source": [
    "### Programming component"
   ]
  },
  {
   "cell_type": "markdown",
   "id": "94683310",
   "metadata": {},
   "source": [
    "Do not use any library or module other than those in the imports cell."
   ]
  },
  {
   "cell_type": "markdown",
   "id": "74df55c4",
   "metadata": {},
   "source": [
    "In addition to replacing the `pass` statements,\n",
    "you also need to fix some intentional errors."
   ]
  },
  {
   "cell_type": "markdown",
   "id": "b096393c",
   "metadata": {},
   "source": [
    "For each method,\n",
    "- getting the correct value of $v_{1}$ merits ten (10) points,\n",
    "- getting the correct value of $v_{2}$ merits ten (10) points,\n",
    "- getting the correct value of the phase-angle difference merits ten (10) points,\n",
    "  and\n",
    "- getting a reasonable residual merits two (2) points.\n",
    "\n",
    "Meeting the above conditions and all instructions\n",
    "further merits a point.\n",
    "Each non-compliance to an instruction, however, means a deduction of two (2) points.\n",
    "Thus, one may earn up to 100 points for the programming component,\n",
    "as long as\n",
    "- all instructions are met,\n",
    "- all code cells run properly in succession,\n",
    "  and\n",
    "- all computed quantities are (acceptably) equal to those in a held-out answer key."
   ]
  },
  {
   "cell_type": "markdown",
   "id": "cae44af7",
   "metadata": {},
   "source": [
    "Download this notebook file,\n",
    "and save with a filename following the pattern\n",
    "`EXM-01_<section>_<ID number>`,\n",
    "where the section is as reflected in your Google Classroom.\n",
    "For example,\n",
    "if your ID number is 2013-0024\n",
    "and you are enrolled in the M34W12 class,\n",
    "then your notebook should be named\n",
    "`EXM-01_M34W12_2013-0024.ipynb`.\n",
    "Submit your notebook via the classwork platform for Exam 1 in Google Classroom.\n",
    "Submissions beyond the deadline will not be considered."
   ]
  },
  {
   "cell_type": "markdown",
   "id": "c83b6c2d",
   "metadata": {},
   "source": [
    "The use of AI tools to answer this exam is not prohibited,\n",
    "but it is of ethical interest to disclose such use.\n",
    "This is in line with the\n",
    "[MSU Policy on the Fair and Ethical Use of AI and Its Applications](https://www.msumain.edu.ph/wp-content/uploads/2024/05/MSU-Policy-on-Ethical-use-of-AI-Policies.pdf).\n",
    "As such, please include a brief statement\n",
    "(in a private comment to this classwork)\n",
    "declaring which and how AI tools are used in your work,\n",
    "or non-use thereof."
   ]
  },
  {
   "cell_type": "markdown",
   "id": "da092506",
   "metadata": {},
   "source": [
    "*Last updated by Christian Cahig on 2025-10-22*"
   ]
  }
 ],
 "metadata": {
  "kernelspec": {
   "display_name": "eee102",
   "language": "python",
   "name": "python3"
  },
  "language_info": {
   "name": "python",
   "version": "3.12.5"
  }
 },
 "nbformat": 4,
 "nbformat_minor": 5
}
