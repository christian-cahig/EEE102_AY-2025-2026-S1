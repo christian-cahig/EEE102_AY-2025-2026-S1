{
 "cells": [
  {
   "cell_type": "markdown",
   "id": "05a8cc99",
   "metadata": {},
   "source": [
    "# Answer key for Activity 5\n",
    "\n",
    "*Last updated by Christian Cahig on 2025-10-13*"
   ]
  },
  {
   "cell_type": "markdown",
   "id": "81b76d77",
   "metadata": {},
   "source": [
    "## Imports"
   ]
  },
  {
   "cell_type": "code",
   "execution_count": 1,
   "id": "b8f40eff",
   "metadata": {},
   "outputs": [],
   "source": [
    "import math as mt\n",
    "\n",
    "import scipy.optimize as spo"
   ]
  },
  {
   "cell_type": "markdown",
   "id": "e38d8b0a",
   "metadata": {},
   "source": [
    "## Scenario"
   ]
  },
  {
   "cell_type": "markdown",
   "id": "77006f54",
   "metadata": {},
   "source": [
    "Suppose you have a second-order circuit that can be reduced into\n",
    "an equivalent resistance $R$\n",
    "parallel-connected to\n",
    "an equivalent inductance $L$\n",
    "as well as to\n",
    "an equivalent capacitance $C$\n",
    "(see [diagram](./act-05.png)).\n",
    "The said model is only valid over the interval $4 \\leq t \\leq 21$ seconds."
   ]
  },
  {
   "cell_type": "markdown",
   "id": "a39a3d28",
   "metadata": {},
   "source": [
    "Determine:\n",
    "- the minimum voltage across the equivalent-inductance element,\n",
    "  and\n",
    "- when the voltage across the equivalent-resistance element is a minimum,\n",
    "\n",
    "for when:\n",
    "- $C = 500$ millifarads,\n",
    "- $R = \\frac{2}{3}$ ohms,\n",
    "  and\n",
    "- $L = 1000$ millihenrys,\n",
    "\n",
    "provided that \n",
    "$V = 10$ volts\n",
    "and\n",
    "$I = 2$ amperes\n",
    "at the start of the applicable interval."
   ]
  },
  {
   "cell_type": "markdown",
   "id": "b663b2f8",
   "metadata": {},
   "source": [
    "## Modelling"
   ]
  },
  {
   "cell_type": "markdown",
   "id": "d9962fd5",
   "metadata": {},
   "source": [
    "Elementary circuit theory informs us that\n",
    "$V$ is a natural response of an overdamped second-order circuit.\n",
    "Committing the computations to the care of one's due diligence,\n",
    "it is inevitable to arrive at\n",
    "\n",
    "$$\n",
    "V\\!\\left(t-4\\right)\n",
    "=\n",
    "-14 \\text{e}^{-\\left(t - 4\\right)}\n",
    "+ 24 \\text{e}^{-2 \\left(t - 4\\right)}\n",
    "$$\n",
    "\n",
    "Obviously,\n",
    "$V$ is the voltage across the equivalent-inductance element,\n",
    "as well as the voltage across the equivalent-resistance element.\n",
    "Moreover,\n",
    "since we are concerned with a single time interval,\n",
    "we can shift the interval so that it starts at $t = 0$, i.e.,\n",
    "\n",
    "$$\n",
    "V\\!\\left(t\\right)\n",
    "=\n",
    "-14 \\text{e}^{-t}\n",
    "+ 24 \\text{e}^{-2 t}\n",
    "$$\n",
    "\n",
    "We just have to be mindful enough to revert the time shift\n",
    "when it is desired to answer inquiries concerning points in time.\n",
    "\n",
    "Now, $V\\!\\left(t\\right)$ is continuous,\n",
    "and so its time-derivative at extrema is equal to zero.\n",
    "Therefore,\n",
    "\n",
    "$$\n",
    "f\\!\\left(t\\right)\n",
    "=\n",
    "\\frac{\\text{d}V}{\\text{d}t}\n",
    "= 14 \\text{e}^{-t} - 48 \\text{e}^{-2t}\n",
    "$$\n",
    "\n",
    "Lastly, for us to use the Newton-Raphson method,\n",
    "we have\n",
    "\n",
    "$$\n",
    "\\frac{\\text{d}f}{\\text{d}t}\n",
    "=\n",
    "\\frac{\\text{d}^{2}V}{\\text{d}t^{2}}\n",
    "=\n",
    "-14 \\text{e}^{-t} + 96 \\text{e}^{-2t}\n",
    "$$"
   ]
  },
  {
   "cell_type": "code",
   "execution_count": 2,
   "id": "f550cba7",
   "metadata": {},
   "outputs": [],
   "source": [
    "def f(t):\n",
    "    return (14. * mt.exp(-t)) - (48. * mt.exp(-2*t))\n",
    "\n",
    "def df(t):\n",
    "    return (-14. * mt.exp(-t)) + (96. * mt.exp(-2*t))\n",
    "\n",
    "def v_L(t):\n",
    "    return (-14. * mt.exp(-t)) + (24. * mt.exp(-2*t))"
   ]
  },
  {
   "cell_type": "markdown",
   "id": "72b386cb",
   "metadata": {},
   "source": [
    "Use the Newton-Raphson method to find the root of $f\\!\\left(t\\right)$.\n",
    "\n",
    "Define the Python variable `T0` that will store the initial estimate of the root.\n",
    "Run\n",
    "[`scipy.optimize.newton()`](https://docs.scipy.org/doc/scipy/reference/generated/scipy.optimize.newton.html)\n",
    "such that you get the (approximate) root as well as convergence information,\n",
    "and store the said outputs in Python variables `t_nr` and `t_nr_info`, respectively.\n",
    "You may provide non-default values to the tolerances and to the iteration budget.\n",
    "\n",
    "In the succeeding code cell,\n",
    "replace the `pass` statement with your code."
   ]
  },
  {
   "cell_type": "code",
   "execution_count": 3,
   "id": "0504cc34",
   "metadata": {},
   "outputs": [
    {
     "name": "stdout",
     "output_type": "stream",
     "text": [
      "Finding a root starting at 1:\n",
      "      converged: True\n",
      "           flag: converged\n",
      " function_calls: 10\n",
      "     iterations: 5\n",
      "           root: 1.2321436812926325\n",
      "         method: newton\n"
     ]
    }
   ],
   "source": [
    "T0 = 1\n",
    "print(f\"Finding a root starting at {T0}:\")\n",
    "t_nr, t_nr_info = spo.newton(\n",
    "    f, T0, fprime = df,\n",
    "    full_output = True, disp = False\n",
    ")\n",
    "print(t_nr_info)"
   ]
  },
  {
   "cell_type": "markdown",
   "id": "fda25422",
   "metadata": {},
   "source": [
    "## Results and discussion"
   ]
  },
  {
   "cell_type": "code",
   "execution_count": 4,
   "id": "8eceda5f",
   "metadata": {},
   "outputs": [
    {
     "name": "stdout",
     "output_type": "stream",
     "text": [
      "Residual value: 1.7763568394002505e-15\n"
     ]
    }
   ],
   "source": [
    "print(f\"Residual value: {f(t_nr)}\")"
   ]
  },
  {
   "cell_type": "code",
   "execution_count": 5,
   "id": "01337f28",
   "metadata": {},
   "outputs": [
    {
     "name": "stdout",
     "output_type": "stream",
     "text": [
      "The minimum voltage across the equivalent-inductance element is -2.0416666666666674 volts, which occurs at 5.232143681292633 seconds.\n"
     ]
    }
   ],
   "source": [
    "print(\n",
    "    \"The minimum voltage across the equivalent-inductance element is \"\n",
    "    f\"{v_L(t_nr)} volts, \"\n",
    "    f\"which occurs at {t_nr + 4} seconds.\"\n",
    ")"
   ]
  },
  {
   "cell_type": "markdown",
   "id": "d58e4004",
   "metadata": {},
   "source": [
    "## Some things to consider"
   ]
  },
  {
   "cell_type": "markdown",
   "id": "d92bbcb2",
   "metadata": {},
   "source": [
    "- A straightforward variation of this problem is when\n",
    "  the equivalent resistance, equivalent inductance, and equivalent capacitance\n",
    "  are of such values as to render the circuit underdamped or critically damped.\n",
    "- What happens if the equivalent lumped parameters are in series?\n",
    "- It might resemble practical interest to determine the time it takes\n",
    "  for some electrical quantity to reach some value.\n",
    "- At which values of the initial estimate of the root\n",
    "  will Newton-Raphson runs converge to a root?"
   ]
  }
 ],
 "metadata": {
  "kernelspec": {
   "display_name": "eee102",
   "language": "python",
   "name": "python3"
  },
  "language_info": {
   "codemirror_mode": {
    "name": "ipython",
    "version": 3
   },
   "file_extension": ".py",
   "mimetype": "text/x-python",
   "name": "python",
   "nbconvert_exporter": "python",
   "pygments_lexer": "ipython3",
   "version": "3.12.5"
  }
 },
 "nbformat": 4,
 "nbformat_minor": 5
}
