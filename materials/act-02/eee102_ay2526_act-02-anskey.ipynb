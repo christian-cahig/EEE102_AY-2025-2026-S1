{
 "cells": [
  {
   "cell_type": "markdown",
   "id": "13cf196a",
   "metadata": {},
   "source": [
    "# Sample answer to Activity 2\n",
    "\n",
    "*Last updated by Christian Cahig on 2025-10-06*"
   ]
  },
  {
   "cell_type": "markdown",
   "id": "242dd356",
   "metadata": {},
   "source": [
    "## Imports"
   ]
  },
  {
   "cell_type": "code",
   "execution_count": 6,
   "id": "c5809293",
   "metadata": {},
   "outputs": [],
   "source": [
    "import math as mt\n",
    "\n",
    "import scipy.optimize as spo"
   ]
  },
  {
   "cell_type": "markdown",
   "id": "b459de5d",
   "metadata": {},
   "source": [
    "## Scenario"
   ]
  },
  {
   "cell_type": "markdown",
   "id": "9f5fd5c0",
   "metadata": {},
   "source": [
    "You are a power systems engineer tasked to analyze two customer loads and served at a common bus.\n",
    "The bus is at the receiving end of a feeder line extending from the utility system.\n",
    "\n",
    "One of the loads is estimated to be 400 kilowatts at a lagging power factor of 0.85,\n",
    "while the other is rated 300 kilovars at a lagging power factor of 0.75.\n",
    "\n",
    "Records show that the feeder line impedance is rated 1.00 + j2.50 ohms.\n",
    "If it is reasonable to assume that the utility system's RMS voltage hovers around 13.8 kilovolts,\n",
    "at what RMS voltage are the loads served?"
   ]
  },
  {
   "cell_type": "markdown",
   "id": "5b68728e",
   "metadata": {},
   "source": [
    "You are to approach this as a root-finding problem,\n",
    "and so must first derive a function $f\\!\\left(V\\right)$\n",
    "whose root corresponds to the desired quantity."
   ]
  },
  {
   "cell_type": "markdown",
   "id": "47843f07",
   "metadata": {},
   "source": [
    "## Modelling"
   ]
  },
  {
   "cell_type": "markdown",
   "id": "38ad7de4",
   "metadata": {},
   "source": [
    "The scenario describes a radial topology:\n",
    "power flows from where the feeder line connects to the utility system,\n",
    "through the feeder line,\n",
    "and to the common bus.\n",
    "See [./fig-01.png](./fig-01.png).\n",
    "\n",
    "Without any more information,\n",
    "we assume we are dealing with steady-state sinusoidal signals.\n",
    "This allows us to use frequency-domain analysis via phasor representation.\n",
    "Furthermore, we can set the voltage phasor at the common bus to have the reference phase angle,\n",
    "and the voltage phasor \"upstream\" we can set to have some phase angle $\\theta$.\n",
    "As such, we can arrive at the following relation:\n",
    "\n",
    "$$\n",
    "13.8 \\angle \\theta = V \\angle 0 + (1 + j2.5) I_{\\text{load}},\n",
    "$$\n",
    "\n",
    "where $V$ is the magnitude (in kilovolts) of the voltage phasor at the common bus,\n",
    "and $I_{\\text{load}}$ is the total current (in kiloamperes) through the feeder line,\n",
    "as induced by the loads.\n",
    "Moreover,\n",
    "\n",
    "$$\n",
    "\\left(V \\angle 0\\right) \\operatorname{conj}\\!\\left( I_{\\text{load}} \\right)\n",
    "=\n",
    "\\frac{0.4}{0.85} \\angle\\arccos\\!\\left(0.85\\right)\n",
    "+\n",
    "\\frac{0.3}{\\sin\\!\\left(\\arccos\\!\\left(0.75\\right)\\right)} \\angle\\arccos\\!\\left(0.75\\right).\n",
    "$$\n",
    "\n",
    "It is then straightforward to arrive at\n",
    "\n",
    "$$\n",
    "13.8^{2} = \\left(V + \\frac{2.109912364}{V}\\right)^{2} + \\left(\\frac{1.302522329}{V}\\right)^{2},\n",
    "$$\n",
    "\n",
    "and so a plausible univariate function to root-find is\n",
    "\n",
    "$$\n",
    "f\\!\\left(V\\right) = \n",
    "\\left(V + \\frac{2.109912364}{V}\\right)^{2} + \\left(\\frac{1.302522329}{V}\\right)^{2}\n",
    "- 13.8^{2}.\n",
    "$$\n",
    "\n",
    "Then, to be able to use Newton-Raphson,\n",
    "\n",
    "$$\n",
    "f^{\\prime}\\!\\left(V\\right) = \n",
    "2 \\left(V + \\frac{2.109912364}{V}\\right) \\left(1 - \\frac{2.109912364}{V^{2}}\\right)\n",
    "-\n",
    "2 \\left(\\frac{1.302522329}{V}\\right) \\left(\\frac{1.302522329}{V^{2}}\\right)\n",
    ".\n",
    "$$"
   ]
  },
  {
   "cell_type": "markdown",
   "id": "5ed56af3",
   "metadata": {},
   "source": [
    "## Newton-Raphson"
   ]
  },
  {
   "cell_type": "markdown",
   "id": "9038c957",
   "metadata": {},
   "source": [
    "Construct two Python functions:\n",
    "- `f()`, which implements $f\\!\\left(V\\right)$, and\n",
    "- `df_dV()`, which implements $f^{\\prime}\\!\\left(V\\right)$\n",
    "  (*i.e.*, the derivative of $f\\!\\left(V\\right)$ w.r.t. $V$).\n",
    "\n",
    "Each of the said Python functions takes a single positional argument `x`,\n",
    "representing $V$."
   ]
  },
  {
   "cell_type": "code",
   "execution_count": 7,
   "id": "bdbd41f8",
   "metadata": {},
   "outputs": [],
   "source": [
    "def f(x):\n",
    "    return (x + (2.109912364 / x))**2 + (1.302522329 / x)**2 - 13.8**2\n",
    "\n",
    "def df_dV(x):\n",
    "    return (\n",
    "        2.0 * (x + (2.109912364 / x)) * (1.0 - (2.109912364 / (x**2)))\n",
    "    ) - (\n",
    "        2.0 * (1.302522329 / (x**2))\n",
    "    )"
   ]
  },
  {
   "cell_type": "markdown",
   "id": "761b494c",
   "metadata": {},
   "source": [
    "Use Newton-Raphson to find a root of $f\\!\\left(V\\right)$.\n",
    "Use an iteration budget of 42 and a tolerance of $10^{-7}$.\n",
    "\n",
    "Define the following variables.\n",
    "- `X0`, to store the initial guess\n",
    "- `MAX_ITERS`, to store the iteration budget\n",
    "- `X_TOL` to store the tolerance\n",
    "\n",
    "Run\n",
    "[`scipy.optimize.newton()`](https://docs.scipy.org/doc/scipy/reference/generated/scipy.optimize.newton.html)\n",
    "such that you get the (approximate) root as well as information concerning the run.\n",
    "Store the root and the information in variables `p_nr` and `p_nr_info`, respectively.\n",
    "Make sure to verify if the returned root is indeed a root."
   ]
  },
  {
   "cell_type": "code",
   "execution_count": 8,
   "id": "e312d37e",
   "metadata": {},
   "outputs": [],
   "source": [
    "X0 = 13.8\n",
    "MAX_ITERS = 42\n",
    "X_TOL = 1e-7\n",
    "\n",
    "p_nr, p_nr_info = spo.newton(\n",
    "    f, X0, fprime=df_dV,\n",
    "    tol=X_TOL, maxiter=MAX_ITERS,\n",
    "    full_output=True, disp=False\n",
    ")"
   ]
  },
  {
   "cell_type": "markdown",
   "id": "31afdfab",
   "metadata": {},
   "source": [
    "## Results\n",
    "\n",
    "Do not modify nor remove the following code cell."
   ]
  },
  {
   "cell_type": "code",
   "execution_count": 9,
   "id": "83df63f6",
   "metadata": {},
   "outputs": [
    {
     "name": "stdout",
     "output_type": "stream",
     "text": [
      "Finding a root from 13.8 kilovolts:\n",
      "      converged: True\n",
      "           flag: converged\n",
      " function_calls: 8\n",
      "     iterations: 4\n",
      "           root: 13.645041339311808\n",
      "         method: newton\n",
      "Residual value: -2.0463630789890885e-12\n"
     ]
    }
   ],
   "source": [
    "print(f\"Finding a root from {X0} kilovolts:\")\n",
    "print(p_nr_info)\n",
    "print(f\"Residual value: {f(p_nr)}\")"
   ]
  },
  {
   "cell_type": "code",
   "execution_count": 10,
   "id": "b487c667",
   "metadata": {},
   "outputs": [
    {
     "name": "stdout",
     "output_type": "stream",
     "text": [
      "The RMS voltage at the common bus is 13.645041339311808 kilovolts.\n"
     ]
    }
   ],
   "source": [
    "print(f\"The RMS voltage at the common bus is {p_nr} kilovolts.\")"
   ]
  },
  {
   "cell_type": "markdown",
   "id": "a9cc2bf6",
   "metadata": {},
   "source": [
    "## Some things to consider\n",
    "\n",
    "- Due to the radial topology,\n",
    "it is reasonable to expect\n",
    "the RMS voltage at the common bus to be smaller in magnitude\n",
    "than that at which the feeder is coupled to the utility system.\n",
    "\n",
    "- It is therefore practically reasonable to set the initial estimate to something near (or slightly less than)\n",
    "  the utility system voltage level. \n",
    "\n",
    "- Try to make the convergence criterion stricter\n",
    "and verify if the run indeed takes more iterations.\n",
    "\n",
    "- What about a different $f\\!\\left(V\\right)$?\n",
    "\n",
    "- Does $f\\!\\left(V\\right)$ have other roots?"
   ]
  }
 ],
 "metadata": {
  "kernelspec": {
   "display_name": "eee102",
   "language": "python",
   "name": "python3"
  },
  "language_info": {
   "codemirror_mode": {
    "name": "ipython",
    "version": 3
   },
   "file_extension": ".py",
   "mimetype": "text/x-python",
   "name": "python",
   "nbconvert_exporter": "python",
   "pygments_lexer": "ipython3",
   "version": "3.12.5"
  }
 },
 "nbformat": 4,
 "nbformat_minor": 5
}
