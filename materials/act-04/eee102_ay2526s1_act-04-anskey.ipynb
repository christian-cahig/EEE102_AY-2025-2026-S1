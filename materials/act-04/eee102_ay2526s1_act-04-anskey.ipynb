{
 "cells": [
  {
   "cell_type": "markdown",
   "id": "05a8cc99",
   "metadata": {},
   "source": [
    "# Answer key for Activity 4\n",
    "\n",
    "*Last updated by Christian Cahig on 2025-10-13*"
   ]
  },
  {
   "cell_type": "markdown",
   "id": "81b76d77",
   "metadata": {},
   "source": [
    "## Imports"
   ]
  },
  {
   "cell_type": "code",
   "execution_count": 1,
   "id": "b8f40eff",
   "metadata": {},
   "outputs": [],
   "source": [
    "import math as mt\n",
    "\n",
    "import scipy.optimize as spo"
   ]
  },
  {
   "cell_type": "markdown",
   "id": "e38d8b0a",
   "metadata": {},
   "source": [
    "## Scenario"
   ]
  },
  {
   "cell_type": "markdown",
   "id": "77006f54",
   "metadata": {},
   "source": [
    "Suppose you have a second-order circuit that can be reduced into\n",
    "an equivalent resistance $R$\n",
    "parallel-connected to\n",
    "an equivalent inductance $L$\n",
    "as well as to\n",
    "an equivalent capacitance $C$\n",
    "(see [diagram](./act-04.png)).\n",
    "The said model is only valid over the interval $4 \\leq t \\leq 21$ seconds."
   ]
  },
  {
   "cell_type": "markdown",
   "id": "a39a3d28",
   "metadata": {},
   "source": [
    "Determine:\n",
    "- the minimum voltage across the equivalent-inductance element,\n",
    "  and\n",
    "- when the voltage across the equivalent-resistance element is a minimum,\n",
    "\n",
    "for when:\n",
    "- $C = 500$ millifarads,\n",
    "- $R = \\frac{2}{3}$ ohms,\n",
    "  and\n",
    "- $L = 1000$ millihenrys,\n",
    "\n",
    "provided that \n",
    "$V = 10$ volts\n",
    "and\n",
    "$I = 2$ amperes\n",
    "at the start of the applicable interval."
   ]
  },
  {
   "cell_type": "markdown",
   "id": "b663b2f8",
   "metadata": {},
   "source": [
    "## Modelling"
   ]
  },
  {
   "cell_type": "markdown",
   "id": "d09cc978",
   "metadata": {},
   "source": [
    "Elementary circuit theory informs us that\n",
    "$V$ is a natural response of an overdamped second-order circuit.\n",
    "Committing the computations to the care of one's due diligence,\n",
    "it is inevitable to arrive at\n",
    "\n",
    "$$\n",
    "V\\!\\left(t-4\\right)\n",
    "=\n",
    "-14 \\text{e}^{-\\left(t - 4\\right)}\n",
    "+ 24 \\text{e}^{-2 \\left(t - 4\\right)}\n",
    "$$\n",
    "\n",
    "Obviously,\n",
    "$V$ is the voltage across the equivalent-inductance element,\n",
    "as well as the voltage across the equivalent-resistance element.\n",
    "Moreover,\n",
    "since we are concerned with a single time interval,\n",
    "we can shift the interval so that it starts at $t = 0$, i.e.,\n",
    "\n",
    "$$\n",
    "V\\!\\left(t\\right)\n",
    "=\n",
    "-14 \\text{e}^{-t}\n",
    "+ 24 \\text{e}^{-2 t}\n",
    "$$\n",
    "\n",
    "We just have to be mindful enough to revert the time shift\n",
    "when it is desired to answer inquiries concerning points in time.\n",
    "\n",
    "Now, $V\\!\\left(t\\right)$ is continuous,\n",
    "and so its time-derivative at extrema is equal to zero.\n",
    "Therefore,\n",
    "\n",
    "$$\n",
    "f\\!\\left(t\\right)\n",
    "=\n",
    "\\frac{\\text{d}V}{\\text{d}t}\n",
    "= 14 \\text{e}^{-t} - 48 \\text{e}^{-2t}\n",
    "$$"
   ]
  },
  {
   "cell_type": "code",
   "execution_count": 2,
   "id": "f550cba7",
   "metadata": {},
   "outputs": [],
   "source": [
    "def f(t):\n",
    "    return (14. * mt.exp(-t)) - (48. * mt.exp(-2*t))\n",
    "\n",
    "def v_L(t):\n",
    "    return (-14. * mt.exp(-t)) + (24. * mt.exp(-2*t))"
   ]
  },
  {
   "cell_type": "markdown",
   "id": "ca5e5cc0",
   "metadata": {},
   "source": [
    "Use bisection method to find the root of $f\\!\\left(t\\right)$.\n",
    "\n",
    "Define Python variables `TL` and `TU`\n",
    "to which are respectively assigned the lower and the upper end of the search interval.\n",
    "Run\n",
    "[`scipy.optimize.bisect()`](https://docs.scipy.org/doc/scipy/reference/generated/scipy.optimize.bisect.html)\n",
    "such that you get the (approximate) root as well as information concerning the root-finding process,\n",
    "where the said outputs are stored in Python variables `t_bs` and `t_bs_info`, respectively.\n",
    "Use default values for tolerances.\n",
    "\n",
    "In the succeeding code cell,\n",
    "replace the `pass` statement with your code."
   ]
  },
  {
   "cell_type": "code",
   "execution_count": 3,
   "id": "0504cc34",
   "metadata": {},
   "outputs": [
    {
     "name": "stdout",
     "output_type": "stream",
     "text": [
      "Finding a root in the interval [0.0, 17.0]:\n",
      "      converged: True\n",
      "           flag: converged\n",
      " function_calls: 45\n",
      "     iterations: 43\n",
      "           root: 1.2321436812923139\n",
      "         method: bisect\n"
     ]
    }
   ],
   "source": [
    "TL, TU = 0., 17.\n",
    "print(f\"Finding a root in the interval [{TL}, {TU}]:\")\n",
    "t_bs, t_bs_info = spo.bisect(\n",
    "    f, TL, TU,\n",
    "    maxiter = 700,\n",
    "    full_output = True, disp = False\n",
    ")\n",
    "print(t_bs_info)"
   ]
  },
  {
   "cell_type": "markdown",
   "id": "fda25422",
   "metadata": {},
   "source": [
    "## Results and discussion"
   ]
  },
  {
   "cell_type": "code",
   "execution_count": 4,
   "id": "8eceda5f",
   "metadata": {},
   "outputs": [
    {
     "name": "stdout",
     "output_type": "stream",
     "text": [
      "Residual value: -1.3002932064409833e-12\n"
     ]
    }
   ],
   "source": [
    "print(f\"Residual value: {f(t_bs)}\")"
   ]
  },
  {
   "cell_type": "code",
   "execution_count": 5,
   "id": "01337f28",
   "metadata": {},
   "outputs": [
    {
     "name": "stdout",
     "output_type": "stream",
     "text": [
      "The minimum voltage across the equivalent-inductance element is -2.041666666666667 volts, which occurs at 5.232143681292314 seconds.\n"
     ]
    }
   ],
   "source": [
    "print(\n",
    "    \"The minimum voltage across the equivalent-inductance element is \"\n",
    "    f\"{v_L(t_bs)} volts, \"\n",
    "    f\"which occurs at {t_bs + 4} seconds.\"\n",
    ")"
   ]
  },
  {
   "cell_type": "markdown",
   "id": "72db5291",
   "metadata": {},
   "source": [
    "## Some things to consider"
   ]
  },
  {
   "cell_type": "markdown",
   "id": "5f0d074b",
   "metadata": {},
   "source": [
    "- A straightforward variation of this problem is when\n",
    "  the equivalent resistance, equivalent inductance, and equivalent capacitance\n",
    "  are of such values as to render the circuit underdamped or critically damped.\n",
    "- What happens if the equivalent lumped parameters are in series?\n",
    "- It might resemble practical interest to determine the time it takes\n",
    "  for some electrical quantity to reach some value."
   ]
  }
 ],
 "metadata": {
  "kernelspec": {
   "display_name": "eee102",
   "language": "python",
   "name": "python3"
  },
  "language_info": {
   "codemirror_mode": {
    "name": "ipython",
    "version": 3
   },
   "file_extension": ".py",
   "mimetype": "text/x-python",
   "name": "python",
   "nbconvert_exporter": "python",
   "pygments_lexer": "ipython3",
   "version": "3.12.5"
  }
 },
 "nbformat": 4,
 "nbformat_minor": 5
}
