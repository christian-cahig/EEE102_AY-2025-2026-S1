{
 "cells": [
  {
   "cell_type": "markdown",
   "id": "05a8cc99",
   "metadata": {},
   "source": [
    "# Activity 4\n",
    "\n",
    "This activity is an application of the bisection method for univariate root-finding."
   ]
  },
  {
   "cell_type": "markdown",
   "id": "81b76d77",
   "metadata": {},
   "source": [
    "## Imports"
   ]
  },
  {
   "cell_type": "markdown",
   "id": "73cc1a5b",
   "metadata": {},
   "source": [
    "If you wish to import other packages and/or modules,\n",
    "add a blank line after importing `scipy.optimize` in the following code cell,\n",
    "followed by the comment line `# Custom imports`,\n",
    "after which your additional imports should be disclosed.\n",
    "For example, to use NumPy, the succeeding code cell should show\n",
    "\n",
    ">> ```python\n",
    ">> import math as mt\n",
    ">> \n",
    ">> import scipy.optimize as spo\n",
    ">> \n",
    ">> # Custom imports\n",
    ">> import numpy as np\n",
    ">> ```"
   ]
  },
  {
   "cell_type": "code",
   "execution_count": 1,
   "id": "b8f40eff",
   "metadata": {},
   "outputs": [],
   "source": [
    "import math as mt\n",
    "\n",
    "import scipy.optimize as spo\n",
    "\n",
    "# Custom imports\n",
    "import numpy as np"
   ]
  },
  {
   "cell_type": "markdown",
   "id": "e38d8b0a",
   "metadata": {},
   "source": [
    "## Scenario"
   ]
  },
  {
   "cell_type": "markdown",
   "id": "77006f54",
   "metadata": {},
   "source": [
    "Suppose you have a second-order circuit that can be reduced into\n",
    "an equivalent resistance $R$\n",
    "parallel-connected to\n",
    "an equivalent inductance $L$\n",
    "as well as to\n",
    "an equivalent capacitance $C$\n",
    "(see [diagram](./act-04.png)).\n",
    "The said model is only valid over the interval $4 \\leq t \\leq 21$ seconds."
   ]
  },
  {
   "cell_type": "markdown",
   "id": "a39a3d28",
   "metadata": {},
   "source": [
    "Determine:\n",
    "- the minimum voltage across the equivalent-inductance element,\n",
    "  and\n",
    "- when the voltage across the equivalent-resistance element is a minimum,\n",
    "\n",
    "for when:\n",
    "- $C = 500$ millifarads,\n",
    "- $R = \\frac{2}{3}$ ohms,\n",
    "  and\n",
    "- $L = 1000$ millihenrys,\n",
    "\n",
    "provided that \n",
    "$V = 10$ volts\n",
    "and\n",
    "$I = 2$ amperes\n",
    "at the start of the applicable interval."
   ]
  },
  {
   "cell_type": "markdown",
   "id": "b663b2f8",
   "metadata": {},
   "source": [
    "## Modelling"
   ]
  },
  {
   "cell_type": "markdown",
   "id": "3cf9a6f3",
   "metadata": {},
   "source": [
    "Derive $f\\!\\left(t\\right)$ whose root corresponds to when the voltage across the equivalent-resistance element is a minimum.\n",
    "Then, derive an expression of $V\\!\\left(t\\right)$ across the equivalent-inductance element."
   ]
  },
  {
   "cell_type": "markdown",
   "id": "75976f2a",
   "metadata": {},
   "source": [
    "Construct two Python functions,\n",
    "`f()` and `v_L()`,\n",
    "that implement $f\\!\\left(t\\right)$ and $V\\!\\left(t\\right)$, respectively.\n",
    "Both `f()` and `v_L()` take a single positional argument `t`.\n",
    "\n",
    "In the succeeding code cell,\n",
    "replace the `pass` statement with your code.\n"
   ]
  },
  {
   "cell_type": "markdown",
   "id": "aa1837b6",
   "metadata": {},
   "source": [
    "This follows a source-free RLC circuit with interval (4 ≤ t ≤ 21) where through derivation via KCL at the top node, we get:\n",
    "\n",
    "$$V'' + (1/RC)V' + (1/LC)V = 0$$\n",
    "\n",
    "where the values of R, L, and C are given above.\n",
    "\n",
    "Initial conditions (at t = 4):\n",
    "\n",
    "$$V(4) = 10 V$$\n",
    "$$IL(4) = 2 A$$\n",
    "\n",
    "and since the elements R, L, and C are connected in parallel, the voltage across each branch is equal:\n",
    "$$V_R = V_L = V_C = V(t)$$\n",
    "\n",
    "However, in a parallel circuit, the current in each branch is not equal.  \n",
    "Applying KCL at t = 4 gives:\n",
    "\n",
    "$$0 = I_R(4) + I_C(4) + I_L(4) = \\frac{V(4)}{R} + C\\frac{dV}{dt} + I_L(4)$$\n",
    "\n",
    "Rearranging for the derivative gives:\n",
    "\n",
    "$$\\frac{dV}{dt} = V'(t) = -\\frac{I_L(4) + \\frac{V(4)}{R}}{C}$$\n",
    "\n",
    "Substituting the given values:\n",
    "$$\\frac{dV}{dt} = -\\frac{[2 + \\frac{10}{\\frac{2}{3}}]}{0.5} = -34 \\frac{V}{s}$$\n",
    "\n",
    "Next, using α = $\\frac{1}{(2RC)}$ and ω₀ = $\\frac{1}{√(LC)}$, we can find the damping coefficient and natural frequency:\n",
    "\n",
    "$$α = 0.75$$\n",
    "$$ω₀ = 1.0$$\n",
    "\n",
    "Since α² > ω₀² (2.25 > 1.0), the circuit is **overdamped**.\n",
    "\n",
    "Using the characteristic equation:\n",
    "\n",
    "$$s_{1,2} = -\\frac{1}{2RC} \\pm \\sqrt{\\left(\\frac{1}{2RC}\\right)^2 - \\frac{1}{LC}}$$\n",
    "\n",
    "We get the roots:\n",
    "\n",
    "$$s_1 = -1, \\quad s_2 = -2$$\n",
    "\n",
    "Thus, the general solution for voltage(substituting the values of $s_1$ and $s_2$ ):\n",
    "\n",
    "$$V(t) = C_1 e^{-t} + C_2 e^{-2t}$$\n",
    "\n",
    "Differentiating with respect to time gives:\n",
    "\n",
    "$$f(t) = V'(t) = -C_1 e^{-t} - 2C_2 e^{-2t}$$\n",
    "\n",
    "At the minimum point of \\( f(t) \\), the second derivative \\( f'(t) \\) should be positive to verify a local minimum.\n",
    "\n",
    "Using the initial conditions:\n",
    "\n",
    "$$V(4) = 10$$\n",
    "\n",
    "$$V'(4) = -34$$\n",
    "\n",
    "we can solve for $C_1 $ and $C_2$, giving approximately:\n",
    "\n",
    "$$C_1 \\approx -764.374 \\; (\\approx -14e^4$$\n",
    "\n",
    "$$C_2 \\approx 71542.992 \\; (\\approx 24e^8)$$"
   ]
  },
  {
   "cell_type": "code",
   "execution_count": 2,
   "id": "f550cba7",
   "metadata": {},
   "outputs": [],
   "source": [
    "C = 0.5 #Farad\n",
    "R = 2/3 #Ohm\n",
    "L = 1 #Henry\n",
    "\n",
    "s_1 = -1\n",
    "s_2 = -2 \n",
    "C_1 = -14*mt.exp(4)\n",
    "C_2 = 24*mt.exp(8)\n",
    "\n",
    "def V_L(t): \n",
    "    V = C_1*mt.exp(r_1*t) + C_2*mt.exp(r_2*t) \n",
    "    return V\n",
    "\n",
    "def resid_from_x(t): \n",
    "    V_prime = r_1*C_1*mt.exp(r_1*t) + r_2*C_2*mt.exp(r_2*t)\n",
    "    return V_prime"
   ]
  },
  {
   "cell_type": "code",
   "execution_count": 3,
   "id": "0504cc34",
   "metadata": {},
   "outputs": [
    {
     "ename": "NameError",
     "evalue": "name 'f' is not defined",
     "output_type": "error",
     "traceback": [
      "\u001b[0;31m---------------------------------------------------------------------------\u001b[0m",
      "\u001b[0;31mNameError\u001b[0m                                 Traceback (most recent call last)",
      "Cell \u001b[0;32mIn[3], line 7\u001b[0m\n\u001b[1;32m      3\u001b[0m TOL \u001b[38;5;241m=\u001b[39m \u001b[38;5;241m1e-7\u001b[39m  \n\u001b[1;32m      4\u001b[0m \u001b[38;5;66;03m#using standard values for iteration and tolerance\u001b[39;00m\n\u001b[1;32m      6\u001b[0m t_bs, t_bs_info \u001b[38;5;241m=\u001b[39m spo\u001b[38;5;241m.\u001b[39mbisect(\n\u001b[0;32m----> 7\u001b[0m     \u001b[43mf\u001b[49m, TL,TU,\n\u001b[1;32m      8\u001b[0m     rtol \u001b[38;5;241m=\u001b[39m TOL, maxiter \u001b[38;5;241m=\u001b[39m MAX_I,\n\u001b[1;32m      9\u001b[0m     full_output \u001b[38;5;241m=\u001b[39m \u001b[38;5;28;01mTrue\u001b[39;00m, disp \u001b[38;5;241m=\u001b[39m \u001b[38;5;28;01mFalse\u001b[39;00m, )\n\u001b[1;32m     11\u001b[0m \u001b[38;5;28mprint\u001b[39m(\u001b[38;5;124mf\u001b[39m\u001b[38;5;124m\"\u001b[39m\u001b[38;5;124mFinding a root in the interval [\u001b[39m\u001b[38;5;132;01m{\u001b[39;00mTL\u001b[38;5;132;01m}\u001b[39;00m\u001b[38;5;124m, \u001b[39m\u001b[38;5;132;01m{\u001b[39;00mTU\u001b[38;5;132;01m}\u001b[39;00m\u001b[38;5;124m]:\u001b[39m\u001b[38;5;124m\"\u001b[39m)\n",
      "\u001b[0;31mNameError\u001b[0m: name 'f' is not defined"
     ]
    }
   ],
   "source": [
    "TL, TU = 4, 21\n",
    "MAX_I = 750 \n",
    "TOL = 1e-7  \n",
    "#using standard values for iteration and tolerance\n",
    "\n",
    "t_bs, t_bs_info = spo.bisect(\n",
    "    f, TL,TU,\n",
    "    rtol = TOL, maxiter = MAX_I,\n",
    "    full_output = True, disp = False, )\n",
    "\n",
    "print(f\"Finding a root in the interval [{TL}, {TU}]:\")"
   ]
  },
  {
   "cell_type": "markdown",
   "id": "ca5e5cc0",
   "metadata": {},
   "source": [
    "Use bisection method to find the root of $f\\!\\left(t\\right)$.\n",
    "\n",
    "Define Python variables `TL` and `TU`\n",
    "to which are respectively assigned the lower and the upper end of the search interval.\n",
    "Run\n",
    "[`scipy.optimize.bisect()`](https://docs.scipy.org/doc/scipy/reference/generated/scipy.optimize.bisect.html)\n",
    "such that you get the (approximate) root as well as information concerning the root-finding process,\n",
    "where the said outputs are stored in Python variables `t_bs` and `t_bs_info`, respectively.\n",
    "Use default values for tolerances.\n",
    "\n",
    "In the succeeding code cell,\n",
    "replace the `pass` statement with your code."
   ]
  },
  {
   "cell_type": "code",
   "execution_count": null,
   "id": "1d385184",
   "metadata": {},
   "outputs": [],
   "source": [
    "print(t_bs_info)"
   ]
  },
  {
   "cell_type": "markdown",
   "id": "fda25422",
   "metadata": {},
   "source": [
    "## Results and discussion"
   ]
  },
  {
   "cell_type": "markdown",
   "id": "cecfe23b",
   "metadata": {},
   "source": [
    "Verify if the obtained (approximate) root is indeed the root\n",
    "by printing the corresponding value of $f\\!\\left(t\\right)$.\n",
    "The printed display should follow the following format\n",
    "\n",
    ">> Residual value: 1.23456790e-07\n",
    "\n",
    "where 1.23456790e-07 is just an exemplar value.\n",
    "\n",
    "In the succeeding code cell,\n",
    "replace the `pass` statement with your code."
   ]
  },
  {
   "cell_type": "code",
   "execution_count": null,
   "id": "8eceda5f",
   "metadata": {},
   "outputs": [],
   "source": [
    "print(f\"Residual value: {f(t_bs)}\") #must be infinitely close to 0"
   ]
  },
  {
   "cell_type": "markdown",
   "id": "78133b5a",
   "metadata": {},
   "source": [
    "Print the minimum voltage across the equivalent-inductance element,\n",
    "such that the output follows the following:\n",
    "\n",
    ">> The minimum voltage across the equivalent-inductance element is 1.234567 volts.\n",
    "\n",
    "where 1.234567 is just an examplar value for the said minimum voltage.\n",
    "\n",
    "In the succeeding code cell,\n",
    "replace the `pass` statement with your code."
   ]
  },
  {
   "cell_type": "code",
   "execution_count": null,
   "id": "01337f28",
   "metadata": {},
   "outputs": [],
   "source": [
    "print(f\"The minimum voltage across the equivalent-inductance element is {V_L(t_bs)} volts.\")\n"
   ]
  },
  {
   "cell_type": "markdown",
   "id": "72db5291",
   "metadata": {},
   "source": [
    "## Submission instructions"
   ]
  },
  {
   "cell_type": "markdown",
   "id": "4791c660",
   "metadata": {},
   "source": [
    "Download this notebook file,\n",
    "and save with a filename following the pattern\n",
    "`ACT-04_<section>_<ID number>`,\n",
    "where the section is as reflected in your Google Classroom.\n",
    "For example, if your ID number is 2013-0024\n",
    "and you are enrolled to the M34W12 class,\n",
    "then your notebook should be named `ACT-04_M34W12_2013-0024.ipynb`.\n",
    "Submit your notebook via the classwork platform for this activity in Google Classroom.\n",
    "Submissions beyond the deadline will not be considered.\n",
    "\n",
    "Lastly, the use of AI tools to answer this exam is not prohibited,\n",
    "but it is of ethical interest to disclose such use.\n",
    "This is in line with the\n",
    "[MSU Policy on the Fair and Ethical Use of AI and Its Applications](https://www.msumain.edu.ph/wp-content/uploads/2024/05/MSU-Policy-on-Ethical-use-of-AI-Policies.pdf).\n",
    "As such, please include a brief statement (in a private comment to this classwork)\n",
    "declaring which and how AI tools are used in your work."
   ]
  },
  {
   "cell_type": "markdown",
   "id": "6cb55aa8",
   "metadata": {},
   "source": [
    "*Last updated by Christian Cahig on 2025-10-09*"
   ]
  }
 ],
 "metadata": {
  "kernelspec": {
   "display_name": "eee102",
   "language": "python",
   "name": "python3"
  },
  "language_info": {
   "codemirror_mode": {
    "name": "ipython",
    "version": 3
   },
   "file_extension": ".py",
   "mimetype": "text/x-python",
   "name": "python",
   "nbconvert_exporter": "python",
   "pygments_lexer": "ipython3",
   "version": "3.12.5"
  }
 },
 "nbformat": 4,
 "nbformat_minor": 5
}
