{
 "cells": [
  {
   "cell_type": "markdown",
   "id": "05a8cc99",
   "metadata": {},
   "source": [
    "# Activity 4\n",
    "\n",
    "This activity is an application of the bisection method for univariate root-finding."
   ]
  },
  {
   "cell_type": "markdown",
   "id": "81b76d77",
   "metadata": {},
   "source": [
    "## Imports"
   ]
  },
  {
   "cell_type": "markdown",
   "id": "73cc1a5b",
   "metadata": {},
   "source": [
    "If you wish to import other packages and/or modules,\n",
    "add a blank line after importing `scipy.optimize` in the following code cell,\n",
    "followed by the comment line `# Custom imports`,\n",
    "after which your additional imports should be disclosed.\n",
    "For example, to use NumPy, the succeeding code cell should show\n",
    "\n",
    ">> ```python\n",
    ">> import math as mt\n",
    ">> \n",
    ">> import scipy.optimize as spo\n",
    ">> \n",
    ">> # Custom imports\n",
    ">> import numpy as np\n",
    ">> ```"
   ]
  },
  {
   "cell_type": "code",
   "execution_count": 1,
   "id": "b8f40eff",
   "metadata": {},
   "outputs": [
    {
     "name": "stdout",
     "output_type": "stream",
     "text": [
      "1.14.1\n"
     ]
    }
   ],
   "source": [
    "import math as mt\n",
    "\n",
    "import scipy.optimize as spo\n",
    "\n",
    "# Custom imports\n",
    "import numpy as np\n",
    "\n",
    "import scipy\n",
    "print(scipy.__version__)"
   ]
  },
  {
   "cell_type": "markdown",
   "id": "e38d8b0a",
   "metadata": {},
   "source": [
    "## Scenario"
   ]
  },
  {
   "cell_type": "markdown",
   "id": "77006f54",
   "metadata": {},
   "source": [
    "Suppose you have a second-order circuit that can be reduced into\n",
    "an equivalent resistance $R$\n",
    "parallel-connected to\n",
    "an equivalent inductance $L$\n",
    "as well as to\n",
    "an equivalent capacitance $C$\n",
    "(see [diagram](./act-04.png)).\n",
    "The said model is only valid over the interval $4 \\leq t \\leq 21$ seconds."
   ]
  },
  {
   "cell_type": "markdown",
   "id": "a39a3d28",
   "metadata": {},
   "source": [
    "Determine:\n",
    "- the minimum voltage across the equivalent-inductance element,\n",
    "  and\n",
    "- when the voltage across the equivalent-resistance element is a minimum,\n",
    "\n",
    "for when:\n",
    "- $C = 500$ millifarads,\n",
    "- $R = \\frac{2}{3}$ ohms,\n",
    "  and\n",
    "- $L = 1000$ millihenrys,\n",
    "\n",
    "provided that \n",
    "$V = 10$ volts\n",
    "and\n",
    "$I = 2$ amperes\n",
    "at the start of the applicable interval."
   ]
  },
  {
   "cell_type": "markdown",
   "id": "b663b2f8",
   "metadata": {},
   "source": [
    "## Modelling"
   ]
  },
  {
   "cell_type": "markdown",
   "id": "3cf9a6f3",
   "metadata": {},
   "source": [
    "Derive $f\\!\\left(t\\right)$ whose root corresponds to when the voltage across the equivalent-resistance element is a minimum.\n",
    "Then, derive an expression of $V\\!\\left(t\\right)$ across the equivalent-inductance element."
   ]
  },
  {
   "cell_type": "markdown",
   "id": "7a9ce8d0-03d6-49b4-98fc-22d0ae65d546",
   "metadata": {},
   "source": [
    "Construct two Python functions,\n",
    "`f()` and `v_L()`,\n",
    "that implement $f\\!\\left(t\\right)$ and $V\\!\\left(t\\right)$, respectively.\n",
    "Both `f()` and `v_L()` take a single positional argument `t`.\n",
    "\n",
    "In the succeeding code cell,\n",
    "replace the `pass` statement with your code.\n",
    "\n",
    "Parallel RLC Circuit \n",
    "\n",
    "using $\\alpha = \\frac{1}{2RC}$ and $\\omega_0 = \\frac{1}{\\sqrt{LC}}$, we solve for damping coefficient and damping frequency.\n",
    "Since $\\alpha^2$ is greater than $\\omega^2$, 2.25 and 2 respectively, the circuit is overdamped.\n",
    "\n",
    "using \n",
    "$$\n",
    "s_{1,2} = -\\frac{1}{2RC} \\pm \\sqrt{\\left( \\frac{1}{2RC} \\right)^2 - \\frac{1}{LC}}\n",
    "$$\n",
    "we solve for the roots of the characteristics\n",
    "\n",
    "$s_1 = -1$ and $s_2 = -2$\n",
    "\n",
    "$$\n",
    "V = A_1 e^{s_1 t} + A_2 e^{s_2 t} \\Rightarrow 10 = A_1 e^{-4} + A_2 e^{-8} \\quad \\text{at } t = 4\n",
    "$$\n",
    "\n",
    "KCL at bottom node gives \n",
    "$$\n",
    "0 = I_L + \\frac{V}{R} + C \\frac{dV}{dt}\n",
    "$$\n",
    "manipulation of formula gives $ \\quad \\frac{dV}{dt} = V' = -34 $\n",
    "\n",
    "$$\n",
    "V(t) = A_1 e^{s_1 t} + A_2 e^{s_2 t}\n",
    "$$\n",
    "$$\n",
    "f(t) = V'(t) = s_1 A_1 e^{s_1 t} + s_2 A_2 e^{s_2 t}\n",
    "$$\n",
    "\n",
    "Inputing data and solving for $A_1 $ and $A_2 $, we get\n",
    "\n",
    "$A_1 = -764.374$(approximate of its exponential value)$ = -14e^4$\n",
    "\n",
    "$A_2 = 71542.992$(approximate of its exponential value)$ = 24e^8$\n",
    "\n",
    "\n",
    " \n",
    "\n",
    "\n"
   ]
  },
  {
   "cell_type": "code",
   "execution_count": 2,
   "id": "3a577e18-2e95-4292-a5da-79298903b581",
   "metadata": {},
   "outputs": [],
   "source": [
    "s_1  = -1\n",
    "s_2 = -2 \n",
    "A_1 = -14 * np.exp(4)\n",
    "A_2 = 24 * np.exp(8)\n",
    "\n",
    "def v_L(t):\n",
    "    V = A_1 * np.exp(s_1 * t) + A_2 * np.exp(s_2 * t)\n",
    "    return V\n",
    "\n",
    "def f(t):\n",
    "    f = s_1 * A_1 * np.exp(s_1 * t) + s_2 * A_2 * np.exp(s_2 * t)\n",
    "    return f"
   ]
  },
  {
   "cell_type": "markdown",
   "id": "ca5e5cc0",
   "metadata": {},
   "source": [
    "Use bisection method to find the root of $f\\!\\left(t\\right)$.\n",
    "\n",
    "Define Python variables `TL` and `TU`\n",
    "to which are respectively assigned the lower and the upper end of the search interval.\n",
    "Run\n",
    "[`scipy.optimize.bisect()`](https://docs.scipy.org/doc/scipy/reference/generated/scipy.optimize.bisect.html)\n",
    "such that you get the (approximate) root as well as information concerning the root-finding process,\n",
    "where the said outputs are stored in Python variables `t_bs` and `t_bs_info`, respectively.\n",
    "Use default values for tolerances.\n",
    "\n",
    "In the succeeding code cell,\n",
    "replace the `pass` statement with your code."
   ]
  },
  {
   "cell_type": "code",
   "execution_count": 3,
   "id": "ef2a4f43-80d9-467a-b3a6-76f03c453fd9",
   "metadata": {},
   "outputs": [
    {
     "name": "stdout",
     "output_type": "stream",
     "text": [
      "Finding a root in the interval [4, 21]:\n"
     ]
    }
   ],
   "source": [
    "TL, TU = 4, 21\n",
    "MAX_TOL = 2e-12 # base on scipy page\n",
    "MAX_ITERS = 100  # base on scipy page\n",
    "\n",
    "print(f\"Finding a root in the interval [{TL}, {TU}]:\")\n",
    "\n",
    "t_bs, t_bs_info = spo.bisect(\n",
    "    f, TL,TU,\n",
    "    rtol = MAX_TOL, maxiter = MAX_ITERS,\n",
    "    full_output = True, disp = False,\n",
    ")"
   ]
  },
  {
   "cell_type": "code",
   "execution_count": 4,
   "id": "1d385184",
   "metadata": {},
   "outputs": [
    {
     "name": "stdout",
     "output_type": "stream",
     "text": [
      "      converged: True\n",
      "           flag: converged\n",
      " function_calls: 43\n",
      "     iterations: 41\n",
      "           root: 5.232143681290381\n",
      "         method: bisect\n"
     ]
    }
   ],
   "source": [
    "print(t_bs_info)"
   ]
  },
  {
   "cell_type": "markdown",
   "id": "fda25422",
   "metadata": {},
   "source": [
    "## Results and discussion"
   ]
  },
  {
   "cell_type": "markdown",
   "id": "cecfe23b",
   "metadata": {},
   "source": [
    "Verify if the obtained (approximate) root is indeed the root\n",
    "by printing the corresponding value of $f\\!\\left(t\\right)$.\n",
    "The printed display should follow the following format\n",
    "\n",
    ">> Residual value: 1.23456790e-07\n",
    "\n",
    "where 1.23456790e-07 is just an exemplar value.\n",
    "\n",
    "In the succeeding code cell,\n",
    "replace the `pass` statement with your code."
   ]
  },
  {
   "cell_type": "code",
   "execution_count": 5,
   "id": "8eceda5f",
   "metadata": {},
   "outputs": [
    {
     "name": "stdout",
     "output_type": "stream",
     "text": [
      "Residual value: -9.191758465476596e-12\n"
     ]
    }
   ],
   "source": [
    "print(f\"Residual value: {f(t_bs)}\")"
   ]
  },
  {
   "cell_type": "markdown",
   "id": "78133b5a",
   "metadata": {},
   "source": [
    "Print the minimum voltage across the equivalent-inductance element,\n",
    "such that the output follows the following:\n",
    "\n",
    ">> The minimum voltage across the equivalent-inductance element is 1.234567 volts.\n",
    "\n",
    "where 1.234567 is just an examplar value for the said minimum voltage.\n",
    "\n",
    "In the succeeding code cell,\n",
    "replace the `pass` statement with your code."
   ]
  },
  {
   "cell_type": "code",
   "execution_count": 6,
   "id": "01337f28",
   "metadata": {},
   "outputs": [
    {
     "name": "stdout",
     "output_type": "stream",
     "text": [
      "The minimum voltage across the equivalent-inductance element is -2.041666666666667 volts.\n"
     ]
    }
   ],
   "source": [
    "print(f\"The minimum voltage across the equivalent-inductance element is {v_L(t_bs)} volts.\")"
   ]
  },
  {
   "cell_type": "markdown",
   "id": "6cb55aa8",
   "metadata": {},
   "source": [
    "\n",
    "*Last updated by Christian Cahig on 2025-10-09*"
   ]
  },
  {
   "cell_type": "code",
   "execution_count": null,
   "id": "d49fa7fd-3c12-43ca-b899-b95f56305e5a",
   "metadata": {},
   "outputs": [],
   "source": []
  }
 ],
 "metadata": {
  "kernelspec": {
   "display_name": "eee102",
   "language": "python",
   "name": "python3"
  },
  "language_info": {
   "codemirror_mode": {
    "name": "ipython",
    "version": 3
   },
   "file_extension": ".py",
   "mimetype": "text/x-python",
   "name": "python",
   "nbconvert_exporter": "python",
   "pygments_lexer": "ipython3",
   "version": "3.12.5"
  }
 },
 "nbformat": 4,
 "nbformat_minor": 5
}
