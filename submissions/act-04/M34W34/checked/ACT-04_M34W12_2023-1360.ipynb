{
 "cells": [
  {
   "cell_type": "markdown",
   "id": "05a8cc99",
   "metadata": {},
   "source": [
    "# Activity 4\n",
    "\n",
    "This activity is an application of the bisection method for univariate root-finding."
   ]
  },
  {
   "cell_type": "markdown",
   "id": "81b76d77",
   "metadata": {},
   "source": [
    "## Imports"
   ]
  },
  {
   "cell_type": "markdown",
   "id": "73cc1a5b",
   "metadata": {},
   "source": [
    "If you wish to import other packages and/or modules,\n",
    "add a blank line after importing `scipy.optimize` in the following code cell,\n",
    "followed by the comment line `# Custom imports`,\n",
    "after which your additional imports should be disclosed.\n",
    "For example, to use NumPy, the succeeding code cell should show\n",
    "\n",
    ">> ```python\n",
    ">> import math as mt\n",
    ">> \n",
    ">> import scipy.optimize as spo\n",
    ">> \n",
    ">> # Custom imports\n",
    ">> import numpy as np\n",
    ">> ```"
   ]
  },
  {
   "cell_type": "code",
   "execution_count": 1,
   "id": "b8f40eff",
   "metadata": {},
   "outputs": [],
   "source": [
    "import math as mt\n",
    "\n",
    "import scipy.optimize as spo"
   ]
  },
  {
   "cell_type": "markdown",
   "id": "e38d8b0a",
   "metadata": {},
   "source": [
    "## Scenario"
   ]
  },
  {
   "cell_type": "markdown",
   "id": "77006f54",
   "metadata": {},
   "source": [
    "Suppose you have a second-order circuit that can be reduced into\n",
    "an equivalent resistance $R$\n",
    "parallel-connected to\n",
    "an equivalent inductance $L$\n",
    "as well as to\n",
    "an equivalent capacitance $C$\n",
    "(see [diagram](./act-04.png)).\n",
    "The said model is only valid over the interval $4 \\leq t \\leq 21$ seconds."
   ]
  },
  {
   "cell_type": "markdown",
   "id": "a39a3d28",
   "metadata": {},
   "source": [
    "Determine:\n",
    "- the minimum voltage across the equivalent-inductance element,\n",
    "  and\n",
    "- when the voltage across the equivalent-resistance element is a minimum,\n",
    "\n",
    "for when:\n",
    "- $C = 500$ millifarads,\n",
    "- $R = \\frac{2}{3}$ ohms,\n",
    "  and\n",
    "- $L = 1000$ millihenrys,\n",
    "\n",
    "provided that \n",
    "$V = 10$ volts\n",
    "and\n",
    "$I = 2$ amperes\n",
    "at the start of the applicable interval."
   ]
  },
  {
   "cell_type": "markdown",
   "id": "b663b2f8",
   "metadata": {},
   "source": [
    "## Modelling"
   ]
  },
  {
   "cell_type": "markdown",
   "id": "3cf9a6f3",
   "metadata": {},
   "source": [
    "Derive $f\\!\\left(t\\right)$ whose root corresponds to when the voltage across the equivalent-resistance element is a minimum.\n",
    "Then, derive an expression of $V\\!\\left(t\\right)$ across the equivalent-inductance element."
   ]
  },
  {
   "cell_type": "markdown",
   "id": "75976f2a",
   "metadata": {},
   "source": [
    "Construct two Python functions,\n",
    "`f()` and `v_L()`,\n",
    "that implement $f\\!\\left(t\\right)$ and $V\\!\\left(t\\right)$, respectively.\n",
    "Both `f()` and `v_L()` take a single positional argument `t`.\n",
    "\n",
    "In the succeeding code cell,\n",
    "replace the `pass` statement with your code."
   ]
  },
  {
   "cell_type": "markdown",
   "id": "13e3a15b-b2ce-4799-a73b-9b73478ddc78",
   "metadata": {},
   "source": [
    "$Solution:$ \n",
    "\n",
    "First thing I did is to identify the circuit type of this problem. Based on the diagram it is a $FREE$ $SOURCE$ $PARALLEL$ $RLC$ Circuit.\n",
    "In a second-order circuit, we must find $\\alpha$ and $\\omega_0$ to identify the case.\n",
    "\n",
    "Given \n",
    "\n",
    "$R = \\frac{2}{3}~\\Omega$\n",
    "\n",
    "$L = 1H$\n",
    "\n",
    "$C = 0.5F$\n",
    "\n",
    "$\\alpha = \\frac{1}{2RC} = \\frac{1}{(2)(\\frac{2}{3})(0.5)} = 1.5\\frac{rad}{s}$\n",
    "\n",
    "$\\omega_0 = \\frac{1}{\\sqrt{LC}} = \\frac{1}{\\sqrt{(1)(0.5)}} = \\sqrt{2}$\n",
    "\n",
    "We can see that $\\alpha > \\omega_0$ which concludes that it is $overdamped$.\n",
    "\n",
    "Finding $s_1$ and $s_2$:\n",
    "\n",
    "$s_{1,2} = -\\alpha \\pm \\sqrt{\\alpha - \\omega_0}$\n",
    "         $= -(1.5) \\pm \\sqrt{(1.5)^{2}-((\\sqrt{2})^{2})}$ \n",
    "\n",
    "$s_1 = -1$  $s_2 = -2$\n",
    "         \n",
    "@ $overdamped$\n",
    "\n",
    "$V(t) = Ae^{s_1t} + Be^{s_2t}$\n",
    "\n",
    "$V(t) = Ae^{-t} + Be^{-2t}$\n",
    "\n",
    "$\\frac{dV(t)}{dt} = -Ae^{-t} - 2Be^{-2t}$\n",
    "\n",
    "@ Finding constants $A$ and $B$ when initial at $t=4s ; V=10V ; i=2S$\n",
    "\n",
    "first eqn:  $Ae^{-4} + Be^{-8} = 10$ (1)\n",
    "\n",
    "For second eqn:\n",
    "\n",
    "$\\frac{dV(4)}{dt} = -\\frac{V(4) + Ri(4)}{RC} = - \\frac{10+(\\frac{2}{3})(2)}{(\\frac{2}{3})(0.5)} = -34$\n",
    "\n",
    "second eqn: $-Ae^{-4} - 2Be^{-8} = -34$ (2)\n",
    "\n",
    "Using $Cramer's$ $rule$, we get $A = -14e^{4}$  ;  $B = 24e^{8}$\n",
    "\n",
    "After getting the constants, we can have the final equations as \n",
    "\n",
    "$V(t) = -14e^{4-t} + 24^{8-2t}$\n",
    "\n",
    "$f(t) = \\frac{dV(t)}{dt} = 14e^{4-t} - 48e^{8-2t}$\n",
    "\n",
    "\n"
   ]
  },
  {
   "cell_type": "code",
   "execution_count": 2,
   "id": "f550cba7",
   "metadata": {},
   "outputs": [],
   "source": [
    "C = 0.5 \n",
    "R = 2/3 \n",
    "L = 1\n",
    "\n",
    "s_1, s_2 = -1, -2 \n",
    "A, B = -14*mt.exp(4), 24*mt.exp(8)\n",
    "\n",
    "def V_L(t): \n",
    "    return A*mt.exp(s_1*t) + B*mt.exp(s_2*t) \n",
    "\n",
    "def f(t):  \n",
    "    return s_1*A*mt.exp(s_1*t) + s_2*B*mt.exp(s_2*t)"
   ]
  },
  {
   "cell_type": "markdown",
   "id": "ca5e5cc0",
   "metadata": {},
   "source": [
    "Use bisection method to find the root of $f\\!\\left(t\\right)$.\n",
    "\n",
    "Define Python variables `TL` and `TU`\n",
    "to which are respectively assigned the lower and the upper end of the search interval.\n",
    "Run\n",
    "[`scipy.optimize.bisect()`](https://docs.scipy.org/doc/scipy/reference/generated/scipy.optimize.bisect.html)\n",
    "such that you get the (approximate) root as well as information concerning the root-finding process,\n",
    "where the said outputs are stored in Python variables `t_bs` and `t_bs_info`, respectively.\n",
    "Use default values for tolerances.\n",
    "\n",
    "In the succeeding code cell,\n",
    "replace the `pass` statement with your code."
   ]
  },
  {
   "cell_type": "code",
   "execution_count": 3,
   "id": "0504cc34",
   "metadata": {},
   "outputs": [
    {
     "name": "stdout",
     "output_type": "stream",
     "text": [
      "Finding a root in the interval [4, 21]:\n"
     ]
    }
   ],
   "source": [
    "TL, TU = 4, 21\n",
    "MAX_ITERS = 750\n",
    "TOL = 1E-7\n",
    "\n",
    "\n",
    "print(f\"Finding a root in the interval [{TL}, {TU}]:\")"
   ]
  },
  {
   "cell_type": "code",
   "execution_count": 4,
   "id": "1d385184",
   "metadata": {},
   "outputs": [
    {
     "name": "stdout",
     "output_type": "stream",
     "text": [
      "      converged: True\n",
      "           flag: converged\n",
      " function_calls: 27\n",
      "     iterations: 25\n",
      "           root: 5.232143670320511\n",
      "         method: bisect\n"
     ]
    }
   ],
   "source": [
    "t_bs, t_bs_info = spo.bisect(\n",
    "    f, TL, TU,\n",
    "    rtol = TOL, maxiter = MAX_ITERS,\n",
    "    full_output = True, disp = False,\n",
    ")\n",
    "\n",
    "print(t_bs_info)"
   ]
  },
  {
   "cell_type": "markdown",
   "id": "fda25422",
   "metadata": {},
   "source": [
    "## Results and discussion"
   ]
  },
  {
   "cell_type": "markdown",
   "id": "cecfe23b",
   "metadata": {},
   "source": [
    "Verify if the obtained (approximate) root is indeed the root\n",
    "by printing the corresponding value of $f\\!\\left(t\\right)$.\n",
    "The printed display should follow the following format\n",
    "\n",
    ">> Residual value: 1.23456790e-07\n",
    "\n",
    "where 1.23456790e-07 is just an exemplar value.\n",
    "\n",
    "In the succeeding code cell,\n",
    "replace the `pass` statement with your code."
   ]
  },
  {
   "cell_type": "code",
   "execution_count": 5,
   "id": "8eceda5f",
   "metadata": {},
   "outputs": [
    {
     "name": "stdout",
     "output_type": "stream",
     "text": [
      "Residual value: -4.480282900232169e-08\n"
     ]
    }
   ],
   "source": [
    "print(f\"Residual value: {f(t_bs)}\")"
   ]
  },
  {
   "cell_type": "markdown",
   "id": "78133b5a",
   "metadata": {},
   "source": [
    "Print the minimum voltage across the equivalent-inductance element,\n",
    "such that the output follows the following:\n",
    "\n",
    ">> The minimum voltage across the equivalent-inductance element is 1.234567 volts.\n",
    "\n",
    "where 1.234567 is just an examplar value for the said minimum voltage.\n",
    "\n",
    "In the succeeding code cell,\n",
    "replace the `pass` statement with your code."
   ]
  },
  {
   "cell_type": "code",
   "execution_count": 6,
   "id": "01337f28",
   "metadata": {},
   "outputs": [
    {
     "name": "stdout",
     "output_type": "stream",
     "text": [
      "The minimum voltage across the equivalent-inductance element is -2.041666666666667 volts.\n"
     ]
    }
   ],
   "source": [
    "print(f\"The minimum voltage across the equivalent-inductance element is {V_L(t_bs)} volts.\")"
   ]
  },
  {
   "cell_type": "markdown",
   "id": "72db5291",
   "metadata": {},
   "source": [
    "## Submission instructions"
   ]
  },
  {
   "cell_type": "markdown",
   "id": "4791c660",
   "metadata": {},
   "source": [
    "Download this notebook file,\n",
    "and save with a filename following the pattern\n",
    "`ACT-04_<section>_<ID number>`,\n",
    "where the section is as reflected in your Google Classroom.\n",
    "For example, if your ID number is 2013-0024\n",
    "and you are enrolled to the M34W12 class,\n",
    "then your notebook should be named `ACT-04_M34W12_2013-0024.ipynb`.\n",
    "Submit your notebook via the classwork platform for this activity in Google Classroom.\n",
    "Submissions beyond the deadline will not be considered.\n",
    "\n",
    "Lastly, the use of AI tools to answer this exam is not prohibited,\n",
    "but it is of ethical interest to disclose such use.\n",
    "This is in line with the\n",
    "[MSU Policy on the Fair and Ethical Use of AI and Its Applications](https://www.msumain.edu.ph/wp-content/uploads/2024/05/MSU-Policy-on-Ethical-use-of-AI-Policies.pdf).\n",
    "As such, please include a brief statement (in a private comment to this classwork)\n",
    "declaring which and how AI tools are used in your work."
   ]
  },
  {
   "cell_type": "markdown",
   "id": "6cb55aa8",
   "metadata": {},
   "source": [
    "*Last updated by Christian Cahig on 2025-10-09*"
   ]
  }
 ],
 "metadata": {
  "kernelspec": {
   "display_name": "eee102",
   "language": "python",
   "name": "python3"
  },
  "language_info": {
   "codemirror_mode": {
    "name": "ipython",
    "version": 3
   },
   "file_extension": ".py",
   "mimetype": "text/x-python",
   "name": "python",
   "nbconvert_exporter": "python",
   "pygments_lexer": "ipython3",
   "version": "3.12.5"
  }
 },
 "nbformat": 4,
 "nbformat_minor": 5
}
