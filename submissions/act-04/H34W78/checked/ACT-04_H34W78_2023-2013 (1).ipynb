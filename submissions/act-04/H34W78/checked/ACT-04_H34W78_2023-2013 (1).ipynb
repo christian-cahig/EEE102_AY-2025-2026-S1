{
 "cells": [
  {
   "cell_type": "markdown",
   "id": "05a8cc99",
   "metadata": {},
   "source": [
    "# Activity 4\n",
    "\n",
    "This activity is an application of the bisection method for univariate root-finding."
   ]
  },
  {
   "cell_type": "markdown",
   "id": "81b76d77",
   "metadata": {},
   "source": [
    "## Imports"
   ]
  },
  {
   "cell_type": "markdown",
   "id": "73cc1a5b",
   "metadata": {},
   "source": [
    "If you wish to import other packages and/or modules,\n",
    "add a blank line after importing `scipy.optimize` in the following code cell,\n",
    "followed by the comment line `# Custom imports`,\n",
    "after which your additional imports should be disclosed.\n",
    "For example, to use NumPy, the succeeding code cell should show\n",
    "\n",
    ">> ```python\n",
    ">> import math as mt\n",
    ">> \n",
    ">> import scipy.optimize as spo\n",
    ">> \n",
    ">> # Custom imports\n",
    ">> import numpy as np\n",
    ">> ```"
   ]
  },
  {
   "cell_type": "code",
   "execution_count": 1,
   "id": "b8f40eff",
   "metadata": {},
   "outputs": [],
   "source": [
    "import math as mt\n",
    "\n",
    "import scipy.optimize as spo\n",
    "\n",
    "# Custom imports\n",
    "import numpy as np"
   ]
  },
  {
   "cell_type": "markdown",
   "id": "e38d8b0a",
   "metadata": {},
   "source": [
    "## Scenario"
   ]
  },
  {
   "cell_type": "markdown",
   "id": "77006f54",
   "metadata": {},
   "source": [
    "Suppose you have a second-order circuit that can be reduced into\n",
    "an equivalent resistance $R$\n",
    "parallel-connected to\n",
    "an equivalent inductance $L$\n",
    "as well as to\n",
    "an equivalent capacitance $C$\n",
    "(see [diagram](./act-04.png)).\n",
    "The said model is only valid over the interval $4 \\leq t \\leq 21$ seconds."
   ]
  },
  {
   "cell_type": "markdown",
   "id": "a39a3d28",
   "metadata": {},
   "source": [
    "Determine:\n",
    "- the minimum voltage across the equivalent-inductance element,\n",
    "  and\n",
    "- when the voltage across the equivalent-resistance element is a minimum,\n",
    "\n",
    "for when:\n",
    "- $C = 500$ millifarads,\n",
    "- $R = \\frac{2}{3}$ ohms,\n",
    "  and\n",
    "- $L = 1000$ millihenrys,\n",
    "\n",
    "provided that \n",
    "$V = 10$ volts\n",
    "and\n",
    "$I = 2$ amperes\n",
    "at the start of the applicable interval."
   ]
  },
  {
   "cell_type": "markdown",
   "id": "b663b2f8",
   "metadata": {},
   "source": [
    "## Modelling"
   ]
  },
  {
   "cell_type": "markdown",
   "id": "3cf9a6f3",
   "metadata": {},
   "source": [
    "Derive $f\\!\\left(t\\right)$ whose root corresponds to when the voltage across the equivalent-resistance element is a minimum.\n",
    "Then, derive an expression of $V\\!\\left(t\\right)$ across the equivalent-inductance element."
   ]
  },
  {
   "cell_type": "markdown",
   "id": "75976f2a",
   "metadata": {},
   "source": [
    "Construct two Python functions,\n",
    "`f()` and `v_L()`,\n",
    "that implement $f\\!\\left(t\\right)$ and $V\\!\\left(t\\right)$, respectively.\n",
    "Both `f()` and `v_L()` take a single positional argument `t`.\n",
    "\n",
    "In the succeeding code cell,\n",
    "replace the `pass` statement with your code.\n"
   ]
  },
  {
   "cell_type": "markdown",
   "id": "aa1837b6",
   "metadata": {},
   "source": [
    "SOLUTION: \n",
    "\n",
    "For the parallel R–L–C (no external source) the voltage 𝑣(𝑡)v(t) across every branch satisfies\n",
    "\n",
    "$$ V\"+ \\frac{1}{RC} v' + \\frac{1}{LC}V = 0 $$ \n",
    "\n",
    "for when:\n",
    "- $C = 500$ millifarads,\n",
    "- $R = \\frac{2}{3}$ ohms,\n",
    "  and\n",
    "- $L = 1000$ millihenrys,\n",
    "\n",
    "provided Initial Condition: \n",
    "$V = 10$ volts\n",
    ",\n",
    "$I = 2$ amperes\n",
    "and \n",
    "$t=4$ \n",
    "\n",
    "By Solve the homogeneous ODE (characteristic equation), we can get:\n",
    "\n",
    "S1=-1\n",
    "\n",
    "S2=-2\n",
    "\n",
    "However in a parallel circuit, current in each parallel branch aren't equal, therefore then we KCL (@ t = 4):\n",
    "\n",
    "$0 = I_R(4) + \\frac{V(4)}{R} + C\\frac{dV}{dt}$\n",
    "\n",
    "Then we can fomulate Solution for Homogenous 2nd order ode:\n",
    "\n",
    "For v(t):\n",
    "\n",
    "$$V\\!\\left(t\\right)= Ae^{(-t)} + Be^{(-2t)} $$\n",
    "\n",
    "and for f(t):\n",
    "\n",
    "$$f\\!\\left(t\\right) = V^{\\prime}\\!\\left( t \\right)  = -Ae^{(-t)} -2Be^{(-2t)}= 0 $$\n",
    "\n",
    "Where value of f(t) is set @ minimum, to verify, its 2nd derivative should be > 0.\n",
    "\n",
    "Values of A and B upon solving the differential equation:\n",
    "\n",
    "A = $ -14e^{4} $\n",
    "\n",
    "B = $ 24e^{8} $"
   ]
  },
  {
   "cell_type": "code",
   "execution_count": 2,
   "id": "f550cba7",
   "metadata": {},
   "outputs": [],
   "source": [
    "import math\n",
    "\n",
    "# parameters (given)\n",
    "R = 2.0/3.0\n",
    "C = 0.5\n",
    "L = 1.0\n",
    "t0 = 4.0   # start of applicable interval\n",
    "# Precomputed constants from the characteristic equation and initial conditions:\n",
    "\n",
    "s1 = -1.0\n",
    "s2 = -2.0\n",
    "A = -14.0\n",
    "B = 24.0\n",
    "\n",
    "def v_L(t):\n",
    " \n",
    "    return  A * math.exp(s1 * t) + B * math.exp(s2 * t)\n",
    "\n",
    "def resid_from_x(t): # V'(t) = f(t), where it is @ minimum.\n",
    "    \n",
    "    return A * s1 * math.exp(s1 * t) + B * s2 * math.exp(s2 * t)\n",
    "\n",
    "\n",
    "\n"
   ]
  },
  {
   "cell_type": "code",
   "execution_count": 3,
   "id": "0504cc34",
   "metadata": {},
   "outputs": [
    {
     "ename": "ValueError",
     "evalue": "f(a) and f(b) must have different signs",
     "output_type": "error",
     "traceback": [
      "\u001b[0;31m---------------------------------------------------------------------------\u001b[0m",
      "\u001b[0;31mValueError\u001b[0m                                Traceback (most recent call last)",
      "Cell \u001b[0;32mIn[3], line 5\u001b[0m\n\u001b[1;32m      2\u001b[0m MAX_I \u001b[38;5;241m=\u001b[39m \u001b[38;5;241m750\u001b[39m\n\u001b[1;32m      3\u001b[0m TOL \u001b[38;5;241m=\u001b[39m \u001b[38;5;241m1e-7\u001b[39m\n\u001b[0;32m----> 5\u001b[0m t_bs, t_bs_info \u001b[38;5;241m=\u001b[39m \u001b[43mspo\u001b[49m\u001b[38;5;241;43m.\u001b[39;49m\u001b[43mbisect\u001b[49m\u001b[43m(\u001b[49m\n\u001b[1;32m      6\u001b[0m \u001b[43m    \u001b[49m\u001b[43mresid_from_x\u001b[49m\u001b[43m,\u001b[49m\u001b[43m \u001b[49m\u001b[43mTL\u001b[49m\u001b[43m,\u001b[49m\u001b[43mTU\u001b[49m\u001b[43m,\u001b[49m\n\u001b[1;32m      7\u001b[0m \u001b[43m    \u001b[49m\u001b[43mrtol\u001b[49m\u001b[43m \u001b[49m\u001b[38;5;241;43m=\u001b[39;49m\u001b[43m \u001b[49m\u001b[43mTOL\u001b[49m\u001b[43m,\u001b[49m\u001b[43m \u001b[49m\u001b[43mmaxiter\u001b[49m\u001b[43m \u001b[49m\u001b[38;5;241;43m=\u001b[39;49m\u001b[43m \u001b[49m\u001b[43mMAX_I\u001b[49m\u001b[43m,\u001b[49m\n\u001b[1;32m      8\u001b[0m \u001b[43m    \u001b[49m\u001b[43mfull_output\u001b[49m\u001b[43m \u001b[49m\u001b[38;5;241;43m=\u001b[39;49m\u001b[43m \u001b[49m\u001b[38;5;28;43;01mTrue\u001b[39;49;00m\u001b[43m,\u001b[49m\u001b[43m \u001b[49m\u001b[43mdisp\u001b[49m\u001b[43m \u001b[49m\u001b[38;5;241;43m=\u001b[39;49m\u001b[43m \u001b[49m\u001b[38;5;28;43;01mFalse\u001b[39;49;00m\u001b[43m,\u001b[49m\u001b[43m)\u001b[49m\n\u001b[1;32m     10\u001b[0m \u001b[38;5;28mprint\u001b[39m(\u001b[38;5;124mf\u001b[39m\u001b[38;5;124m\"\u001b[39m\u001b[38;5;124mFinding a root in the interval [\u001b[39m\u001b[38;5;132;01m{\u001b[39;00mTL\u001b[38;5;132;01m}\u001b[39;00m\u001b[38;5;124m, \u001b[39m\u001b[38;5;132;01m{\u001b[39;00mTU\u001b[38;5;132;01m}\u001b[39;00m\u001b[38;5;124m]:\u001b[39m\u001b[38;5;124m\"\u001b[39m)\n",
      "File \u001b[0;32m/opt/miniconda3/envs/eee102/lib/python3.12/site-packages/scipy/optimize/_zeros_py.py:577\u001b[0m, in \u001b[0;36mbisect\u001b[0;34m(f, a, b, args, xtol, rtol, maxiter, full_output, disp)\u001b[0m\n\u001b[1;32m    575\u001b[0m     \u001b[38;5;28;01mraise\u001b[39;00m \u001b[38;5;167;01mValueError\u001b[39;00m(\u001b[38;5;124mf\u001b[39m\u001b[38;5;124m\"\u001b[39m\u001b[38;5;124mrtol too small (\u001b[39m\u001b[38;5;132;01m{\u001b[39;00mrtol\u001b[38;5;132;01m:\u001b[39;00m\u001b[38;5;124mg\u001b[39m\u001b[38;5;132;01m}\u001b[39;00m\u001b[38;5;124m < \u001b[39m\u001b[38;5;132;01m{\u001b[39;00m_rtol\u001b[38;5;132;01m:\u001b[39;00m\u001b[38;5;124mg\u001b[39m\u001b[38;5;132;01m}\u001b[39;00m\u001b[38;5;124m)\u001b[39m\u001b[38;5;124m\"\u001b[39m)\n\u001b[1;32m    576\u001b[0m f \u001b[38;5;241m=\u001b[39m _wrap_nan_raise(f)\n\u001b[0;32m--> 577\u001b[0m r \u001b[38;5;241m=\u001b[39m \u001b[43m_zeros\u001b[49m\u001b[38;5;241;43m.\u001b[39;49m\u001b[43m_bisect\u001b[49m\u001b[43m(\u001b[49m\u001b[43mf\u001b[49m\u001b[43m,\u001b[49m\u001b[43m \u001b[49m\u001b[43ma\u001b[49m\u001b[43m,\u001b[49m\u001b[43m \u001b[49m\u001b[43mb\u001b[49m\u001b[43m,\u001b[49m\u001b[43m \u001b[49m\u001b[43mxtol\u001b[49m\u001b[43m,\u001b[49m\u001b[43m \u001b[49m\u001b[43mrtol\u001b[49m\u001b[43m,\u001b[49m\u001b[43m \u001b[49m\u001b[43mmaxiter\u001b[49m\u001b[43m,\u001b[49m\u001b[43m \u001b[49m\u001b[43margs\u001b[49m\u001b[43m,\u001b[49m\u001b[43m \u001b[49m\u001b[43mfull_output\u001b[49m\u001b[43m,\u001b[49m\u001b[43m \u001b[49m\u001b[43mdisp\u001b[49m\u001b[43m)\u001b[49m\n\u001b[1;32m    578\u001b[0m \u001b[38;5;28;01mreturn\u001b[39;00m results_c(full_output, r, \u001b[38;5;124m\"\u001b[39m\u001b[38;5;124mbisect\u001b[39m\u001b[38;5;124m\"\u001b[39m)\n",
      "\u001b[0;31mValueError\u001b[0m: f(a) and f(b) must have different signs"
     ]
    }
   ],
   "source": [
    "TL, TU = 4, 21\n",
    "MAX_I = 750\n",
    "TOL = 1e-7\n",
    "\n",
    "t_bs, t_bs_info = spo.bisect(\n",
    "    resid_from_x, TL,TU,\n",
    "    rtol = TOL, maxiter = MAX_I,\n",
    "    full_output = True, disp = False,)\n",
    "\n",
    "print(f\"Finding a root in the interval [{TL}, {TU}]:\")"
   ]
  },
  {
   "cell_type": "markdown",
   "id": "ca5e5cc0",
   "metadata": {},
   "source": [
    "Use bisection method to find the root of $f\\!\\left(t\\right)$.\n",
    "\n",
    "Define Python variables `TL` and `TU`\n",
    "to which are respectively assigned the lower and the upper end of the search interval.\n",
    "Run\n",
    "[`scipy.optimize.bisect()`](https://docs.scipy.org/doc/scipy/reference/generated/scipy.optimize.bisect.html)\n",
    "such that you get the (approximate) root as well as information concerning the root-finding process,\n",
    "where the said outputs are stored in Python variables `t_bs` and `t_bs_info`, respectively.\n",
    "Use default values for tolerances.\n",
    "\n",
    "In the succeeding code cell,\n",
    "replace the `pass` statement with your code."
   ]
  },
  {
   "cell_type": "code",
   "execution_count": null,
   "id": "1d385184",
   "metadata": {},
   "outputs": [],
   "source": [
    "print(t_bs_info)"
   ]
  },
  {
   "cell_type": "markdown",
   "id": "fda25422",
   "metadata": {},
   "source": [
    "## Results and discussion"
   ]
  },
  {
   "cell_type": "markdown",
   "id": "cecfe23b",
   "metadata": {},
   "source": [
    "Verify if the obtained (approximate) root is indeed the root\n",
    "by printing the corresponding value of $f\\!\\left(t\\right)$.\n",
    "The printed display should follow the following format\n",
    "\n",
    ">> Residual value: 1.23456790e-07\n",
    "\n",
    "where 1.23456790e-07 is just an exemplar value.\n",
    "\n",
    "In the succeeding code cell,\n",
    "replace the `pass` statement with your code."
   ]
  },
  {
   "cell_type": "code",
   "execution_count": null,
   "id": "8eceda5f",
   "metadata": {},
   "outputs": [],
   "source": [
    "print(f\"Residual value: {resid_from_x(t_bs)}\") #must be infinitely close to 0"
   ]
  },
  {
   "cell_type": "markdown",
   "id": "78133b5a",
   "metadata": {},
   "source": [
    "Print the minimum voltage across the equivalent-inductance element,\n",
    "such that the output follows the following:\n",
    "\n",
    ">> The minimum voltage across the equivalent-inductance element is 1.234567 volts.\n",
    "\n",
    "where 1.234567 is just an examplar value for the said minimum voltage.\n",
    "\n",
    "In the succeeding code cell,\n",
    "replace the `pass` statement with your code."
   ]
  },
  {
   "cell_type": "code",
   "execution_count": null,
   "id": "01337f28",
   "metadata": {},
   "outputs": [],
   "source": [
    "print(f\"The minimum voltage across the equivalent-inductance element is {V_L(t_bs)} volts.\")\n"
   ]
  },
  {
   "cell_type": "markdown",
   "id": "72db5291",
   "metadata": {},
   "source": [
    "## Submission instructions"
   ]
  },
  {
   "cell_type": "markdown",
   "id": "4791c660",
   "metadata": {},
   "source": [
    "Download this notebook file,\n",
    "and save with a filename following the pattern\n",
    "`ACT-04_<section>_<ID number>`,\n",
    "where the section is as reflected in your Google Classroom.\n",
    "For example, if your ID number is 2013-0024\n",
    "and you are enrolled to the M34W12 class,\n",
    "then your notebook should be named `ACT-04_M34W12_2013-0024.ipynb`.\n",
    "Submit your notebook via the classwork platform for this activity in Google Classroom.\n",
    "Submissions beyond the deadline will not be considered.\n",
    "\n",
    "Lastly, the use of AI tools to answer this exam is not prohibited,\n",
    "but it is of ethical interest to disclose such use.\n",
    "This is in line with the\n",
    "[MSU Policy on the Fair and Ethical Use of AI and Its Applications](https://www.msumain.edu.ph/wp-content/uploads/2024/05/MSU-Policy-on-Ethical-use-of-AI-Policies.pdf).\n",
    "As such, please include a brief statement (in a private comment to this classwork)\n",
    "declaring which and how AI tools are used in your work."
   ]
  },
  {
   "cell_type": "markdown",
   "id": "6cb55aa8",
   "metadata": {},
   "source": [
    "*Last updated by Christian Cahig on 2025-10-09*"
   ]
  }
 ],
 "metadata": {
  "kernelspec": {
   "display_name": "eee102",
   "language": "python",
   "name": "python3"
  },
  "language_info": {
   "codemirror_mode": {
    "name": "ipython",
    "version": 3
   },
   "file_extension": ".py",
   "mimetype": "text/x-python",
   "name": "python",
   "nbconvert_exporter": "python",
   "pygments_lexer": "ipython3",
   "version": "3.12.5"
  }
 },
 "nbformat": 4,
 "nbformat_minor": 5
}
