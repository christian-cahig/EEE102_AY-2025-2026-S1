{
 "cells": [
  {
   "cell_type": "code",
   "execution_count": 1,
   "id": "8830f5f8-924d-4cd2-863f-8cb21afc2541",
   "metadata": {},
   "outputs": [],
   "source": [
    "import math as mt\n",
    "import scipy.optimize as spo"
   ]
  },
  {
   "cell_type": "code",
   "execution_count": 2,
   "id": "df8a962b-aaf5-47be-9663-a61f2e26fe7c",
   "metadata": {},
   "outputs": [],
   "source": [
    "#given \n",
    "C = 0.5 #capacitance\n",
    "R = 2/3 #resistance\n",
    "L = 1 #inductance\n",
    "V_L = 10 #initial voltage (inductance) at t=4s\n",
    "IL = 2 #initial current  (inductance) at t=4s\n",
    "\n",
    "#nature of damping\n",
    "alpha= a = 1/( 2 * R * C )\n",
    "omega_0= om = 1/ mt.sqrt( L * C )\n",
    "\n",
    "#overdamped\n",
    "s1 = -a + mt.sqrt( pow(a,2) - pow(om,2) )\n",
    "s2 = -a - mt.sqrt( pow(a,2) - pow(om,2) )\n",
    "\n",
    "#kcl: IC+IR+IL=0\n",
    "#dv/dt=x\n",
    "#(C*x)+(VL/R)+(IL)=0\n",
    "#V(t)=A1e^s1*t + A2e^S2*t\n",
    "\n",
    "#define intervals\n",
    "TL, TU = 4 , 21"
   ]
  },
  {
   "cell_type": "code",
   "execution_count": 3,
   "id": "06dcd7af-8b4f-4210-9477-6f80d3d425ac",
   "metadata": {},
   "outputs": [],
   "source": [
    "def V_L(t):\n",
    "    return (-14*mt.exp(4-t)) + (24*mt.exp(8-2*t))\n",
    "def f(t):\n",
    "    return (14*mt.exp(4-t)) - (48*mt.exp(8-2*t))"
   ]
  },
  {
   "cell_type": "code",
   "execution_count": 4,
   "id": "5afa7bf8-04e7-4bc3-8ada-708a97f2615d",
   "metadata": {},
   "outputs": [
    {
     "name": "stdout",
     "output_type": "stream",
     "text": [
      "Finding a root in the interval [4,21]:\n"
     ]
    }
   ],
   "source": [
    "print(f\"Finding a root in the interval [{TL},{TU}]:\")\n",
    "t_bs, t_bs_info = spo.bisect(f, TL, TU, full_output=True)\n"
   ]
  },
  {
   "cell_type": "code",
   "execution_count": 5,
   "id": "96cdb709",
   "metadata": {},
   "outputs": [
    {
     "name": "stdout",
     "output_type": "stream",
     "text": [
      "      converged: True\n",
      "           flag: converged\n",
      " function_calls: 45\n",
      "     iterations: 43\n",
      "           root: 5.232143681292314\n",
      "         method: bisect\n"
     ]
    }
   ],
   "source": [
    "print (t_bs_info)"
   ]
  },
  {
   "cell_type": "code",
   "execution_count": 6,
   "id": "b98f5233-477f-4904-88ac-5f46ff30ef88",
   "metadata": {},
   "outputs": [
    {
     "name": "stdout",
     "output_type": "stream",
     "text": [
      "Residual value: -1.3002932064409833e-12\n"
     ]
    }
   ],
   "source": [
    "residual = f(t_bs)\n",
    "print(f\"Residual value: {residual}\")"
   ]
  },
  {
   "cell_type": "code",
   "execution_count": 7,
   "id": "ee27d308-a767-4deb-8775-6df8af129f47",
   "metadata": {},
   "outputs": [
    {
     "name": "stdout",
     "output_type": "stream",
     "text": [
      "The minimum voltage across the equivalent-inductance element is -2.041666666666667 volts.\n"
     ]
    }
   ],
   "source": [
    "min_voltage = V_L(t_bs)\n",
    "print(f\"The minimum voltage across the equivalent-inductance element is {min_voltage} volts.\")"
   ]
  }
 ],
 "metadata": {
  "kernelspec": {
   "display_name": "eee102",
   "language": "python",
   "name": "python3"
  },
  "language_info": {
   "codemirror_mode": {
    "name": "ipython",
    "version": 3
   },
   "file_extension": ".py",
   "mimetype": "text/x-python",
   "name": "python",
   "nbconvert_exporter": "python",
   "pygments_lexer": "ipython3",
   "version": "3.12.5"
  }
 },
 "nbformat": 4,
 "nbformat_minor": 5
}
