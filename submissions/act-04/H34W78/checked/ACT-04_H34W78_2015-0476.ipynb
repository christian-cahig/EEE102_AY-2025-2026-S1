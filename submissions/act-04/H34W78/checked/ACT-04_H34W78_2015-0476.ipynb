{
 "cells": [
  {
   "cell_type": "markdown",
   "id": "05a8cc99",
   "metadata": {},
   "source": [
    "# Activity 4\n",
    "\n",
    "This activity is an application of the bisection method for univariate root-finding."
   ]
  },
  {
   "cell_type": "markdown",
   "id": "81b76d77",
   "metadata": {},
   "source": [
    "## Imports"
   ]
  },
  {
   "cell_type": "markdown",
   "id": "73cc1a5b",
   "metadata": {},
   "source": [
    "If you wish to import other packages and/or modules,\n",
    "add a blank line after importing `scipy.optimize` in the following code cell,\n",
    "followed by the comment line `# Custom imports`,\n",
    "after which your additional imports should be disclosed.\n",
    "For example, to use NumPy, the succeeding code cell should show\n",
    "\n",
    ">> ```python\n",
    ">> import math as mt\n",
    ">> \n",
    ">> import scipy.optimize as spo\n",
    ">> \n",
    ">> # Custom imports\n",
    ">> import numpy as np\n",
    ">> ```"
   ]
  },
  {
   "cell_type": "code",
   "execution_count": 1,
   "id": "b8f40eff",
   "metadata": {},
   "outputs": [],
   "source": [
    "import math as mt\n",
    "\n",
    "import scipy.optimize as spo\n",
    "\n",
    "# Custom imports\n",
    "import numpy as np\n",
    "\n",
    "import math\n",
    "\n",
    "from scipy import optimize"
   ]
  },
  {
   "cell_type": "markdown",
   "id": "e38d8b0a",
   "metadata": {},
   "source": [
    "## Scenario"
   ]
  },
  {
   "cell_type": "markdown",
   "id": "77006f54",
   "metadata": {},
   "source": [
    "Suppose you have a second-order circuit that can be reduced into\n",
    "an equivalent resistance $R$\n",
    "parallel-connected to\n",
    "an equivalent inductance $L$\n",
    "as well as to\n",
    "an equivalent capacitance $C$\n",
    "(see [diagram](./act-04.png)).\n",
    "The said model is only valid over the interval $4 \\leq t \\leq 21$ seconds."
   ]
  },
  {
   "cell_type": "markdown",
   "id": "a39a3d28",
   "metadata": {},
   "source": [
    "Determine:\n",
    "- the minimum voltage across the equivalent-inductance element,\n",
    "  and\n",
    "- when the voltage across the equivalent-resistance element is a minimum,\n",
    "\n",
    "for when:\n",
    "- $C = 500$ millifarads,\n",
    "- $R = \\frac{2}{3}$ ohms,\n",
    "  and\n",
    "- $L = 1000$ millihenrys,\n",
    "\n",
    "provided that \n",
    "$V = 10$ volts\n",
    "and\n",
    "$I = 2$ amperes\n",
    "at the start of the applicable interval."
   ]
  },
  {
   "cell_type": "markdown",
   "id": "b663b2f8",
   "metadata": {},
   "source": [
    "## Modelling"
   ]
  },
  {
   "cell_type": "markdown",
   "id": "3cf9a6f3",
   "metadata": {},
   "source": [
    "Derive $f\\!\\left(t\\right)$ whose root corresponds to when the voltage across the equivalent-resistance element is a minimum.\n",
    "Then, derive an expression of $V\\!\\left(t\\right)$ across the equivalent-inductance element."
   ]
  },
  {
   "cell_type": "markdown",
   "id": "75976f2a",
   "metadata": {},
   "source": [
    "Construct two Python functions,\n",
    "`f()` and `v_L()`,\n",
    "that implement $f\\!\\left(t\\right)$ and $V\\!\\left(t\\right)$, respectively.\n",
    "Both `f()` and `v_L()` take a single positional argument `t`.\n",
    "\n",
    "In the succeeding code cell,\n",
    "replace the `pass` statement with your code."
   ]
  },
  {
   "cell_type": "markdown",
   "id": "76585735-7e9b-4560-a85b-32a2a89ab9cf",
   "metadata": {},
   "source": [
    "**Given:**\n",
    "\n",
    "- $C = 500~\\text{mF},$\n",
    "- $R = \\tfrac{2}{3}~\\text{ohms},$\n",
    "- $L = 1000~\\text{mH}.$\n",
    "\n",
    "\n",
    "at the start of interval which is $4$ \n",
    "$$\n",
    "v(4) = 10~\\text{V}, \\qquad i_L(4) = 2~\\text{A}.\n",
    "$$\n",
    "we get this\n",
    "$$\n",
    "v(t) = -14e^{-(t-4)} + 24e^{-2(t-4)}.\n",
    "$$\n",
    "by differentiating, we get: $$\n",
    "\\frac{dV_L}{dt} = 14e^{-(t-4)} - 48e^{-2(t-4)}.\n",
    "$$\n",
    "\n"
   ]
  },
  {
   "cell_type": "code",
   "execution_count": 2,
   "id": "f550cba7",
   "metadata": {},
   "outputs": [],
   "source": [
    "C = 0.5\n",
    "R = 2.0/3.0\n",
    "L = 1.0\n",
    "\n",
    "def V_L(t):\n",
    "    return -14.0 * math.exp(-(t - 4.0)) + 24.0 * math.exp(-2.0 * (t - 4.0))\n",
    "\n",
    "def resid_from_x(t):\n",
    "    return 14.0 * math.exp(-(t - 4.0)) - 48.0 * math.exp(-2.0 * (t - 4.0))"
   ]
  },
  {
   "cell_type": "markdown",
   "id": "ca5e5cc0",
   "metadata": {},
   "source": [
    "Use bisection method to find the root of $f\\!\\left(t\\right)$.\n",
    "\n",
    "Define Python variables `TL` and `TU`\n",
    "to which are respectively assigned the lower and the upper end of the search interval.\n",
    "Run\n",
    "[`scipy.optimize.bisect()`](https://docs.scipy.org/doc/scipy/reference/generated/scipy.optimize.bisect.html)\n",
    "such that you get the (approximate) root as well as information concerning the root-finding process,\n",
    "where the said outputs are stored in Python variables `t_bs` and `t_bs_info`, respectively.\n",
    "Use default values for tolerances.\n",
    "\n",
    "In the succeeding code cell,\n",
    "replace the `pass` statement with your code."
   ]
  },
  {
   "cell_type": "code",
   "execution_count": 3,
   "id": "0504cc34",
   "metadata": {},
   "outputs": [
    {
     "name": "stdout",
     "output_type": "stream",
     "text": [
      "Finding a root in the interval [4.0, 21.0]:\n"
     ]
    }
   ],
   "source": [
    "TL = 4.0\n",
    "TU = 21.0\n",
    "\n",
    "print(f\"Finding a root in the interval [{TL}, {TU}]:\")\n",
    "\n",
    "\n",
    "t_bs, t_bs_info = spo.bisect(\n",
    "    resid_from_x, TL,TU,\n",
    "    full_output = True, disp = False,\n",
    ")"
   ]
  },
  {
   "cell_type": "code",
   "execution_count": 4,
   "id": "1d385184",
   "metadata": {},
   "outputs": [
    {
     "name": "stdout",
     "output_type": "stream",
     "text": [
      "      converged: True\n",
      "           flag: converged\n",
      " function_calls: 45\n",
      "     iterations: 43\n",
      "           root: 5.232143681292314\n",
      "         method: bisect\n"
     ]
    }
   ],
   "source": [
    "print(t_bs_info)"
   ]
  },
  {
   "cell_type": "markdown",
   "id": "fda25422",
   "metadata": {},
   "source": [
    "## Results and discussion"
   ]
  },
  {
   "cell_type": "markdown",
   "id": "cecfe23b",
   "metadata": {},
   "source": [
    "Verify if the obtained (approximate) root is indeed the root\n",
    "by printing the corresponding value of $f\\!\\left(t\\right)$.\n",
    "The printed display should follow the following format\n",
    "\n",
    ">> Residual value: 1.23456790e-07\n",
    "\n",
    "where 1.23456790e-07 is just an exemplar value.\n",
    "\n",
    "In the succeeding code cell,\n",
    "replace the `pass` statement with your code."
   ]
  },
  {
   "cell_type": "code",
   "execution_count": 5,
   "id": "8eceda5f",
   "metadata": {},
   "outputs": [
    {
     "name": "stdout",
     "output_type": "stream",
     "text": [
      "Residual value: -1.3002932064409833e-12\n"
     ]
    }
   ],
   "source": [
    "print(f\"Residual value: {resid_from_x(t_bs)}\") #must be infinitely close to 0"
   ]
  },
  {
   "cell_type": "markdown",
   "id": "78133b5a",
   "metadata": {},
   "source": [
    "Print the minimum voltage across the equivalent-inductance element,\n",
    "such that the output follows the following:\n",
    "\n",
    ">> The minimum voltage across the equivalent-inductance element is 1.234567 volts.\n",
    "\n",
    "where 1.234567 is just an examplar value for the said minimum voltage.\n",
    "\n",
    "In the succeeding code cell,\n",
    "replace the `pass` statement with your code."
   ]
  },
  {
   "cell_type": "code",
   "execution_count": 6,
   "id": "01337f28",
   "metadata": {},
   "outputs": [
    {
     "name": "stdout",
     "output_type": "stream",
     "text": [
      "The minimum voltage across the equivalent-inductance element is -2.041666666666667 volts.\n"
     ]
    }
   ],
   "source": [
    "print(f\"The minimum voltage across the equivalent-inductance element is {V_L(t_bs)} volts.\")"
   ]
  },
  {
   "cell_type": "markdown",
   "id": "72db5291",
   "metadata": {},
   "source": [
    "## Submission instructions"
   ]
  },
  {
   "cell_type": "markdown",
   "id": "4791c660",
   "metadata": {},
   "source": [
    "Download this notebook file,\n",
    "and save with a filename following the pattern\n",
    "`ACT-04_<section>_<ID number>`,\n",
    "where the section is as reflected in your Google Classroom.\n",
    "For example, if your ID number is 2013-0024\n",
    "and you are enrolled to the M34W12 class,\n",
    "then your notebook should be named `ACT-04_M34W12_2013-0024.ipynb`.\n",
    "Submit your notebook via the classwork platform for this activity in Google Classroom.\n",
    "Submissions beyond the deadline will not be considered.\n",
    "\n",
    "Lastly, the use of AI tools to answer this exam is not prohibited,\n",
    "but it is of ethical interest to disclose such use.\n",
    "This is in line with the\n",
    "[MSU Policy on the Fair and Ethical Use of AI and Its Applications](https://www.msumain.edu.ph/wp-content/uploads/2024/05/MSU-Policy-on-Ethical-use-of-AI-Policies.pdf).\n",
    "As such, please include a brief statement (in a private comment to this classwork)\n",
    "declaring which and how AI tools are used in your work."
   ]
  },
  {
   "cell_type": "markdown",
   "id": "6cb55aa8",
   "metadata": {},
   "source": [
    "*Last updated by Christian Cahig on 2025-10-09*"
   ]
  }
 ],
 "metadata": {
  "kernelspec": {
   "display_name": "eee102",
   "language": "python",
   "name": "python3"
  },
  "language_info": {
   "codemirror_mode": {
    "name": "ipython",
    "version": 3
   },
   "file_extension": ".py",
   "mimetype": "text/x-python",
   "name": "python",
   "nbconvert_exporter": "python",
   "pygments_lexer": "ipython3",
   "version": "3.12.5"
  }
 },
 "nbformat": 4,
 "nbformat_minor": 5
}
