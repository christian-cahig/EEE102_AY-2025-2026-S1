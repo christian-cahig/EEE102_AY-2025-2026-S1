{
 "cells": [
  {
   "cell_type": "markdown",
   "id": "05a8cc99",
   "metadata": {},
   "source": [
    "# Activity 4\n",
    "\n",
    "This activity is an application of the bisection method for univariate root-finding."
   ]
  },
  {
   "cell_type": "markdown",
   "id": "81b76d77",
   "metadata": {},
   "source": [
    "## Imports"
   ]
  },
  {
   "cell_type": "markdown",
   "id": "73cc1a5b",
   "metadata": {},
   "source": [
    "If you wish to import other packages and/or modules,\n",
    "add a blank line after importing `scipy.optimize` in the following code cell,\n",
    "followed by the comment line `# Custom imports`,\n",
    "after which your additional imports should be disclosed.\n",
    "For example, to use NumPy, the succeeding code cell should show\n",
    "\n",
    ">> ```python\n",
    ">> import math as mt\n",
    ">> \n",
    ">> import scipy.optimize as spo\n",
    ">> \n",
    ">> # Custom imports\n",
    ">> import numpy as np\n",
    ">> ```"
   ]
  },
  {
   "cell_type": "code",
   "execution_count": 1,
   "id": "b8f40eff",
   "metadata": {},
   "outputs": [],
   "source": [
    "import math as mt\n",
    "\n",
    "import scipy.optimize as spo\n",
    "\n",
    "# Custom imports"
   ]
  },
  {
   "cell_type": "markdown",
   "id": "e38d8b0a",
   "metadata": {},
   "source": [
    "## Scenario"
   ]
  },
  {
   "cell_type": "markdown",
   "id": "77006f54",
   "metadata": {},
   "source": [
    "Suppose you have a second-order circuit that can be reduced into\n",
    "an equivalent resistance $R$\n",
    "parallel-connected to\n",
    "an equivalent inductance $L$\n",
    "as well as to\n",
    "an equivalent capacitance $C$\n",
    "(see [diagram](./act-04.png)).\n",
    "The said model is only valid over the interval $4 \\leq t \\leq 21$ seconds."
   ]
  },
  {
   "attachments": {
    "6466a516-b24e-43bb-bcfd-5a7b0e9c1609.png": {
     "image/png": "[encoded data removed]"
    }
   },
   "cell_type": "markdown",
   "id": "7552b454-098d-4a83-926b-c15114bf3918",
   "metadata": {},
   "source": [
    "![act-04.png](attachment:6466a516-b24e-43bb-bcfd-5a7b0e9c1609.png)"
   ]
  },
  {
   "cell_type": "markdown",
   "id": "a39a3d28",
   "metadata": {},
   "source": [
    "Determine:\n",
    "- the minimum voltage across the equivalent-inductance element,\n",
    "  and\n",
    "- when the voltage across the equivalent-resistance element is a minimum,\n",
    "\n",
    "for when:\n",
    "- $C = 500$ millifarads,\n",
    "- $R = \\frac{2}{3}$ ohms,\n",
    "  and\n",
    "- $L = 1000$ millihenrys,\n",
    "\n",
    "provided that \n",
    "$V = 10$ volts\n",
    "and\n",
    "$I = 2$ amperes\n",
    "at the start of the applicable interval."
   ]
  },
  {
   "cell_type": "markdown",
   "id": "4e8ef9a8-fd70-48bc-b33c-29098d0006cb",
   "metadata": {},
   "source": [
    "## Solution"
   ]
  },
  {
   "cell_type": "markdown",
   "id": "8e5b5d91-88d9-4649-b8c4-ea82a17956ad",
   "metadata": {},
   "source": [
    "Applying KCL on the top node:\n",
    "$$i_L(t) + i_R(t) + i_C(t) = 0$$\n",
    "\n",
    "Express each branch current in terms of 𝑉:\n",
    "$$i_L(t) + \\frac{V(t)}{R}\\ + C\\frac{dV(t)}{dt}\\ = 0$$\n",
    "\n",
    "Differentiate the KCL with respect to time (t) (so that $i_L(t)$ is replaced by $\\frac{di_L(t)}{dt}\\ = \\frac{V(t)}{L}\\ $):\n",
    "$$\\frac{1}{L}\\ V(t) + \\frac{1}{R}\\ \\frac{dV(t)}{dt}\\ + C\\frac{d^2V(t)}{dt^2}\\ = 0$$\n",
    "\n",
    "Dividing both sides by C, rearranging, and Substituting the given:\n",
    "$$\\frac{d^2V(t)}{dt^2}\\ + \\frac{1}{RC}\\ \\frac{dV(t)}{dt}\\ + \\frac{1}{LC}\\ V(t) = 0$$\n",
    "$$\\frac{d^2V(t)}{dt^2}\\ + 3 \\frac{dV(t)}{dt}\\ + 2 V(t) = 0$$\n",
    "\n",
    "Since this is a simple parallel RLC circuit, we can define $α$ and $ω_0$:\n",
    "$$α =\\frac{1}{2RC}\\ = \\frac{3}{2}\\ s^{-1} $$ \n",
    "$$ω_0 = \\frac{1}{\\sqrt{LC}}\\ =\\sqrt{2} s^{-1}$$\n",
    "\n",
    "Since $α$ > $ω_0$ the system is overdamped with two real and distinct roots:\n",
    "$$ s_{1,2} = -α\\pm \\ \\sqrt{α^2-ω_0^2} $$\n",
    "$$ s_1 = -1 $$\n",
    "$$ s_2 = -2$$\n",
    "\n",
    "Thus the general solution for the voltage (using time origin shifted to the start of the model interval $t_0 = 4s$; defining $τ = t-t_0$ :\n",
    "$$V(τ) = Ae^{-τ} + Be^{-2τ}$$\n",
    "$$V(t) = Ae^{-(t-4)} + Be^{-2(t-4)}$$\n",
    "\n",
    "Solving for constants A and B, we apply the predetermined conditions. Let the initial capacitor voltage at $t_0=4s$ be $V_0=V(4)$, and the initial inductor current be $I_0=i_L(4)$. Then at $τ = 0$:\n",
    "$$V(0) = A + B = 10V → Eq.1 $$\n",
    "\n",
    "Differentiating $V(τ)$:\n",
    "$$V'(τ) = -Ae^{-τ} - 2Be^{-2τ}$$\n",
    "\n",
    "From capacitor current:\n",
    "$$CV'(0) = i_C(0)=-(i_L(0) + i_R(0)) = -\\frac{V(0)}{R}\\ - I_0$$\n",
    "$$V'(0) = -\\frac{1}{C}\\ (\\frac{V(0)}{R}\\ +  I_0) $$\n",
    "\n",
    "Substituting:\n",
    "$$V'(0) = -2 (\\frac{3}{2}\\ V(0) + I(0)) = -(3V(0) + 2I(0)) = -34V $$\n",
    "$$V'(0) = -A- 2B = -34 → Eq.2 $$\n",
    "\n",
    "Two equations, two unknowns:\n",
    "$$A = -14 $$\n",
    "$$B = 24 $$\n",
    "\n",
    "Hence, our $V(t)$:\n",
    "$$V(τ) = -14e^{-τ} + 24e^{-2τ}$$\n",
    "$$V(t) = -14e^{-(t-4)} + 24e^{-2(t-4)}$$\n",
    "\n",
    "A minimum of $V(t)$ occurs when $\\frac{dV(t)}{dt}\\ = 0 $, that is our $f(t)$:\n",
    "$$f(t) = \\frac{dV(t)}{dt}\\ = \\frac{d}{dt}\\ (-14e^{-(t-4)} + 24e^{-2(t-4)})$$\n",
    "\n",
    "$$f(t) = 14e^{-(t-4)} - 48e^{-2(t-4)}$$\n"
   ]
  },
  {
   "cell_type": "markdown",
   "id": "b663b2f8",
   "metadata": {},
   "source": [
    "## Modelling"
   ]
  },
  {
   "cell_type": "markdown",
   "id": "3cf9a6f3",
   "metadata": {},
   "source": [
    "Derive $f\\!\\left(t\\right)$ whose root corresponds to when the voltage across the equivalent-resistance element is a minimum.\n",
    "Then, derive an expression of $V\\!\\left(t\\right)$ across the equivalent-inductance element."
   ]
  },
  {
   "cell_type": "markdown",
   "id": "75976f2a",
   "metadata": {},
   "source": [
    "Construct two Python functions,\n",
    "`f()` and `v_L()`,\n",
    "that implement $f\\!\\left(t\\right)$ and $V\\!\\left(t\\right)$, respectively.\n",
    "Both `f()` and `v_L()` take a single positional argument `t`.\n",
    "\n",
    "In the succeeding code cell,\n",
    "replace the `pass` statement with your code."
   ]
  },
  {
   "cell_type": "code",
   "execution_count": 2,
   "id": "f550cba7",
   "metadata": {},
   "outputs": [],
   "source": [
    "def f(t): # Corresponds to when the voltage across the equivalent-resistance element is a minimum\n",
    "    tau = t-4\n",
    "    return 14 * mt.exp(-tau) - 48 * mt.exp(-2*tau) # in Volts\n",
    "\n",
    "def v_L(t): # Corresponds to the voltage of the inductance element\n",
    "    tau = t-4\n",
    "    return -14 * mt.exp(-tau) + 24 * mt.exp(-2*tau) # in Volts"
   ]
  },
  {
   "cell_type": "markdown",
   "id": "ca5e5cc0",
   "metadata": {},
   "source": [
    "Use bisection method to find the root of $f\\!\\left(t\\right)$.\n",
    "\n",
    "Define Python variables `TL` and `TU`\n",
    "to which are respectively assigned the lower and the upper end of the search interval.\n",
    "Run\n",
    "[`scipy.optimize.bisect()`](https://docs.scipy.org/doc/scipy/reference/generated/scipy.optimize.bisect.html)\n",
    "such that you get the (approximate) root as well as information concerning the root-finding process,\n",
    "where the said outputs are stored in Python variables `t_bs` and `t_bs_info`, respectively.\n",
    "Use default values for tolerances.\n",
    "\n",
    "In the succeeding code cell,\n",
    "replace the `pass` statement with your code."
   ]
  },
  {
   "cell_type": "code",
   "execution_count": 3,
   "id": "0504cc34",
   "metadata": {},
   "outputs": [
    {
     "name": "stdout",
     "output_type": "stream",
     "text": [
      "Finding a root in the interval [4, 21]:\n"
     ]
    }
   ],
   "source": [
    "# Define bisection parameters\n",
    "TL , TU = 4, 21             # lower and upper bound (s)\n",
    "\n",
    "print(f\"Finding a root in the interval [{TL}, {TU}]:\")\n",
    "\n",
    "# Use scipy bisection method\n",
    "t_bs, t_bs_info = spo.bisect(\n",
    "   f, TL, TU, full_output = True, disp = False\n",
    ")"
   ]
  },
  {
   "cell_type": "code",
   "execution_count": 4,
   "id": "1d385184",
   "metadata": {},
   "outputs": [
    {
     "name": "stdout",
     "output_type": "stream",
     "text": [
      "      converged: True\n",
      "           flag: converged\n",
      " function_calls: 45\n",
      "     iterations: 43\n",
      "           root: 5.232143681292314\n",
      "         method: bisect\n"
     ]
    }
   ],
   "source": [
    "print(t_bs_info) # the root is in the unit 'second/s'"
   ]
  },
  {
   "cell_type": "markdown",
   "id": "fda25422",
   "metadata": {},
   "source": [
    "## Results and discussion"
   ]
  },
  {
   "cell_type": "markdown",
   "id": "cecfe23b",
   "metadata": {},
   "source": [
    "Verify if the obtained (approximate) root is indeed the root\n",
    "by printing the corresponding value of $f\\!\\left(t\\right)$.\n",
    "The printed display should follow the following format\n",
    "\n",
    ">> Residual value: 1.23456790e-07\n",
    "\n",
    "where 1.23456790e-07 is just an exemplar value.\n",
    "\n",
    "In the succeeding code cell,\n",
    "replace the `pass` statement with your code."
   ]
  },
  {
   "cell_type": "code",
   "execution_count": 5,
   "id": "8eceda5f",
   "metadata": {},
   "outputs": [
    {
     "name": "stdout",
     "output_type": "stream",
     "text": [
      "Residual value: -1.30029321e-12 volts\n"
     ]
    }
   ],
   "source": [
    "# Computing the value of f(t) at the root value\n",
    "residual = f(t_bs)\n",
    "\n",
    "# Printing the residual\n",
    "print (f\"Residual value: {residual:.8e} volts\")"
   ]
  },
  {
   "cell_type": "markdown",
   "id": "78133b5a",
   "metadata": {},
   "source": [
    "Print the minimum voltage across the equivalent-inductance element,\n",
    "such that the output follows the following:\n",
    "\n",
    ">> The minimum voltage across the equivalent-inductance element is 1.234567 volts.\n",
    "\n",
    "where 1.234567 is just an examplar value for the said minimum voltage.\n",
    "\n",
    "In the succeeding code cell,\n",
    "replace the `pass` statement with your code."
   ]
  },
  {
   "cell_type": "code",
   "execution_count": 6,
   "id": "01337f28",
   "metadata": {},
   "outputs": [
    {
     "name": "stdout",
     "output_type": "stream",
     "text": [
      " The minimum voltage across the equivalent-inductance element: -2.041667e+00 volts\n"
     ]
    }
   ],
   "source": [
    "# The minimum voltage across the equivalent-inductance element\n",
    "V_min = v_L(t_bs)\n",
    "\n",
    "print (f\" The minimum voltage across the equivalent-inductance element: {V_min:.6e} volts\")"
   ]
  },
  {
   "cell_type": "markdown",
   "id": "72db5291",
   "metadata": {},
   "source": [
    "## Submission instructions"
   ]
  },
  {
   "cell_type": "markdown",
   "id": "4791c660",
   "metadata": {},
   "source": [
    "Download this notebook file,\n",
    "and save with a filename following the pattern\n",
    "`ACT-04_<section>_<ID number>`,\n",
    "where the section is as reflected in your Google Classroom.\n",
    "For example, if your ID number is 2013-0024\n",
    "and you are enrolled to the M34W12 class,\n",
    "then your notebook should be named `ACT-04_M34W12_2013-0024.ipynb`.\n",
    "Submit your notebook via the classwork platform for this activity in Google Classroom.\n",
    "Submissions beyond the deadline will not be considered.\n",
    "\n",
    "Lastly, the use of AI tools to answer this exam is not prohibited,\n",
    "but it is of ethical interest to disclose such use.\n",
    "This is in line with the\n",
    "[MSU Policy on the Fair and Ethical Use of AI and Its Applications](https://www.msumain.edu.ph/wp-content/uploads/2024/05/MSU-Policy-on-Ethical-use-of-AI-Policies.pdf).\n",
    "As such, please include a brief statement (in a private comment to this classwork)\n",
    "declaring which and how AI tools are used in your work."
   ]
  },
  {
   "cell_type": "markdown",
   "id": "6cb55aa8",
   "metadata": {},
   "source": [
    "*Last updated by Christian Cahig on 2025-10-09*"
   ]
  }
 ],
 "metadata": {
  "kernelspec": {
   "display_name": "eee102",
   "language": "python",
   "name": "python3"
  },
  "language_info": {
   "codemirror_mode": {
    "name": "ipython",
    "version": 3
   },
   "file_extension": ".py",
   "mimetype": "text/x-python",
   "name": "python",
   "nbconvert_exporter": "python",
   "pygments_lexer": "ipython3",
   "version": "3.12.5"
  }
 },
 "nbformat": 4,
 "nbformat_minor": 5
}
