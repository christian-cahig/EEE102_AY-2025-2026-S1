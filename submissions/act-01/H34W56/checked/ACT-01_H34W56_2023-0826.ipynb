{
 "cells": [
  {
   "cell_type": "markdown",
   "id": "44bf4ae2-2573-4acb-8d14-a1ca3587b74b",
   "metadata": {},
   "source": [
    "EEE102 Activity 1\n",
    "\n",
    "\n",
    "This activity is an application of bisection method for univariate root-finding."
   ]
  },
  {
   "cell_type": "markdown",
   "id": "3b31c1e1-b977-4ec7-909d-a34401d8430a",
   "metadata": {},
   "source": [
    "IMPORTS"
   ]
  },
  {
   "cell_type": "code",
   "execution_count": 1,
   "id": "1b204238-a7e2-4c99-a4b8-be9db075b97d",
   "metadata": {},
   "outputs": [],
   "source": [
    "import math as mt\n",
    "import cmath\n",
    "import scipy.optimize as spo\n",
    "import numpy as np"
   ]
  },
  {
   "cell_type": "markdown",
   "id": "bd5077dd-d082-45f0-be91-594cbb8b13c1",
   "metadata": {},
   "source": [
    "You are a power systems engineer tasked to analyze two customer loads and served at a common bus.\n",
    "The bus is at the receiving end of a feeder line extending from the utility system.\n",
    "\n",
    "One of the loads is estimated to be 400 kilowatts at a lagging power factor of 0.85,\n",
    "while the other is rated 300 kilovars at a lagging power factor of 0.75.\n",
    "\n",
    "Records show that the feeder line impedance is rated 1.00 + j2.50 ohms.\n",
    "If it is reasonable to assume that the utility system's RMS voltage hovers around 13.8 kilovolts,\n",
    "at what RMS voltage are the loads served?"
   ]
  },
  {
   "cell_type": "markdown",
   "id": "4983ba55-ec4d-4eaf-bfa2-fbf7b18403ac",
   "metadata": {},
   "source": [
    "You are to approach this as a root-finding problem,\n",
    "and so must first derive a function $f\\!\\left(V\\right)$\n",
    "whose root corresponds to the desired quantity."
   ]
  },
  {
   "cell_type": "markdown",
   "id": "fb97a3ff-0744-4e04-b250-21038e4f9180",
   "metadata": {},
   "source": [
    "FUNCTION"
   ]
  },
  {
   "cell_type": "markdown",
   "id": "55b3a534-478a-4f8e-bf1c-5186bfce05ab",
   "metadata": {},
   "source": [
    "Construct a Python function resid_from_x() that implements $f\\!\\left(V\\right)$.\n",
    "The function takes a single positional argument x,\n",
    "representing $V$."
   ]
  },
  {
   "cell_type": "code",
   "execution_count": 2,
   "id": "92da55b3-1cb1-46bf-97bd-e3ac792701ca",
   "metadata": {},
   "outputs": [],
   "source": [
    "def resid_from_x(V):\n",
    "    return mt.pow(V,2) - 186220175.3 + ((6.148294589*mt.pow(10,12))/mt.pow(V,2))"
   ]
  },
  {
   "cell_type": "markdown",
   "id": "3f7baaaa-2926-4702-8979-1b66751624d9",
   "metadata": {},
   "source": [
    "BISECTION METHOD"
   ]
  },
  {
   "cell_type": "markdown",
   "id": "3dab0ad9-e910-4b54-8086-780229398217",
   "metadata": {},
   "source": [
    "Use bisection to find a root of $f\\!\\left(V\\right)$.\n",
    "Use an iteration budget of 750 and a tolerance of $10^{-7}$.\n",
    "\n",
    "Define the following variables.\n",
    "- XL, to store the lower end of the search interval\n",
    "- XU, to store the upper end of the search interval\n",
    "- MAX_ITERS, to store the iteration budget\n",
    "- X_TOL to store the tolerance\n",
    "\n",
    "Run\n",
    "[scipy.optimize.bisect()](https://docs.scipy.org/doc/scipy/reference/generated/scipy.optimize.bisect.html)\n",
    "such that you get the (approximate) root as well as information concerning the run.\n",
    "Store the root and the information in variables p_bs and p_bs_info, respectively.\n",
    "Make sure to verify if the returned root is indeed a root."
   ]
  },
  {
   "cell_type": "code",
   "execution_count": 3,
   "id": "d8008e09-ce8b-4fe5-99e3-a57713a19092",
   "metadata": {},
   "outputs": [],
   "source": [
    "XL = 1000  # Lower bound\n",
    "XU = 15000  # Upper bound\n",
    "MAX_ITERS = 750\n",
    "X_TOL = 1e-7\n",
    "\n",
    "p_bs, raw_p_bs_info = spo.bisect(resid_from_x, XL, XU, xtol=X_TOL, maxiter=MAX_ITERS, full_output=True)\n",
    "\n",
    "# Create the formatted string for p_bs_info\n",
    "p_bs_info = (\n",
    "    f\" converged: {raw_p_bs_info.converged}\\n\"\n",
    "    f\" flag: {raw_p_bs_info.flag}\\n\"\n",
    "    f\" function_calls: {raw_p_bs_info.function_calls}\\n\"\n",
    "    f\" iterations: {raw_p_bs_info.iterations}\\n\"\n",
    "    f\" root: {p_bs}\\n\"  # Include the root here\n",
    "    f\" method: bisect\"\n",
    ")\n",
    "\n",
    "residual_value = resid_from_x(p_bs)"
   ]
  },
  {
   "cell_type": "markdown",
   "id": "f598a335-8e16-4013-ad3c-6c4358a1c6f1",
   "metadata": {},
   "source": [
    "RESULTS"
   ]
  },
  {
   "cell_type": "code",
   "execution_count": 4,
   "id": "23c8890f-e214-44be-b97b-21d6eae51fbc",
   "metadata": {
    "scrolled": true
   },
   "outputs": [
    {
     "name": "stdout",
     "output_type": "stream",
     "text": [
      "Finding a root in the interval [1000, 15000]:\n",
      " converged: True\n",
      " flag: converged\n",
      " function_calls: 40\n",
      " iterations: 38\n",
      " root: 13645.041340343596\n",
      " method: bisect\n",
      "Residual value: 8.450904715573415e-05\n"
     ]
    }
   ],
   "source": [
    "print(f\"Finding a root in the interval [{XL}, {XU}]:\")\n",
    "print(p_bs_info)\n",
    "print(f\"Residual value: {resid_from_x(p_bs)}\")"
   ]
  },
  {
   "cell_type": "markdown",
   "id": "d6455aa4-d6b1-4481-b002-26bf73f114e7",
   "metadata": {},
   "source": [
    "SUBMISSION INSTRUCTIONS"
   ]
  },
  {
   "cell_type": "markdown",
   "id": "f44e633f-0c96-45f7-ab3f-9081ef22c2df",
   "metadata": {},
   "source": [
    "Download this notebook file,\n",
    "and save with a filename following the pattern\n",
    "ACT-02_\n",
    "_,\n",
    "where the section is as reflected in your Google Classroom.\n",
    "For example, if your ID number is 2013-0024\n",
    "and you are enrolled to the M34W12 class,\n",
    "then your notebook should be named ACT-02_M34W12_2013-0024.ipynb.\n",
    "Submit your notebook via the classwork platform for this activity in Google Classroom.\n",
    "\n",
    "Lastly, the use of AI tools to answer this exam is not prohibited,\n",
    "but it is of ethical interest to disclose such use.\n",
    "This is in line with the\n",
    "[MSU Policy on the Fair and Ethical Use of AI and Its Applications](https://www.msumain.edu.ph/wp-content/uploads/2024/05/MSU-Policy-on-Ethical-use-of-AI-Policies.pdf).\n",
    "As such, please include a brief statement (in a private comment to this classwork)\n",
    "declaring which and how AI tools are used in your work."
   ]
  },
  {
   "cell_type": "markdown",
   "id": "8b67123e-67d9-4d01-a44c-20a8b23f1728",
   "metadata": {},
   "source": [
    "Last updated by Christian Cahig on 2025-10-01"
   ]
  }
 ],
 "metadata": {
  "kernelspec": {
   "display_name": "eee102",
   "language": "python",
   "name": "python3"
  },
  "language_info": {
   "codemirror_mode": {
    "name": "ipython",
    "version": 3
   },
   "file_extension": ".py",
   "mimetype": "text/x-python",
   "name": "python",
   "nbconvert_exporter": "python",
   "pygments_lexer": "ipython3",
   "version": "3.12.5"
  }
 },
 "nbformat": 4,
 "nbformat_minor": 5
}
