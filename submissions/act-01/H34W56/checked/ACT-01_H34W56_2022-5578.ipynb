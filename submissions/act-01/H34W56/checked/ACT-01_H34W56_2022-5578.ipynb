{
 "cells": [
  {
   "cell_type": "markdown",
   "id": "13cf196a",
   "metadata": {},
   "source": [
    "# EEE102 Activity 1\n",
    "\n",
    "This activity is an application of bisection method for univariate root-finding."
   ]
  },
  {
   "cell_type": "markdown",
   "id": "242dd356",
   "metadata": {},
   "source": [
    "## Imports"
   ]
  },
  {
   "cell_type": "code",
   "execution_count": 1,
   "id": "c5809293",
   "metadata": {},
   "outputs": [],
   "source": [
    "import numpy as np\n",
    "from math import acos, tan\n",
    "from scipy import optimize\n",
    "\n",
    "\n",
    "\n",
    "# Add your imports after this line"
   ]
  },
  {
   "cell_type": "code",
   "execution_count": 2,
   "id": "c2e6ee34-c963-4b4b-8d6f-24a4d39e8788",
   "metadata": {},
   "outputs": [],
   "source": [
    "P_A = 400e3            # Load A: 400 kW\n",
    "pf_A = 0.85             # lagging\n",
    "phi_A = acos(pf_A)\n",
    "Q_A = P_A * tan(phi_A)"
   ]
  },
  {
   "cell_type": "code",
   "execution_count": 3,
   "id": "97a77979-f902-41ca-87d2-dab8dcb24d2f",
   "metadata": {},
   "outputs": [],
   "source": [
    "Q_B = 300e3             # Load B: 300 kVAr\n",
    "pf_B = 0.75             # lagging\n",
    "phi_B = acos(pf_B)\n",
    "P_B = Q_B / tan(phi_B)"
   ]
  },
  {
   "cell_type": "code",
   "execution_count": 4,
   "id": "309e03d8-8ae7-4346-b4b7-e65dd3325c04",
   "metadata": {},
   "outputs": [],
   "source": [
    "S_total = (P_A + P_B) + 1j * (Q_A + Q_B)\n"
   ]
  },
  {
   "cell_type": "code",
   "execution_count": 5,
   "id": "12164558-f535-4932-9f00-55ec4c2cfb80",
   "metadata": {},
   "outputs": [],
   "source": [
    "Z_line = 1.0 + 1j * 2.5"
   ]
  },
  {
   "cell_type": "code",
   "execution_count": 6,
   "id": "90543009-9379-44be-a3de-7d33f21a09ee",
   "metadata": {},
   "outputs": [],
   "source": [
    "V_utility = 13.8e3\n"
   ]
  },
  {
   "cell_type": "markdown",
   "id": "b459de5d",
   "metadata": {},
   "source": [
    "## Scenario"
   ]
  },
  {
   "cell_type": "markdown",
   "id": "9f5fd5c0",
   "metadata": {},
   "source": [
    "You are a power systems engineer tasked to analyze two customer loads and served at a common bus.\n",
    "The bus is at the receiving end of a feeder line extending from the utility system.\n",
    "\n",
    "One of the loads is estimated to be 400 kilowatts at a lagging power factor of 0.85,\n",
    "while the other is rated 300 kilovars at a lagging power factor of 0.75.\n",
    "\n",
    "Records show that the feeder line impedance is rated 1.00 + j2.50 ohms.\n",
    "If it is reasonable to assume that the utility system's RMS voltage hovers around 13.8 kilovolts,\n",
    "at what RMS voltage are the loads served?"
   ]
  },
  {
   "cell_type": "markdown",
   "id": "5b68728e",
   "metadata": {},
   "source": [
    "You are to approach this as a root-finding problem,\n",
    "and so must first derive a function $f\\!\\left(V\\right)$\n",
    "whose root corresponds to the desired quantity."
   ]
  },
  {
   "cell_type": "markdown",
   "id": "5ed56af3",
   "metadata": {},
   "source": [
    "## Bisection"
   ]
  },
  {
   "cell_type": "markdown",
   "id": "9038c957",
   "metadata": {},
   "source": [
    "Construct a Python function `resid_from_x()` that implements $f\\!\\left(V\\right)$.\n",
    "The function takes a single positional argument `x`,\n",
    "representing $V$."
   ]
  },
  {
   "cell_type": "code",
   "execution_count": 7,
   "id": "bdbd41f8",
   "metadata": {},
   "outputs": [],
   "source": [
    "def resid_from_x(x):\n",
    "    \"\"\"Residual function f(v) = |V_s| - V_utility.\"\"\"\n",
    "    if x <= 0:\n",
    "        return np.inf\n",
    "    I = np.conjugate(S_total) / x    # phasor current (A)\n",
    "    V_s = x + Z_line * I             # sending-end phasor (V)\n",
    "    return np.abs(V_s) - V_utility\n"
   ]
  },
  {
   "cell_type": "markdown",
   "id": "761b494c",
   "metadata": {},
   "source": [
    "Use bisection to find a root of $f\\!\\left(V\\right)$.\n",
    "Use an iteration budget of 750 and a tolerance of $10^{-7}$.\n",
    "\n",
    "Define the following variables.\n",
    "- `XL`, to store the lower end of the search interval\n",
    "- `XU`, to store the upper end of the search interval\n",
    "- `MAX_ITERS`, to store the iteration budget\n",
    "- `X_TOL` to store the tolerance\n",
    "\n",
    "Run\n",
    "[`scipy.optimize.bisect()`](https://docs.scipy.org/doc/scipy/reference/generated/scipy.optimize.bisect.html)\n",
    "such that you get the (approximate) root as well as information concerning the run.\n",
    "Store the root and the information in variables `p_bs` and `p_bs_info`, respectively.\n",
    "Make sure to verify if the returned root is indeed a root."
   ]
  },
  {
   "cell_type": "code",
   "execution_count": 8,
   "id": "e312d37e",
   "metadata": {},
   "outputs": [],
   "source": [
    "# Replace `None` with your answer\n",
    "XL = 1.0e3       # Lower bound (1 kV)\n",
    "XU = 20.0e3      # Upper bound (20 kV)\n",
    "MAX_ITERS = 750\n",
    "X_TOL = 1e-6\n",
    "# Write code here. You may have additional code cells."
   ]
  },
  {
   "cell_type": "code",
   "execution_count": 9,
   "id": "302b578f-c5b3-401f-a1ce-b2c44f38df34",
   "metadata": {},
   "outputs": [],
   "source": [
    "p_bs, p_bs_info = optimize.bisect(\n",
    "    resid_from_x, XL, XU, xtol=X_TOL, maxiter=MAX_ITERS, full_output=True\n",
    ")"
   ]
  },
  {
   "cell_type": "markdown",
   "id": "31afdfab",
   "metadata": {},
   "source": [
    "## Results\n",
    "\n",
    "Do not modify nor remove the following code cell."
   ]
  },
  {
   "cell_type": "code",
   "execution_count": 10,
   "id": "83df63f6",
   "metadata": {},
   "outputs": [
    {
     "name": "stdout",
     "output_type": "stream",
     "text": [
      "Finding a root in the interval [1000.0, 20000.0]:\n",
      "      converged: True\n",
      "           flag: converged\n",
      " function_calls: 37\n",
      "     iterations: 35\n",
      "           root: 13645.041338837473\n",
      "         method: bisect\n",
      "Residual value: -4.608791641658172e-07\n"
     ]
    }
   ],
   "source": [
    "# --- Required print section (unchanged) ---\n",
    "print(f\"Finding a root in the interval [{XL}, {XU}]:\")\n",
    "print(p_bs_info)\n",
    "print(f\"Residual value: {resid_from_x(p_bs)}\")"
   ]
  },
  {
   "cell_type": "markdown",
   "id": "16ebcfa6",
   "metadata": {},
   "source": [
    "## Submission instructions"
   ]
  },
  {
   "cell_type": "markdown",
   "id": "84dd36b9",
   "metadata": {},
   "source": [
    "Download this notebook file,\n",
    "and save with a filename following the pattern\n",
    "`ACT-01_<section>_<ID number>`,\n",
    "where the section is as reflected in your Google Classroom.\n",
    "For example, if your ID number is 2013-0024\n",
    "and you are enrolled to the M34W12 class,\n",
    "then your notebook should be named `ACT-01_M34W12_2013-0024.ipynb`.\n",
    "Submit your notebook via the classwork platform for this activity in Google Classroom.\n",
    "\n",
    "Lastly, the use of AI tools to answer this exam is not prohibited,\n",
    "but it is of ethical interest to disclose such use.\n",
    "This is in line with the\n",
    "[MSU Policy on the Fair and Ethical Use of AI and Its Applications](https://www.msumain.edu.ph/wp-content/uploads/2024/05/MSU-Policy-on-Ethical-use-of-AI-Policies.pdf).\n",
    "As such, please include a brief statement (in a private comment to this classwork)\n",
    "declaring which and how AI tools are used in your work."
   ]
  },
  {
   "cell_type": "markdown",
   "id": "f3bf61ca",
   "metadata": {},
   "source": [
    "*Last updated by Christian Cahig on 2025-10-01*"
   ]
  }
 ],
 "metadata": {
  "kernelspec": {
   "display_name": "eee102",
   "language": "python",
   "name": "python3"
  },
  "language_info": {
   "codemirror_mode": {
    "name": "ipython",
    "version": 3
   },
   "file_extension": ".py",
   "mimetype": "text/x-python",
   "name": "python",
   "nbconvert_exporter": "python",
   "pygments_lexer": "ipython3",
   "version": "3.12.5"
  }
 },
 "nbformat": 4,
 "nbformat_minor": 5
}
