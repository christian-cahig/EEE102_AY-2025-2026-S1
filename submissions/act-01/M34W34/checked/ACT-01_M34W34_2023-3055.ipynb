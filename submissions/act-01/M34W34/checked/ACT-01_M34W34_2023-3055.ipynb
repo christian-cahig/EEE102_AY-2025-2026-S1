{
 "cells": [
  {
   "cell_type": "code",
   "execution_count": 1,
   "id": "c20c5535",
   "metadata": {},
   "outputs": [
    {
     "name": "stdout",
     "output_type": "stream",
     "text": [
      "Finding a root in the interval [10000, 13800]:\n",
      "      converged: True\n",
      "           flag: converged\n",
      " function_calls: 38\n",
      "     iterations: 36\n",
      "           root: 13683.765423568548\n",
      "         method: bisect\n",
      "Residual value: -2.7452188078314066e-08 V\n"
     ]
    }
   ],
   "source": [
    "# ======================\n",
    "# Imports\n",
    "# ======================\n",
    "import math as mt\n",
    "import scipy.optimize as spo\n",
    "\n",
    "# ======================\n",
    "# Scenario Setup\n",
    "# ======================\n",
    "# Given data\n",
    "S1 = 400e3          # Load 1 = 400 kW\n",
    "pf1 = 0.85           # Power factor (lagging)\n",
    "S2 = 300e3          # Load 2 = 300 kW\n",
    "pf2 = 0.75           # Power factor (lagging)\n",
    "Z_line = 1 + 2.5j    # Line impedance (ohms)\n",
    "V_source = 13.8e3    # Source RMS voltage (volts)\n",
    "\n",
    "# Compute power angles\n",
    "theta1 = mt.acos(pf1)\n",
    "theta2 = mt.acos(pf2)\n",
    "\n",
    "# Complex powers for both loads (S = P + jQ)\n",
    "S_load1 = S1 * (mt.cos(theta1) + 1j * mt.sin(theta1))\n",
    "S_load2 = S2 * (mt.cos(theta2) + 1j * mt.sin(theta2))\n",
    "\n",
    "# ======================\n",
    "# Residual function definition\n",
    "# ======================\n",
    "def resid_from_x(V):\n",
    "    \"\"\"\n",
    "    Residual function f(V) = |V + I*Z_line| - V_source\n",
    "    where I = (S_total.conjugate()) / V\n",
    "    \"\"\"\n",
    "    S_total = S_load1 + S_load2       # total complex power\n",
    "    I = S_total.conjugate() / V       # current from source\n",
    "    V_send = V + I * Z_line           # sending-end voltage\n",
    "    return abs(V_send) - V_source     # residual to drive to zero\n",
    "\n",
    "# ======================\n",
    "# Bisection method setup\n",
    "# ======================\n",
    "XL = 10000      # lower bound of interval (10 kV)\n",
    "XU = 13800      # upper bound of interval (13.8 kV)\n",
    "MAX_ITERS = 750\n",
    "X_TOL = 1e-7\n",
    "\n",
    "# Run bisection method\n",
    "p_bs, p_info = spo.bisect(\n",
    "    resid_from_x, XL, XU,\n",
    "    maxiter=MAX_ITERS, xtol=X_TOL, full_output=True\n",
    ")\n",
    "\n",
    "# ======================\n",
    "# Results\n",
    "# ======================\n",
    "print(f\"Finding a root in the interval [{XL}, {XU}]:\")\n",
    "print(p_info)\n",
    "print(f\"Residual value: {resid_from_x(p_bs)} V\")\n"
   ]
  }
 ],
 "metadata": {
  "kernelspec": {
   "display_name": "eee102",
   "language": "python",
   "name": "python3"
  },
  "language_info": {
   "codemirror_mode": {
    "name": "ipython",
    "version": 3
   },
   "file_extension": ".py",
   "mimetype": "text/x-python",
   "name": "python",
   "nbconvert_exporter": "python",
   "pygments_lexer": "ipython3",
   "version": "3.12.5"
  }
 },
 "nbformat": 4,
 "nbformat_minor": 5
}
