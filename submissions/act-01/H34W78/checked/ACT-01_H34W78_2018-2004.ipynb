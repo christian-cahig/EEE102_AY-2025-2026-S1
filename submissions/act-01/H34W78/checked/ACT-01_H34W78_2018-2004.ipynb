{
 "cells": [
  {
   "cell_type": "code",
   "execution_count": 1,
   "id": "9f232fd5",
   "metadata": {},
   "outputs": [],
   "source": [
    "import math as mt\n",
    "import scipy.optimize as spo\n"
   ]
  },
  {
   "cell_type": "code",
   "execution_count": 2,
   "id": "c27ec0db",
   "metadata": {},
   "outputs": [],
   "source": [
    "phase1 = 400e3          \n",
    "power_factor1 = 0.85          \n",
    "phase2 = 300e3         \n",
    "power_factor2 = 0.75        \n",
    "Z = complex(1.00, 2.50)  \n",
    "V_S_kV = 13.8             \n"
   ]
  },
  {
   "cell_type": "code",
   "execution_count": 3,
   "id": "363b49d5",
   "metadata": {},
   "outputs": [],
   "source": [
    "theta1 = mt.acos(power_factor1)\n",
    "Q1 = phase1 * mt.tan(theta1)\n",
    "\n",
    "theta2 = mt.acos(power_factor2)\n",
    "Q2 = phase2 * mt.tan(theta2)\n",
    "\n",
    "S_tot = complex(phase1 + phase2, Q1 + Q2)\n",
    "\n",
    "A = S_tot.conjugate() * Z / mt.sqrt(3)\n",
    "a = A.real\n",
    "b = A.imag\n"
   ]
  },
  {
   "cell_type": "code",
   "execution_count": 4,
   "id": "37b03653",
   "metadata": {},
   "outputs": [],
   "source": [
    "def resid_from_x(V_kV):\n",
    "    V = V_kV * 1000.0  \n",
    "    X = V + a / V\n",
    "    Y = b / V\n",
    "    m = mt.hypot(X, Y)\n",
    "    return (m / 1000.0) - V_S_kV\n"
   ]
  },
  {
   "cell_type": "code",
   "execution_count": 5,
   "id": "e1fdf9ae",
   "metadata": {},
   "outputs": [],
   "source": [
    "XL, XU = 13.0, 13.8  \n",
    "MAX_ITERS = 750\n",
    "X_TOL = 1e-8\n",
    "p_bs, p_bs_info = spo.bisect(\n",
    "    resid_from_x, XL, XU, xtol=X_TOL, maxiter=MAX_ITERS, full_output=True\n",
    ")\n",
    "residual = resid_from_x(p_bs)\n"
   ]
  },
  {
   "cell_type": "code",
   "execution_count": 6,
   "id": "9db08d7e",
   "metadata": {},
   "outputs": [
    {
     "name": "stdout",
     "output_type": "stream",
     "text": [
      "Finding a root in the interval [13.0, 13.8]:\n",
      "      converged: True\n",
      "           flag: converged\n",
      " function_calls: 29\n",
      "     iterations: 27\n",
      "           root: 13.716510504484177\n",
      "         method: bisect\n",
      "Residual value: -2.0800250410957233e-09\n"
     ]
    }
   ],
   "source": [
    "print(f\"Finding a root in the interval [{XL}, {XU}]:\")\n",
    "print(p_bs_info)\n",
    "print(f\"Residual value: {residual}\")\n",
    "\n"
   ]
  },
  {
   "cell_type": "code",
   "execution_count": 7,
   "id": "16059f0e",
   "metadata": {},
   "outputs": [
    {
     "name": "stdout",
     "output_type": "stream",
     "text": [
      "The RMS voltage at the common bus is 13.716511 kilovolts.\n"
     ]
    }
   ],
   "source": [
    "print(f\"The RMS voltage at the common bus is {p_bs:.6f} kilovolts.\")"
   ]
  },
  {
   "cell_type": "code",
   "execution_count": null,
   "id": "af980e13-92f8-40bd-bad8-cbb5e054dd1e",
   "metadata": {},
   "outputs": [],
   "source": []
  }
 ],
 "metadata": {
  "kernelspec": {
   "display_name": "eee102",
   "language": "python",
   "name": "python3"
  },
  "language_info": {
   "codemirror_mode": {
    "name": "ipython",
    "version": 3
   },
   "file_extension": ".py",
   "mimetype": "text/x-python",
   "name": "python",
   "nbconvert_exporter": "python",
   "pygments_lexer": "ipython3",
   "version": "3.12.5"
  }
 },
 "nbformat": 4,
 "nbformat_minor": 5
}
