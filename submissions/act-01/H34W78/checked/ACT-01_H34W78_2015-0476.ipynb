{
 "cells": [
  {
   "cell_type": "markdown",
   "id": "13cf196a",
   "metadata": {},
   "source": [
    "# Activity 1\n",
    "\n",
    "This activity is an application of bisection method for univariate root-finding."
   ]
  },
  {
   "cell_type": "markdown",
   "id": "242dd356",
   "metadata": {},
   "source": [
    "## Imports"
   ]
  },
  {
   "cell_type": "code",
   "execution_count": 1,
   "id": "c5809293",
   "metadata": {},
   "outputs": [],
   "source": [
    "import math as mt\n",
    "\n",
    "import scipy.optimize as spo\n",
    "\n",
    "# Add your imports after this line\n",
    "\n",
    "import numpy as np\n",
    "import cmath\n"
   ]
  },
  {
   "cell_type": "markdown",
   "id": "b459de5d",
   "metadata": {},
   "source": [
    "## Scenario"
   ]
  },
  {
   "cell_type": "markdown",
   "id": "9f5fd5c0",
   "metadata": {},
   "source": [
    "You are a power systems engineer tasked to analyze two customer loads and served at a common bus.\n",
    "The bus is at the receiving end of a feeder line extending from the utility system.\n",
    "\n",
    "One of the loads is estimated to be 400 kilowatts at a lagging power factor of 0.85,\n",
    "while the other is rated 300 kilovars at a lagging power factor of 0.75.\n",
    "\n",
    "Records show that the feeder line impedance is rated 1.00 + j2.50 ohms.\n",
    "If it is reasonable to assume that the utility system's RMS voltage hovers around 13.8 kilovolts,\n",
    "at what RMS voltage are the loads served?"
   ]
  },
  {
   "cell_type": "markdown",
   "id": "5b68728e",
   "metadata": {},
   "source": [
    "You are to approach this as a root-finding problem,\n",
    "and so must first derive a function $f\\!\\left(V\\right)$\n",
    "whose root corresponds to the desired quantity.\n",
    "\n"
   ]
  },
  {
   "cell_type": "markdown",
   "id": "b777fa81-c8ba-4566-9dc2-3509a735d406",
   "metadata": {},
   "source": [
    "**Given:**\n",
    "  \n",
    "**Load 1:**\n",
    "\n",
    "- Real power: $P_1 = 400~\\text{kW}$\n",
    "- Power factor: $\\mathrm{pf}_1 = 0.85~(\\text{lagging})$\n",
    "\n",
    "**Load 2:**\n",
    "\n",
    "- Reactive power: $Q_2 = 300~\\text{kVAR}$\n",
    "- Power factor: $\\mathrm{pf}_2 = 0.75~(\\text{lagging})$\n",
    "\n",
    "**Feeder Line Impedance:**\n",
    "\n",
    "- $Z = 1.00 + j2.50~\\Omega$"
   ]
  },
  {
   "cell_type": "markdown",
   "id": "35a55274-83d9-4419-9a60-c53703a11f6d",
   "metadata": {},
   "source": [
    "**Load 1:**\n",
    "\n",
    "$$\n",
    "Q_1 = P_1 \\tan(\\cos^{-1}(0.85))= 400 \\tan(31.79^\\circ) = 247.0450~\\text{kVAR}\n",
    "$$\n",
    "\n",
    "$$\n",
    "S_1 = 400 + j\\,247.6 = 470.1396\\angle 31.70^\\circ~\\text{kVA}\n",
    "$$\n",
    "|\n",
    "**Load 2:**\n",
    "\n",
    "$$\n",
    "P_2 = \\dfrac{Q_2}{\\tan(41.41^\\circ)} = 340.1635~\\text{kW}\n",
    "$$\n",
    "\n",
    "$$\n",
    "S_2 = 340.1635 + j\\,300 = 453.5540\\angle 41.41^\\circ~\\text{kVA}\n",
    "$$\n",
    "\n",
    "**S Total**\n",
    "\n",
    "$$\n",
    "S_T = S_1 + S_2 = (400 + 340.1635) + j(247.0450 + 300)\n",
    "= 740.1635 + j547.0450~\\text{kVA}\n",
    "$$\n",
    "\n",
    "$$\n",
    "S_{\\text{per phase}} = \\dfrac{S_T}{3}\n",
    "= (246.7212 + j182.3483)~\\text{kVA}\n",
    "= 306.6\\angle 36.47^\\circ~\\text{kVA}\n",
    "$$"
   ]
  },
  {
   "cell_type": "markdown",
   "id": "d5bdf8d2-82ea-4a5e-88ff-6df77663c500",
   "metadata": {},
   "source": [
    "**Finding** $f\\!\\left(V\\right)$\n",
    "\n",
    "**By using KVL**\n",
    "$$\n",
    "V_s = V + I Z\n",
    "$$\n",
    "**From complex power formula**\n",
    "$$\n",
    "S = V I^* \\;\\Rightarrow\\; I = \\dfrac{\\overline{S}}{V^*}\n",
    "$$\n",
    "**Substitute to Vs = V + I Z**\n",
    "$$\n",
    "V_s = V + Z \\dfrac{\\overline{S}}{V^*}\n",
    "$$\n",
    "**Transfer Vs to the other side and equate to 0**\n",
    "$$\n",
    "f(V) = \\left| V + Z \\dfrac{\\overline{S}}{V} \\right| - V_s = 0\n",
    "$$\n",
    "\n"
   ]
  },
  {
   "cell_type": "markdown",
   "id": "5ed56af3",
   "metadata": {},
   "source": [
    "## Bisection"
   ]
  },
  {
   "cell_type": "markdown",
   "id": "9038c957",
   "metadata": {},
   "source": [
    "Construct a Python function `resid_from_x()` that implements $f\\!\\left(V\\right)$.\n",
    "The function takes a single positional argument `x`,\n",
    "representing $V$."
   ]
  },
  {
   "cell_type": "code",
   "execution_count": 2,
   "id": "bdbd41f8",
   "metadata": {},
   "outputs": [],
   "source": [
    "def resid_from_x(V):\n",
    "    Z = 1 + 1j*2.5\n",
    "    Vs = 13.8e3 / np.sqrt(3)\n",
    "    S_total = (740.1635 + 1j*547.0450) * 1e3\n",
    "    s = S_total / 3\n",
    "    function = abs(V + Z * np.conj(s) / V) - Vs\n",
    "    return function\n",
    "\n"
   ]
  },
  {
   "cell_type": "markdown",
   "id": "761b494c",
   "metadata": {},
   "source": [
    "Use bisection to find a root of $f\\!\\left(V\\right)$.\n",
    "Use an iteration budget of 750 and a tolerance of $10^{-7}$.\n",
    "\n",
    "Define the following variables.\n",
    "- `XL`, to store the lower end of the search interval\n",
    "- `XU`, to store the upper end of the search interval\n",
    "- `MAX_ITERS`, to store the iteration budget\n",
    "- `X_TOL` to store the tolerance\n",
    "\n",
    "Run\n",
    "[`scipy.optimize.bisect()`](https://docs.scipy.org/doc/scipy/reference/generated/scipy.optimize.bisect.html)\n",
    "such that you get the (approximate) root as well as information concerning the run.\n",
    "Store the root and the information in variables `p_bs` and `p_bs_info`, respectively.\n",
    "Make sure to verify if the returned root is indeed a root."
   ]
  },
  {
   "cell_type": "code",
   "execution_count": 3,
   "id": "e312d37e",
   "metadata": {},
   "outputs": [],
   "source": [
    "# Replace `None` with your answer\n",
    "XL, XU = 1000, 10000  \n",
    "X_TOL = 1e-7\n",
    "MAX_ITERS = 750\n",
    "\n",
    "# Write code here. You may have additional code cells."
   ]
  },
  {
   "cell_type": "code",
   "execution_count": 4,
   "id": "73ee0f89-2a81-4c05-90d7-7244f0025c13",
   "metadata": {},
   "outputs": [],
   "source": [
    "p_bs, p_bs_info = spo.bisect(\n",
    "    resid_from_x, XL, XU,\n",
    "    rtol = X_TOL, maxiter = MAX_ITERS,\n",
    "    full_output = True, disp = False,\n",
    ")"
   ]
  },
  {
   "cell_type": "markdown",
   "id": "31afdfab",
   "metadata": {},
   "source": [
    "## Results\n",
    "\n",
    "Do not modify nor remove the following code cell."
   ]
  },
  {
   "cell_type": "code",
   "execution_count": 5,
   "id": "83df63f6",
   "metadata": {},
   "outputs": [
    {
     "name": "stdout",
     "output_type": "stream",
     "text": [
      "Finding a root in the interval [1000, 10000]:\n",
      "      converged: True\n",
      "           flag: converged\n",
      " function_calls: 26\n",
      "     iterations: 24\n",
      "           root: 7878.059923648834\n",
      "         method: bisect\n",
      "Residual value: 0.0004438185496837832\n"
     ]
    }
   ],
   "source": [
    "print(f\"Finding a root in the interval [{XL}, {XU}]:\")\n",
    "print(p_bs_info)\n",
    "print(f\"Residual value: {resid_from_x(p_bs)}\")"
   ]
  },
  {
   "cell_type": "markdown",
   "id": "16ebcfa6",
   "metadata": {},
   "source": [
    "## Submission instructions"
   ]
  },
  {
   "cell_type": "markdown",
   "id": "84dd36b9",
   "metadata": {},
   "source": [
    "Download this notebook file,\n",
    "and save with a filename following the pattern\n",
    "`ACT-01_<section>_<ID number>`,\n",
    "where the section is as reflected in your Google Classroom.\n",
    "For example, if your ID number is 2013-0024\n",
    "and you are enrolled to the M34W12 class,\n",
    "then your notebook should be named `ACT-01_M34W12_2013-0024.ipynb`.\n",
    "Submit your notebook via the classwork platform for this activity in Google Classroom.\n",
    "\n",
    "Lastly, the use of AI tools to answer this exam is not prohibited,\n",
    "but it is of ethical interest to disclose such use.\n",
    "This is in line with the\n",
    "[MSU Policy on the Fair and Ethical Use of AI and Its Applications](https://www.msumain.edu.ph/wp-content/uploads/2024/05/MSU-Policy-on-Ethical-use-of-AI-Policies.pdf).\n",
    "As such, please include a brief statement (in a private comment to this classwork)\n",
    "declaring which and how AI tools are used in your work."
   ]
  },
  {
   "cell_type": "markdown",
   "id": "f3bf61ca",
   "metadata": {},
   "source": [
    "*Last updated by Christian Cahig on 2025-10-06*"
   ]
  }
 ],
 "metadata": {
  "kernelspec": {
   "display_name": "eee102",
   "language": "python",
   "name": "python3"
  },
  "language_info": {
   "codemirror_mode": {
    "name": "ipython",
    "version": 3
   },
   "file_extension": ".py",
   "mimetype": "text/x-python",
   "name": "python",
   "nbconvert_exporter": "python",
   "pygments_lexer": "ipython3",
   "version": "3.12.5"
  }
 },
 "nbformat": 4,
 "nbformat_minor": 5
}
