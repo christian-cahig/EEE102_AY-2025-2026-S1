{
 "cells": [
  {
   "cell_type": "code",
   "execution_count": 1,
   "id": "9f232fd5",
   "metadata": {},
   "outputs": [],
   "source": [
    "import math as mt\n",
    "import scipy.optimize as spo\n"
   ]
  },
  {
   "cell_type": "markdown",
   "id": "860799cf",
   "metadata": {},
   "source": [
    "## Scenario"
   ]
  },
  {
   "cell_type": "markdown",
   "id": "3fd46b29",
   "metadata": {},
   "source": [
    "You are a power systems engineer tasked to analyze two customer loads and served at a common bus.\n",
    "The bus is at the receiving end of a feeder line extending from the utility system.\n",
    "\n",
    "One of the loads is estimated to be 400 kilowatts at a lagging power factor of 0.85,\n",
    "while the other is rated 300 kilovars at a lagging power factor of 0.75.\n",
    "\n",
    "Records show that the feeder line impedance is rated 1.00 + j2.50 ohms.\n",
    "If it is reasonable to assume that the utility system's RMS voltage hovers around 13.8 kilovolts,\n",
    "at what RMS voltage are the loads served?"
   ]
  },
  {
   "cell_type": "markdown",
   "id": "6a909e50",
   "metadata": {},
   "source": [
    "You are to approach this as a root-finding problem,\n",
    "and so must first derive a function $f\\!\\left(V\\right)$\n",
    "whose root corresponds to the desired quantity."
   ]
  },
  {
   "cell_type": "markdown",
   "id": "4e568520",
   "metadata": {},
   "source": [
    "## Bisection"
   ]
  },
  {
   "cell_type": "markdown",
   "id": "a6968bf3",
   "metadata": {},
   "source": [
    "Construct a Python function `resid_from_x()` that implements $f\\!\\left(V\\right)$.\n",
    "The function takes a single positional argument `x`,\n",
    "representing $V$."
   ]
  },
  {
   "cell_type": "code",
   "execution_count": 2,
   "id": "c27ec0db",
   "metadata": {},
   "outputs": [],
   "source": [
    "phase1 = 400e3          \n",
    "power_factor1 = 0.85          \n",
    "phase2 = 300e3         \n",
    "power_factor2 = 0.75        \n",
    "Z = complex(1.00, 2.50)  \n",
    "V_S_kV = 13.8             \n"
   ]
  },
  {
   "cell_type": "code",
   "execution_count": 3,
   "id": "363b49d5",
   "metadata": {},
   "outputs": [],
   "source": [
    "theta1 = mt.acos(power_factor1)\n",
    "Q1 = phase1 * mt.tan(theta1)\n",
    "\n",
    "theta2 = mt.acos(power_factor2)\n",
    "Q2 = phase2 * mt.tan(theta2)\n",
    "\n",
    "S_tot = complex(phase1 + phase2, Q1 + Q2)\n",
    "\n",
    "A = S_tot.conjugate() * Z / mt.sqrt(3)\n",
    "a = A.real\n",
    "b = A.imag\n"
   ]
  },
  {
   "cell_type": "markdown",
   "id": "9a1a6526",
   "metadata": {},
   "source": [
    "Use bisection to find a root of $f\\!\\left(V\\right)$.\n",
    "Use an iteration budget of 750 and a tolerance of $10^{-7}$.\n",
    "\n",
    "Define the following variables.\n",
    "- `XL`, to store the lower end of the search interval\n",
    "- `XU`, to store the upper end of the search interval\n",
    "- `MAX_ITERS`, to store the iteration budget\n",
    "- `X_TOL` to store the tolerance\n",
    "\n",
    "Run\n",
    "[`scipy.optimize.bisect()`](https://docs.scipy.org/doc/scipy/reference/generated/scipy.optimize.bisect.html)\n",
    "such that you get the (approximate) root as well as information concerning the run.\n",
    "Store the root and the information in variables `p_bs` and `p_bs_info`, respectively.\n",
    "Make sure to verify if the returned root is indeed a root."
   ]
  },
  {
   "cell_type": "code",
   "execution_count": 4,
   "id": "37b03653",
   "metadata": {},
   "outputs": [],
   "source": [
    "def resid_from_x(V_kV):\n",
    "    V = V_kV * 1000.0  \n",
    "    X = V + a / V\n",
    "    Y = b / V\n",
    "    m = mt.hypot(X, Y)\n",
    "    return (m / 1000.0) - V_S_kV\n"
   ]
  },
  {
   "cell_type": "code",
   "execution_count": 5,
   "id": "e1fdf9ae",
   "metadata": {},
   "outputs": [],
   "source": [
    "XL, XU = 13.0, 13.8  \n",
    "MAX_ITERS = 750\n",
    "X_TOL = 1e-8\n",
    "p_bs, p_bs_info = spo.bisect(\n",
    "    resid_from_x, XL, XU, xtol=X_TOL, maxiter=MAX_ITERS, full_output=True\n",
    ")\n",
    "residual = resid_from_x(p_bs)\n"
   ]
  },
  {
   "cell_type": "markdown",
   "id": "fb96ae58",
   "metadata": {},
   "source": [
    "## Results\n",
    "\n",
    "Do not modify nor remove the following code cell."
   ]
  },
  {
   "cell_type": "code",
   "execution_count": 6,
   "id": "9db08d7e",
   "metadata": {},
   "outputs": [
    {
     "name": "stdout",
     "output_type": "stream",
     "text": [
      "Finding a root in the interval [13.0, 13.8]:\n",
      "      converged: True\n",
      "           flag: converged\n",
      " function_calls: 29\n",
      "     iterations: 27\n",
      "           root: 13.716510504484177\n",
      "         method: bisect\n",
      "Residual value: -2.0800250410957233e-09\n"
     ]
    }
   ],
   "source": [
    "print(f\"Finding a root in the interval [{XL}, {XU}]:\")\n",
    "print(p_bs_info)\n",
    "print(f\"Residual value: {residual}\")\n",
    "\n"
   ]
  },
  {
   "cell_type": "code",
   "execution_count": 7,
   "id": "16059f0e",
   "metadata": {},
   "outputs": [
    {
     "name": "stdout",
     "output_type": "stream",
     "text": [
      "The RMS voltage at the common bus is 13.716511 kilovolts.\n"
     ]
    }
   ],
   "source": [
    "print(f\"The RMS voltage at the common bus is {p_bs:.6f} kilovolts.\")"
   ]
  },
  {
   "cell_type": "markdown",
   "id": "3e89e8fe",
   "metadata": {},
   "source": [
    "## Submission instructions"
   ]
  },
  {
   "cell_type": "markdown",
   "id": "f94b96d5",
   "metadata": {},
   "source": [
    "Download this notebook file,\n",
    "and save with a filename following the pattern\n",
    "`ACT-01_<section>_<ID number>`,\n",
    "where the section is as reflected in your Google Classroom.\n",
    "For example, if your ID number is 2013-0024\n",
    "and you are enrolled to the M34W12 class,\n",
    "then your notebook should be named `ACT-01_M34W12_2013-0024.ipynb`.\n",
    "Submit your notebook via the classwork platform for this activity in Google Classroom.\n",
    "\n",
    "Lastly, the use of AI tools to answer this exam is not prohibited,\n",
    "but it is of ethical interest to disclose such use.\n",
    "This is in line with the\n",
    "[MSU Policy on the Fair and Ethical Use of AI and Its Applications](https://www.msumain.edu.ph/wp-content/uploads/2024/05/MSU-Policy-on-Ethical-use-of-AI-Policies.pdf).\n",
    "As such, please include a brief statement (in a private comment to this classwork)\n",
    "declaring which and how AI tools are used in your work."
   ]
  },
  {
   "cell_type": "markdown",
   "id": "2bb98232",
   "metadata": {},
   "source": [
    "*Last updated by Christian Cahig on 2025-10-06*"
   ]
  }
 ],
 "metadata": {
  "kernelspec": {
   "display_name": "eee102",
   "language": "python",
   "name": "python3"
  },
  "language_info": {
   "codemirror_mode": {
    "name": "ipython",
    "version": 3
   },
   "file_extension": ".py",
   "mimetype": "text/x-python",
   "name": "python",
   "nbconvert_exporter": "python",
   "pygments_lexer": "ipython3",
   "version": "3.12.5"
  }
 },
 "nbformat": 4,
 "nbformat_minor": 5
}
