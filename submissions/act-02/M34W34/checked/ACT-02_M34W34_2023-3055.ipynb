{
 "cells": [
  {
   "cell_type": "code",
   "execution_count": 1,
   "id": "eadb8106",
   "metadata": {},
   "outputs": [
    {
     "name": "stdout",
     "output_type": "stream",
     "text": [
      "Finding a root from {X0}:\n",
      "      converged: True\n",
      "           flag: converged\n",
      " function_calls: 8\n",
      "     iterations: 4\n",
      "           root: 13683.765423596236\n",
      "         method: newton\n",
      "Residual value: {f(p_nr)}\n",
      "The RMS voltage at the common bus is {p_nr / 1000:.4f} kilovolts.\n"
     ]
    }
   ],
   "source": [
    "# ======================\n",
    "# Imports\n",
    "# ======================\n",
    "import math as mt\n",
    "import scipy.optimize as spo\n",
    "\n",
    "\n",
    "# ======================\n",
    "# Scenario Setup\n",
    "# ======================\n",
    "# Given data\n",
    "S1 = 400e3          # Load 1 = 400 kW\n",
    "pf1 = 0.85           # Power factor (lagging)\n",
    "S2 = 300e3          # Load 2 = 300 kW\n",
    "pf2 = 0.75           # Power factor (lagging)\n",
    "Z_line = 1 + 2.5j    # Line impedance (ohms)\n",
    "V_source = 13.8e3    # Source RMS voltage (volts)\n",
    "\n",
    "# Compute power angles\n",
    "theta1 = mt.acos(pf1)\n",
    "theta2 = mt.acos(pf2)\n",
    "\n",
    "# Complex powers for both loads (S = P + jQ)\n",
    "S_load1 = S1 * (mt.cos(theta1) + 1j * mt.sin(theta1))\n",
    "S_load2 = S2 * (mt.cos(theta2) + 1j * mt.sin(theta2))\n",
    "\n",
    "\n",
    "# ======================\n",
    "# Newton-Raphson Functions\n",
    "# ======================\n",
    "def f(V):\n",
    "    \"\"\"Function whose root corresponds to the desired bus voltage.\"\"\"\n",
    "    S_total = S_load1 + S_load2\n",
    "    I = S_total.conjugate() / V\n",
    "    V_send = V + I * Z_line\n",
    "    return abs(V_send) - V_source\n",
    "\n",
    "\n",
    "def df_dV(V):\n",
    "    \"\"\"Derivative of f(V) with respect to V.\"\"\"\n",
    "    # Using a small numerical step (finite difference)\n",
    "    h = 1e-6\n",
    "    return (f(V + h) - f(V - h)) / (2 * h)\n",
    "\n",
    "\n",
    "# ======================\n",
    "# Newton-Raphson Setup\n",
    "# ======================\n",
    "X0 = 12000       # Initial guess (12 kV)\n",
    "MAX_ITERS = 42   # Iteration limit\n",
    "X_TOL = 1e-7     # Tolerance\n",
    "\n",
    "# Run Newton-Raphson method\n",
    "p_nr, p_nr_info = spo.newton(\n",
    "    f, X0, fprime=df_dV,\n",
    "    tol=X_TOL, maxiter=MAX_ITERS,\n",
    "    full_output=True\n",
    ")\n",
    "\n",
    "\n",
    "# ======================\n",
    "# Results\n",
    "# ======================\n",
    "print(f\"Finding a root from {{X0}}:\")\n",
    "print(p_nr_info)\n",
    "print(f\"Residual value: {{f(p_nr)}}\")\n",
    "print(f\"The RMS voltage at the common bus is {{p_nr / 1000:.4f}} kilovolts.\")\n"
   ]
  }
 ],
 "metadata": {
  "kernelspec": {
   "display_name": "eee102",
   "language": "python",
   "name": "python3"
  },
  "language_info": {
   "codemirror_mode": {
    "name": "ipython",
    "version": 3
   },
   "file_extension": ".py",
   "mimetype": "text/x-python",
   "name": "python",
   "nbconvert_exporter": "python",
   "pygments_lexer": "ipython3",
   "version": "3.12.5"
  }
 },
 "nbformat": 4,
 "nbformat_minor": 5
}
