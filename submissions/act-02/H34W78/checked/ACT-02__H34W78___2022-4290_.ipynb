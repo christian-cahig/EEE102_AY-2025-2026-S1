{
 "cells": [
  {
   "cell_type": "markdown",
   "id": "13cf196a",
   "metadata": {},
   "source": [
    "# EEE102 Activity 2\n",
    "\n",
    "This activity is an application of Newton-Raphson for univariate root-finding."
   ]
  },
  {
   "cell_type": "markdown",
   "id": "242dd356",
   "metadata": {},
   "source": [
    "## Imports"
   ]
  },
  {
   "cell_type": "code",
   "execution_count": 1,
   "id": "c5809293",
   "metadata": {},
   "outputs": [],
   "source": [
    "import math as mt\n",
    "\n",
    "import scipy.optimize as spo\n",
    "\n",
    "import numpy as np"
   ]
  },
  {
   "cell_type": "markdown",
   "id": "b459de5d",
   "metadata": {},
   "source": [
    "## Scenario"
   ]
  },
  {
   "cell_type": "markdown",
   "id": "9f5fd5c0",
   "metadata": {},
   "source": [
    "You are a power systems engineer tasked to analyze two customer loads and served at a common bus.\n",
    "The bus is at the receiving end of a feeder line extending from the utility system.\n",
    "\n",
    "One of the loads is estimated to be 400 kilowatts at a lagging power factor of 0.85,\n",
    "while the other is rated 300 kilovars at a lagging power factor of 0.75.\n",
    "\n",
    "Records show that the feeder line impedance is rated 1.00 + j2.50 ohms.\n",
    "If it is reasonable to assume that the utility system's RMS voltage hovers around 13.8 kilovolts,\n",
    "at what RMS voltage are the loads served?"
   ]
  },
  {
   "cell_type": "markdown",
   "id": "5b68728e",
   "metadata": {},
   "source": [
    "You are to approach this as a root-finding problem,\n",
    "and so must first derive a function $f\\!\\left(V\\right)$\n",
    "whose root corresponds to the desired quantity."
   ]
  },
  {
   "cell_type": "markdown",
   "id": "5ed56af3",
   "metadata": {},
   "source": [
    "## Newton-Raphson"
   ]
  },
  {
   "cell_type": "markdown",
   "id": "9038c957",
   "metadata": {},
   "source": [
    "Construct two Python functions:\n",
    "- `f()`, which implements $f\\!\\left(V\\right)$, and\n",
    "- `df_dV()`, which implements $f^{\\prime}\\!\\left(V\\right)$\n",
    "  (*i.e.*, the derivative of $f\\!\\left(V\\right)$ w.r.t. $V$).\n",
    "\n",
    "Each of the said Python functions takes a single positional argument `x`,\n",
    "representing $V$."
   ]
  },
  {
   "cell_type": "code",
   "execution_count": 2,
   "id": "bdbd41f8",
   "metadata": {},
   "outputs": [],
   "source": [
    "def f(V):\n",
    "    V_ph = complex(V, 0)\n",
    "\n",
    "    P1 = 400e3\n",
    "    pf1 = 0.85\n",
    "    phi1 = np.arccos(pf1)\n",
    "    Q1 = P1 * np.tan(phi1)\n",
    "\n",
    "    Q2 = 300e3\n",
    "    pf2 = 0.75\n",
    "    phi2 = np.arccos(pf2)\n",
    "    P2 = Q2 / np.tan(phi2)\n",
    "\n",
    "    S1 = P1 + 1j * Q1\n",
    "    S2 = P2 + 1j * Q2\n",
    "    S_total = S1 + S2\n",
    "\n",
    "    Z = 1.0 + 2.5j\n",
    "    Vs = 13.8e3\n",
    "\n",
    "    I = np.conjugate(S_total / V_ph)\n",
    "    Vs_calc = V_ph + I * Z\n",
    "\n",
    "    return abs(Vs_calc) - Vs\n",
    "\n",
    "def df_dV(V):\n",
    "    h = 1e-6\n",
    "    return (f(V + h) - f(V - h)) / (2 * h)"
   ]
  },
  {
   "cell_type": "markdown",
   "id": "761b494c",
   "metadata": {},
   "source": [
    "Use Newton-Raphson to find a root of $f\\!\\left(V\\right)$.\n",
    "Use an iteration budget of 42 and a tolerance of $10^{-7}$.\n",
    "\n",
    "Define the following variables.\n",
    "- `X0`, to store the initial guess\n",
    "- `MAX_ITERS`, to store the iteration budget\n",
    "- `X_TOL` to store the tolerance\n",
    "\n",
    "Run\n",
    "[`scipy.optimize.newton()`](https://docs.scipy.org/doc/scipy/reference/generated/scipy.optimize.newton.html)\n",
    "such that you get the (approximate) root as well as information concerning the run.\n",
    "Store the root and the information in variables `p_nr` and `p_nr_info`, respectively.\n",
    "Make sure to verify if the returned root is indeed a root."
   ]
  },
  {
   "cell_type": "code",
   "execution_count": 3,
   "id": "e312d37e",
   "metadata": {},
   "outputs": [
    {
     "name": "stdout",
     "output_type": "stream",
     "text": [
      "Newton-Raphson solution: 13645.0413 V\n",
      "Function value at solution: -3.63797881e-12\n",
      "Iterations required: 3\n",
      "Function evaluations: 6\n",
      "Load bus voltage: 13.6450 kV\n",
      "Calculated sending-end voltage: 13.8000 kV\n",
      "Expected sending-end voltage: 13.8000 kV\n",
      "Voltage drop across line: 0.1817 kV\n",
      "\n",
      "Load 1: 400.0 kW + j247.9 kvar\n",
      "Load 2: 340.2 kW + j300.0 kvar\n",
      "Total load: 740.2 kW + j547.9 kvar\n"
     ]
    }
   ],
   "source": [
    "# Initial guess - a reasonable starting point would be slightly below the utility voltage\n",
    "X0 = 13000  # Starting with 13 kV as initial guess\n",
    "MAX_ITERS = 42  # Maximum iterations as specified\n",
    "X_TOL = 1e-7  # Tolerance as specified\n",
    "\n",
    "# Using scipy's newton method to find the root\n",
    "p_nr, p_nr_info = spo.newton(f, X0, fprime=df_dV, maxiter=MAX_ITERS, \n",
    "                              tol=X_TOL, full_output=True)\n",
    "\n",
    "# Verify if the returned value is indeed a root\n",
    "root_verification = f(p_nr)\n",
    "print(f\"Newton-Raphson solution: {p_nr:.4f} V\")\n",
    "print(f\"Function value at solution: {root_verification:.8e}\")\n",
    "print(f\"Iterations required: {p_nr_info.iterations}\")\n",
    "print(f\"Function evaluations: {p_nr_info.function_calls}\")\n",
    "\n",
    "# Convert to kV for easier interpretation\n",
    "print(f\"Load bus voltage: {p_nr/1000:.4f} kV\")\n",
    "\n",
    "# Additional verification - calculate the voltage drop across the line\n",
    "V_ph = complex(p_nr, 0)\n",
    "\n",
    "P1 = 400e3\n",
    "pf1 = 0.85\n",
    "phi1 = np.arccos(pf1)\n",
    "Q1 = P1 * np.tan(phi1)\n",
    "\n",
    "Q2 = 300e3\n",
    "pf2 = 0.75\n",
    "phi2 = np.arccos(pf2)\n",
    "P2 = Q2 / np.tan(phi2)\n",
    "\n",
    "S_total = (P1 + 1j * Q1) + (P2 + 1j * Q2)\n",
    "I = np.conjugate(S_total / V_ph)\n",
    "Z = 1.0 + 2.5j\n",
    "V_drop = I * Z\n",
    "Vs_calc = V_ph + V_drop\n",
    "\n",
    "print(f\"Calculated sending-end voltage: {abs(Vs_calc)/1000:.4f} kV\")\n",
    "print(f\"Expected sending-end voltage: 13.8000 kV\")\n",
    "print(f\"Voltage drop across line: {abs(V_drop)/1000:.4f} kV\")\n",
    "\n",
    "# Display load data\n",
    "print(f\"\\nLoad 1: {P1/1000:.1f} kW + j{Q1/1000:.1f} kvar\")\n",
    "print(f\"Load 2: {P2/1000:.1f} kW + j{Q2/1000:.1f} kvar\")\n",
    "print(f\"Total load: {S_total.real/1000:.1f} kW + j{S_total.imag/1000:.1f} kvar\")"
   ]
  },
  {
   "cell_type": "markdown",
   "id": "31afdfab",
   "metadata": {},
   "source": [
    "## Results\n",
    "\n",
    "Do not modify nor remove the following code cell."
   ]
  },
  {
   "cell_type": "code",
   "execution_count": 4,
   "id": "83df63f6",
   "metadata": {},
   "outputs": [
    {
     "name": "stdout",
     "output_type": "stream",
     "text": [
      "Finding a root from 13000:\n",
      "      converged: True\n",
      "           flag: converged\n",
      " function_calls: 6\n",
      "     iterations: 3\n",
      "           root: 13645.041339303667\n",
      "         method: newton\n",
      "Residual value: -3.637978807091713e-12\n"
     ]
    }
   ],
   "source": [
    "print(f\"Finding a root from {X0}:\")\n",
    "print(p_nr_info)\n",
    "print(f\"Residual value: {f(p_nr)}\")"
   ]
  },
  {
   "cell_type": "code",
   "execution_count": 5,
   "id": "63ecf5c5",
   "metadata": {},
   "outputs": [
    {
     "name": "stdout",
     "output_type": "stream",
     "text": [
      "The RMS voltage at the common bus is 13645.041339303667 kilovolts.\n"
     ]
    }
   ],
   "source": [
    "print(f\"The RMS voltage at the common bus is {p_nr} kilovolts.\")"
   ]
  },
  {
   "cell_type": "markdown",
   "id": "16ebcfa6",
   "metadata": {},
   "source": [
    "## Submission instructions"
   ]
  },
  {
   "cell_type": "markdown",
   "id": "84dd36b9",
   "metadata": {},
   "source": [
    "Download this notebook file,\n",
    "and save with a filename following the pattern\n",
    "`ACT-02_<section>_<ID number>`,\n",
    "where the section is as reflected in your Google Classroom.\n",
    "For example, if your ID number is 2013-0024\n",
    "and you are enrolled to the M34W12 class,\n",
    "then your notebook should be named `ACT-02_M34W12_2013-0024.ipynb`.\n",
    "Submit your notebook via the classwork platform for this activity in Google Classroom.\n",
    "\n",
    "Lastly, the use of AI tools to answer this exam is not prohibited,\n",
    "but it is of ethical interest to disclose such use.\n",
    "This is in line with the\n",
    "[MSU Policy on the Fair and Ethical Use of AI and Its Applications](https://www.msumain.edu.ph/wp-content/uploads/2024/05/MSU-Policy-on-Ethical-use-of-AI-Policies.pdf).\n",
    "As such, please include a brief statement (in a private comment to this classwork)\n",
    "declaring which and how AI tools are used in your work."
   ]
  },
  {
   "cell_type": "markdown",
   "id": "f3bf61ca",
   "metadata": {},
   "source": [
    "*Last updated by Christian Cahig on 2025-10-01*"
   ]
  }
 ],
 "metadata": {
  "kernelspec": {
   "display_name": "eee102",
   "language": "python",
   "name": "python3"
  },
  "language_info": {
   "codemirror_mode": {
    "name": "ipython",
    "version": 3
   },
   "file_extension": ".py",
   "mimetype": "text/x-python",
   "name": "python",
   "nbconvert_exporter": "python",
   "pygments_lexer": "ipython3",
   "version": "3.12.5"
  }
 },
 "nbformat": 4,
 "nbformat_minor": 5
}
