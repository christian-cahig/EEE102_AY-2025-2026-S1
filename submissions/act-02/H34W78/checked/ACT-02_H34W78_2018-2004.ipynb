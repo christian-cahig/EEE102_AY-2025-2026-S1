{
 "cells": [
  {
   "cell_type": "code",
   "execution_count": 1,
   "id": "9f232fd5",
   "metadata": {},
   "outputs": [],
   "source": [
    "import math as mt\n",
    "import scipy.optimize as spo\n",
    "import numpy as np"
   ]
  },
  {
   "cell_type": "code",
   "execution_count": 2,
   "id": "c27ec0db",
   "metadata": {},
   "outputs": [],
   "source": [
    "VS_RMS = 13800.0\n",
    "R = 1.00\n",
    "X = 2.50\n",
    "Z_SQ = R**2 + X**2\n",
    "\n",
    "P1_kW = 400.0\n",
    "pf1 = 0.85\n",
    "Q1_kVAR = P1_kW * mt.tan(mt.acos(pf1))\n",
    "\n",
    "Q2_kVAR = 300.0\n",
    "pf2 = 0.75\n",
    "P2_kW = Q2_kVAR * mt.tan(mt.acos(pf2))\n",
    "\n",
    "PT = (P1_kW + P2_kW) * 1000.0\n",
    "QT = (Q1_kVAR + Q2_kVAR) * 1000.0\n",
    "\n",
    "ST_SQ = PT**2 + QT**2\n",
    "\n",
    "C1 = 2 * PT * R + 2 * QT * X\n",
    "C2 = ST_SQ * Z_SQ\n",
    "C3 = VS_RMS**2"
   ]
  },
  {
   "cell_type": "code",
   "execution_count": 3,
   "id": "37b03653",
   "metadata": {},
   "outputs": [],
   "source": [
    "def f(x):\n",
    "    return x**2 + C1 + C2 / (x**2) - C3\n",
    "\n",
    "def df_dV(x):\n",
    "    return 2 * x - 2 * C2 / (x**3)"
   ]
  },
  {
   "cell_type": "code",
   "execution_count": 4,
   "id": "e1fdf9ae",
   "metadata": {},
   "outputs": [],
   "source": [
    "X0 = 13800.0\n",
    "MAX_ITERS = 42\n",
    "X_TOL = 1e-12\n",
    "\n",
    "p_nr, p_nr_info = spo.newton(\n",
    "    func=f, \n",
    "    x0=X0, \n",
    "    fprime=df_dV, \n",
    "    maxiter=MAX_ITERS, \n",
    "    tol=X_TOL, \n",
    "    full_output=True\n",
    ")"
   ]
  },
  {
   "cell_type": "code",
   "execution_count": 5,
   "id": "9db08d7e",
   "metadata": {},
   "outputs": [
    {
     "name": "stdout",
     "output_type": "stream",
     "text": [
      "Finding a root from 13800.0:\n",
      "      converged: True\n",
      "           flag: converged\n",
      " function_calls: 7\n",
      "     iterations: 3\n",
      "           root: 13650.732505388467\n",
      "         method: newton\n",
      "Residual value: 0.0\n"
     ]
    }
   ],
   "source": [
    "print(f\"Finding a root from {X0}:\")\n",
    "print(p_nr_info)\n",
    "print(f\"Residual value: {f(p_nr)}\")"
   ]
  },
  {
   "cell_type": "code",
   "execution_count": 6,
   "id": "16059f0e",
   "metadata": {},
   "outputs": [
    {
     "name": "stdout",
     "output_type": "stream",
     "text": [
      "The RMS voltage at the common bus is 13650.732505388467 kilovolts.\n"
     ]
    }
   ],
   "source": [
    "print(f\"The RMS voltage at the common bus is {p_nr} kilovolts.\")"
   ]
  },
  {
   "cell_type": "code",
   "execution_count": null,
   "id": "af980e13-92f8-40bd-bad8-cbb5e054dd1e",
   "metadata": {},
   "outputs": [],
   "source": []
  }
 ],
 "metadata": {
  "kernelspec": {
   "display_name": "eee102",
   "language": "python",
   "name": "python3"
  },
  "language_info": {
   "codemirror_mode": {
    "name": "ipython",
    "version": 3
   },
   "file_extension": ".py",
   "mimetype": "text/x-python",
   "name": "python",
   "nbconvert_exporter": "python",
   "pygments_lexer": "ipython3",
   "version": "3.12.5"
  }
 },
 "nbformat": 4,
 "nbformat_minor": 5
}
