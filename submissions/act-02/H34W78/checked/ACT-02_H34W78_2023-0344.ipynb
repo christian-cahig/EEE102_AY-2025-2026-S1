{
 "cells": [
  {
   "cell_type": "markdown",
   "id": "13cf196a",
   "metadata": {},
   "source": [
    "# EEE102 Activity 2\n",
    "\n",
    "This activity is an application of Newton-Raphson for univariate root-finding."
   ]
  },
  {
   "cell_type": "markdown",
   "id": "242dd356",
   "metadata": {},
   "source": [
    "## Imports"
   ]
  },
  {
   "cell_type": "code",
   "execution_count": 1,
   "id": "c5809293",
   "metadata": {},
   "outputs": [],
   "source": [
    "import math as mt\n",
    "\n",
    "import scipy.optimize as spo\n",
    "\n",
    "# Add your imports after this line\n",
    "import numpy as np"
   ]
  },
  {
   "cell_type": "markdown",
   "id": "b459de5d",
   "metadata": {},
   "source": [
    "## Scenario"
   ]
  },
  {
   "cell_type": "markdown",
   "id": "9f5fd5c0",
   "metadata": {},
   "source": [
    "You are a power systems engineer tasked to analyze two customer loads and served at a common bus.\n",
    "The bus is at the receiving end of a feeder line extending from the utility system.\n",
    "\n",
    "One of the loads is estimated to be 400 kilowatts at a lagging power factor of 0.85,\n",
    "while the other is rated 300 kilovars at a lagging power factor of 0.75.\n",
    "\n",
    "Records show that the feeder line impedance is rated 1.00 + j2.50 ohms.\n",
    "If it is reasonable to assume that the utility system's RMS voltage hovers around 13.8 kilovolts,\n",
    "at what RMS voltage are the loads served?"
   ]
  },
  {
   "cell_type": "markdown",
   "id": "5b68728e",
   "metadata": {},
   "source": [
    "You are to approach this as a root-finding problem,\n",
    "and so must first derive a function $f\\!\\left(V\\right)$\n",
    "whose root corresponds to the desired quantity."
   ]
  },
  {
   "cell_type": "code",
   "execution_count": 2,
   "id": "4222c2ea",
   "metadata": {},
   "outputs": [],
   "source": [
    "import math as mt\n",
    "\n",
    "P1=400e3;pf1=0.85;phi1=mt.acos(pf1);Q1=P1*mt.tan(phi1)\n",
    "Q2=300e3;pf2=0.75;phi2=mt.acos(pf2);P2=Q2/mt.tan(phi2)\n",
    "P_TOT=P1+P2         \n",
    "Q_TOT=Q1+Q2         \n",
    "Z=1+1j*2.5      \n",
    "VS_LL=13.8e3         \n",
    "VS_PH=VS_LL/mt.sqrt(3)"
   ]
  },
  {
   "cell_type": "markdown",
   "id": "5ed56af3",
   "metadata": {},
   "source": [
    "## Newton-Raphson"
   ]
  },
  {
   "cell_type": "markdown",
   "id": "9038c957",
   "metadata": {},
   "source": [
    "Construct two Python functions:\n",
    "- `f()`, which implements $f\\!\\left(V\\right)$, and\n",
    "- `df_dV()`, which implements $f^{\\prime}\\!\\left(V\\right)$\n",
    "  (*i.e.*, the derivative of $f\\!\\left(V\\right)$ w.r.t. $V$).\n",
    "\n",
    "Each of the said Python functions takes a single positional argument `x`,\n",
    "representing $V$."
   ]
  },
  {
   "cell_type": "code",
   "execution_count": 3,
   "id": "bdbd41f8",
   "metadata": {},
   "outputs": [],
   "source": [
    "def f(V: float) -> float:\n",
    "# Replace the pass statement with your code\n",
    "    I=complex(P_TOT,-Q_TOT)/(3*V)  \n",
    "    Vs=V+Z*I                         \n",
    "    return abs(Vs)-VS_PH                  \n",
    "def df_dV(V: float) -> float:\n",
    "# Replace the pass statement with your code\n",
    "    I=complex(P_TOT,-Q_TOT)/(3*V)\n",
    "    Vs=V+Z*I\n",
    "    dIdV=-I/V\n",
    "    dVsdV=1+Z*dIdV\n",
    "    return (Vs.real*dVsdV.real+Vs.imag*dVsdV.imag)/abs(Vs)\n"
   ]
  },
  {
   "cell_type": "markdown",
   "id": "761b494c",
   "metadata": {},
   "source": [
    "Use Newton-Raphson to find a root of $f\\!\\left(V\\right)$.\n",
    "Use an iteration budget of 42 and a tolerance of $10^{-7}$.\n",
    "\n",
    "Define the following variables.\n",
    "- `X0`, to store the initial guess\n",
    "- `MAX_ITERS`, to store the iteration budget\n",
    "- `X_TOL` to store the tolerance\n",
    "\n",
    "Run\n",
    "[`scipy.optimize.newton()`](https://docs.scipy.org/doc/scipy/reference/generated/scipy.optimize.newton.html)\n",
    "such that you get the (approximate) root as well as information concerning the run.\n",
    "Store the root and the information in variables `p_nr` and `p_nr_info`, respectively.\n",
    "Make sure to verify if the returned root is indeed a root."
   ]
  },
  {
   "cell_type": "code",
   "execution_count": 4,
   "id": "e312d37e",
   "metadata": {},
   "outputs": [
    {
     "name": "stdout",
     "output_type": "stream",
     "text": [
      "Root (phase V): 7877.968290350545\n",
      "Residual at root: 0.0\n",
      "Iterations: 3\n",
      "Converged: True\n",
      "Served V_LL (kV): 13.645041339303669\n"
     ]
    }
   ],
   "source": [
    "# Replace `None` with your answer\n",
    "X0 = 7900\n",
    "MAX_ITERS =50\n",
    "X_TOL =1e-7\n",
    "\n",
    "# Write code here. You may have additional code cells.\n",
    "\n",
    "p_nr, p_nr_info = spo.newton(f, x0=X0, fprime=df_dV,\n",
    "                             tol=X_TOL, maxiter=MAX_ITERS,\n",
    "                             full_output=True)\n",
    "\n",
    "print(\"Root (phase V):\", p_nr)\n",
    "print(\"Residual at root:\", f(p_nr))\n",
    "print(\"Iterations:\", p_nr_info.iterations)\n",
    "print(\"Converged:\", p_nr_info.converged)\n",
    "\n",
    "V_served_LL = (3**0.5) * p_nr\n",
    "print(\"Served V_LL (kV):\", V_served_LL/1000)"
   ]
  },
  {
   "cell_type": "markdown",
   "id": "31afdfab",
   "metadata": {},
   "source": [
    "## Results\n",
    "\n",
    "Do not modify nor remove the following code cell."
   ]
  },
  {
   "cell_type": "code",
   "execution_count": 5,
   "id": "83df63f6",
   "metadata": {},
   "outputs": [
    {
     "name": "stdout",
     "output_type": "stream",
     "text": [
      "Finding a root from 7900:\n",
      "      converged: True\n",
      "           flag: converged\n",
      " function_calls: 6\n",
      "     iterations: 3\n",
      "           root: 7877.968290350545\n",
      "         method: newton\n",
      "Residual value: 0.0\n"
     ]
    }
   ],
   "source": [
    "print(f\"Finding a root from {X0}:\")\n",
    "print(p_nr_info)\n",
    "print(f\"Residual value: {f(p_nr)}\")"
   ]
  },
  {
   "cell_type": "code",
   "execution_count": 6,
   "id": "63ecf5c5",
   "metadata": {},
   "outputs": [
    {
     "name": "stdout",
     "output_type": "stream",
     "text": [
      "The RMS voltage at the common bus is 7877.968290350545 kilovolts.\n"
     ]
    }
   ],
   "source": [
    "print(f\"The RMS voltage at the common bus is {p_nr} kilovolts.\")"
   ]
  },
  {
   "cell_type": "markdown",
   "id": "16ebcfa6",
   "metadata": {},
   "source": [
    "## Submission instructions"
   ]
  },
  {
   "cell_type": "markdown",
   "id": "84dd36b9",
   "metadata": {},
   "source": [
    "Download this notebook file,\n",
    "and save with a filename following the pattern\n",
    "`ACT-02_<section>_<ID number>`,\n",
    "where the section is as reflected in your Google Classroom.\n",
    "For example, if your ID number is 2013-0024\n",
    "and you are enrolled to the M34W12 class,\n",
    "then your notebook should be named `ACT-02_M34W12_2013-0024.ipynb`.\n",
    "Submit your notebook via the classwork platform for this activity in Google Classroom.\n",
    "\n",
    "Lastly, the use of AI tools to answer this exam is not prohibited,\n",
    "but it is of ethical interest to disclose such use.\n",
    "This is in line with the\n",
    "[MSU Policy on the Fair and Ethical Use of AI and Its Applications](https://www.msumain.edu.ph/wp-content/uploads/2024/05/MSU-Policy-on-Ethical-use-of-AI-Policies.pdf).\n",
    "As such, please include a brief statement (in a private comment to this classwork)\n",
    "declaring which and how AI tools are used in your work."
   ]
  },
  {
   "cell_type": "markdown",
   "id": "f3bf61ca",
   "metadata": {},
   "source": [
    "*Last updated by Christian Cahig on 2025-10-01*"
   ]
  }
 ],
 "metadata": {
  "kernelspec": {
   "display_name": "eee102",
   "language": "python",
   "name": "python3"
  },
  "language_info": {
   "codemirror_mode": {
    "name": "ipython",
    "version": 3
   },
   "file_extension": ".py",
   "mimetype": "text/x-python",
   "name": "python",
   "nbconvert_exporter": "python",
   "pygments_lexer": "ipython3",
   "version": "3.12.5"
  }
 },
 "nbformat": 4,
 "nbformat_minor": 5
}
