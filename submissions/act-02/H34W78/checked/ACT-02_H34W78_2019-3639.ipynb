{
 "cells": [
  {
   "cell_type": "markdown",
   "id": "c45697ef",
   "metadata": {},
   "source": [
    "# EEE102 Activity 2\n",
    "\n",
    "This activity is an application of Newton-Raphson for univariate root-finding."
   ]
  },
  {
   "cell_type": "markdown",
   "id": "7ffd2916",
   "metadata": {},
   "source": [
    "## Imports"
   ]
  },
  {
   "cell_type": "code",
   "execution_count": 1,
   "id": "9a477981",
   "metadata": {},
   "outputs": [],
   "source": [
    "import math as mt\n",
    "import scipy.optimize as spo"
   ]
  },
  {
   "cell_type": "code",
   "execution_count": 2,
   "id": "efa11428",
   "metadata": {},
   "outputs": [],
   "source": [
    "phase1 = 400e3           \n",
    "power_factor1 = 0.85         \n",
    "phase2 = 300e3          \n",
    "power_factor2 = 0.75         \n",
    "Z = complex(1.00, 2.50)   \n",
    "V_S_kV = 13.8             "
   ]
  },
  {
   "cell_type": "markdown",
   "id": "e5f67045",
   "metadata": {},
   "source": [
    "## Scenario"
   ]
  },
  {
   "cell_type": "markdown",
   "id": "db95f1e3",
   "metadata": {},
   "source": [
    "You are a power systems engineer tasked to analyze two customer loads and served at a common bus.\n",
    "The bus is at the receiving end of a feeder line extending from the utility system.\n",
    "\n",
    "One of the loads is estimated to be 400 kilowatts at a lagging power factor of 0.85,\n",
    "while the other is rated 300 kilovars at a lagging power factor of 0.75.\n",
    "\n",
    "Records show that the feeder line impedance is rated 1.00 + j2.50 ohms.\n",
    "If it is reasonable to assume that the utility system's RMS voltage hovers around 13.8 kilovolts,\n",
    "at what RMS voltage are the loads served?"
   ]
  },
  {
   "cell_type": "markdown",
   "id": "28faa520",
   "metadata": {},
   "source": [
    "You are to approach this as a root-finding problem,\n",
    "and so must first derive a function $f\\!\\left(V\\right)$\n",
    "whose root corresponds to the desired quantity."
   ]
  },
  {
   "cell_type": "markdown",
   "id": "95d9013d",
   "metadata": {},
   "source": [
    "## Newton-Raphson"
   ]
  },
  {
   "cell_type": "markdown",
   "id": "656b5df9",
   "metadata": {},
   "source": [
    "Construct two Python functions:\n",
    "- `f()`, which implements $f\\!\\left(V\\right)$, and\n",
    "- `df_dV()`, which implements $f^{\\prime}\\!\\left(V\\right)$\n",
    "  (*i.e.*, the derivative of $f\\!\\left(V\\right)$ w.r.t. $V$).\n",
    "\n",
    "Each of the said Python functions takes a single positional argument `x`,\n",
    "representing $V$."
   ]
  },
  {
   "cell_type": "code",
   "execution_count": 3,
   "id": "c61384a2",
   "metadata": {},
   "outputs": [],
   "source": [
    "theta1 = mt.acos(power_factor1)\n",
    "Q1 = phase1 * mt.tan(theta1)\n",
    "theta2 = mt.acos(power_factor2)\n",
    "Q2 = phase2 * mt.tan(theta2)\n",
    "S_tot = complex(phase1 + phase2, Q1 + Q2)\n",
    "A = S_tot.conjugate() * Z / mt.sqrt(3)\n",
    "a = A.real\n",
    "b = A.imag"
   ]
  },
  {
   "cell_type": "code",
   "execution_count": 4,
   "id": "e4978f26",
   "metadata": {},
   "outputs": [],
   "source": [
    "def f(x):\n",
    "    V = x * 1000.0         \n",
    "    X = V + a / V\n",
    "    Y = b / V\n",
    "    m = mt.hypot(X, Y)    \n",
    "    return (m / 1000.0) - V_S_kV  \n",
    "\n",
    "def df_dV(x):\n",
    "    V = x * 1000.0\n",
    "    X = V + a / V\n",
    "    Y = b / V\n",
    "    m = mt.hypot(X, Y)\n",
    "    dX_dV = 1.0 - (a / (V**2))\n",
    "    dY_dV = - b / (V**2)\n",
    "    dm_dV = (X * dX_dV + Y * dY_dV) / m\n",
    "    return dm_dV"
   ]
  },
  {
   "cell_type": "markdown",
   "id": "90a71295",
   "metadata": {},
   "source": [
    "Use Newton-Raphson to find a root of $f\\!\\left(V\\right)$.\n",
    "Use an iteration budget of 42 and a tolerance of $10^{-7}$.\n",
    "\n",
    "Define the following variables.\n",
    "- `X0`, to store the initial guess\n",
    "- `MAX_ITERS`, to store the iteration budget\n",
    "- `X_TOL` to store the tolerance\n",
    "\n",
    "Run\n",
    "[`scipy.optimize.newton()`](https://docs.scipy.org/doc/scipy/reference/generated/scipy.optimize.newton.html)\n",
    "such that you get the (approximate) root as well as information concerning the run.\n",
    "Store the root and the information in variables `p_nr` and `p_nr_info`, respectively.\n",
    "Make sure to verify if the returned root is indeed a root."
   ]
  },
  {
   "cell_type": "code",
   "execution_count": 5,
   "id": "cc9a13dc",
   "metadata": {},
   "outputs": [],
   "source": [
    "X0 = 13.8       \n",
    "MAX_ITERS = 42  \n",
    "X_TOL = 1e-8    \n",
    "p_nr, p_nr_info = spo.newton(\n",
    "    f, X0, fprime=df_dV, tol=X_TOL, maxiter=MAX_ITERS, full_output=True\n",
    ")\n",
    "residual = f(p_nr)\n"
   ]
  },
  {
   "cell_type": "markdown",
   "id": "95b35172",
   "metadata": {},
   "source": [
    "## Results\n",
    "\n",
    "Do not modify nor remove the following code cell."
   ]
  },
  {
   "cell_type": "code",
   "execution_count": 6,
   "id": "9d2cd01d",
   "metadata": {},
   "outputs": [
    {
     "name": "stdout",
     "output_type": "stream",
     "text": [
      "Finding a root from 13.8:\n",
      "      converged: True\n",
      "           flag: converged\n",
      " function_calls: 6\n",
      "     iterations: 3\n",
      "           root: 13.716510506576968\n",
      "         method: newton\n",
      "Residual value: 0.0\n"
     ]
    }
   ],
   "source": [
    "print(f\"Finding a root from {X0}:\")\n",
    "print(p_nr_info)\n",
    "print(f\"Residual value: {residual}\")"
   ]
  },
  {
   "cell_type": "code",
   "execution_count": 7,
   "id": "1e72dae7",
   "metadata": {},
   "outputs": [
    {
     "name": "stdout",
     "output_type": "stream",
     "text": [
      "The RMS voltage at the common bus is 13.716511 kilovolts.\n"
     ]
    }
   ],
   "source": [
    "print(f\"The RMS voltage at the common bus is {p_nr:.6f} kilovolts.\")"
   ]
  },
  {
   "cell_type": "markdown",
   "id": "795690df",
   "metadata": {},
   "source": [
    "## Submission instructions"
   ]
  },
  {
   "cell_type": "markdown",
   "id": "cdd3f1c9",
   "metadata": {},
   "source": [
    "Download this notebook file,\n",
    "and save with a filename following the pattern\n",
    "`ACT-02_<section>_<ID number>`,\n",
    "where the section is as reflected in your Google Classroom.\n",
    "For example, if your ID number is 2013-0024\n",
    "and you are enrolled to the M34W12 class,\n",
    "then your notebook should be named `ACT-02_M34W12_2013-0024.ipynb`.\n",
    "Submit your notebook via the classwork platform for this activity in Google Classroom.\n",
    "\n",
    "Lastly, the use of AI tools to answer this exam is not prohibited,\n",
    "but it is of ethical interest to disclose such use.\n",
    "This is in line with the\n",
    "[MSU Policy on the Fair and Ethical Use of AI and Its Applications](https://www.msumain.edu.ph/wp-content/uploads/2024/05/MSU-Policy-on-Ethical-use-of-AI-Policies.pdf).\n",
    "As such, please include a brief statement (in a private comment to this classwork)\n",
    "declaring which and how AI tools are used in your work."
   ]
  },
  {
   "cell_type": "markdown",
   "id": "fd0ca09c",
   "metadata": {},
   "source": [
    "*Last updated by Christian Cahig on 2025-10-01*"
   ]
  }
 ],
 "metadata": {
  "kernelspec": {
   "display_name": "eee102",
   "language": "python",
   "name": "python3"
  },
  "language_info": {
   "codemirror_mode": {
    "name": "ipython",
    "version": 3
   },
   "file_extension": ".py",
   "mimetype": "text/x-python",
   "name": "python",
   "nbconvert_exporter": "python",
   "pygments_lexer": "ipython3",
   "version": "3.12.5"
  }
 },
 "nbformat": 4,
 "nbformat_minor": 5
}
