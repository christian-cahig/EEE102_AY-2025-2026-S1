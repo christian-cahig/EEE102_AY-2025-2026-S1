{
 "cells": [
  {
   "cell_type": "markdown",
   "id": "13cf196a",
   "metadata": {},
   "source": [
    "# EEE102 Activity 2\n",
    "\n",
    "This activity is an application of Newton-Raphson for univariate root-finding."
   ]
  },
  {
   "cell_type": "markdown",
   "id": "242dd356",
   "metadata": {},
   "source": [
    "## Imports"
   ]
  },
  {
   "cell_type": "code",
   "execution_count": 1,
   "id": "c5809293",
   "metadata": {},
   "outputs": [],
   "source": [
    "import math as mt\n",
    "\n",
    "import scipy.optimize as spo\n",
    "\n",
    "# Add your imports after this line"
   ]
  },
  {
   "cell_type": "markdown",
   "id": "b459de5d",
   "metadata": {},
   "source": [
    "## Scenario"
   ]
  },
  {
   "cell_type": "markdown",
   "id": "9f5fd5c0",
   "metadata": {},
   "source": [
    "You are a power systems engineer tasked to analyze two customer loads and served at a common bus.\n",
    "The bus is at the receiving end of a feeder line extending from the utility system.\n",
    "\n",
    "One of the loads is estimated to be 400 kilowatts at a lagging power factor of 0.85,\n",
    "while the other is rated 300 kilovars at a lagging power factor of 0.75.\n",
    "\n",
    "Records show that the feeder line impedance is rated 1.00 + j2.50 ohms.\n",
    "If it is reasonable to assume that the utility system's RMS voltage hovers around 13.8 kilovolts,\n",
    "at what RMS voltage are the loads served?"
   ]
  },
  {
   "cell_type": "markdown",
   "id": "5b68728e",
   "metadata": {},
   "source": [
    "You are to approach this as a root-finding problem,\n",
    "and so must first derive a function $f\\!\\left(V\\right)$\n",
    "whose root corresponds to the desired quantity."
   ]
  },
  {
   "cell_type": "markdown",
   "id": "5ed56af3",
   "metadata": {},
   "source": [
    "## Newton-Raphson"
   ]
  },
  {
   "cell_type": "markdown",
   "id": "9038c957",
   "metadata": {},
   "source": [
    "Construct two Python functions:\n",
    "- `f()`, which implements $f\\!\\left(V\\right)$, and\n",
    "- `df_dV()`, which implements $f^{\\prime}\\!\\left(V\\right)$\n",
    "  (*i.e.*, the derivative of $f\\!\\left(V\\right)$ w.r.t. $V$).\n",
    "\n",
    "Each of the said Python functions takes a single positional argument `x`,\n",
    "representing $V$."
   ]
  },
  {
   "cell_type": "code",
   "execution_count": 2,
   "id": "bdbd41f8",
   "metadata": {},
   "outputs": [],
   "source": [
    "def f():\n",
    "    return -1*mt.pow(V, 2) + 13800*V + mt.pow(1302.522329/13800, 2) - 2109.912364\n",
    "\n",
    "def df_dV():\n",
    "    return -2*V + 13800"
   ]
  },
  {
   "cell_type": "markdown",
   "id": "761b494c",
   "metadata": {},
   "source": [
    "Use Newton-Raphson to find a root of $f\\!\\left(V\\right)$.\n",
    "Use an iteration budget of 42 and a tolerance of $10^{-7}$.\n",
    "\n",
    "Define the following variables.\n",
    "- `X0`, to store the initial guess\n",
    "- `MAX_ITERS`, to store the iteration budget\n",
    "- `X_TOL` to store the tolerance\n",
    "\n",
    "Run\n",
    "[`scipy.optimize.newton()`](https://docs.scipy.org/doc/scipy/reference/generated/scipy.optimize.newton.html)\n",
    "such that you get the (approximate) root as well as information concerning the run.\n",
    "Store the root and the information in variables `p_nr` and `p_nr_info`, respectively.\n",
    "Make sure to verify if the returned root is indeed a root."
   ]
  },
  {
   "cell_type": "code",
   "execution_count": 3,
   "id": "e312d37e",
   "metadata": {},
   "outputs": [],
   "source": [
    "# Replace `None` with your answer\n",
    "X0 = 15000\n",
    "MAX_ITERS = 42\n",
    "X_TOL = 1e-7\n",
    "\n",
    "# Write code here. You may have additional code cells."
   ]
  },
  {
   "cell_type": "code",
   "execution_count": 4,
   "id": "bc2dc3ff-1d35-49f3-9fdd-365e6acff873",
   "metadata": {},
   "outputs": [
    {
     "ename": "TypeError",
     "evalue": "f() takes 0 positional arguments but 1 was given",
     "output_type": "error",
     "traceback": [
      "\u001b[0;31m---------------------------------------------------------------------------\u001b[0m",
      "\u001b[0;31mTypeError\u001b[0m                                 Traceback (most recent call last)",
      "Cell \u001b[0;32mIn[4], line 1\u001b[0m\n\u001b[0;32m----> 1\u001b[0m p_nr, p_nr_info \u001b[38;5;241m=\u001b[39m \u001b[43mspo\u001b[49m\u001b[38;5;241;43m.\u001b[39;49m\u001b[43mnewton\u001b[49m\u001b[43m(\u001b[49m\u001b[43mf\u001b[49m\u001b[43m,\u001b[49m\u001b[43m \u001b[49m\u001b[43mX0\u001b[49m\u001b[43m,\u001b[49m\u001b[43m \u001b[49m\u001b[43mfprime\u001b[49m\u001b[38;5;241;43m=\u001b[39;49m\u001b[43mdf_dV\u001b[49m\u001b[43m,\u001b[49m\u001b[43m \u001b[49m\u001b[43mtol\u001b[49m\u001b[43m \u001b[49m\u001b[38;5;241;43m=\u001b[39;49m\u001b[43m \u001b[49m\u001b[43mX_TOL\u001b[49m\u001b[43m,\u001b[49m\u001b[43m \u001b[49m\u001b[43mmaxiter\u001b[49m\u001b[43m \u001b[49m\u001b[38;5;241;43m=\u001b[39;49m\u001b[43m \u001b[49m\u001b[43mMAX_ITERS\u001b[49m\u001b[43m,\u001b[49m\u001b[43m \u001b[49m\u001b[43mfull_output\u001b[49m\u001b[43m \u001b[49m\u001b[38;5;241;43m=\u001b[39;49m\u001b[43m \u001b[49m\u001b[38;5;28;43;01mTrue\u001b[39;49;00m\u001b[43m)\u001b[49m\n",
      "File \u001b[0;32m/opt/miniconda3/envs/eee102/lib/python3.12/site-packages/scipy/optimize/_zeros_py.py:308\u001b[0m, in \u001b[0;36mnewton\u001b[0;34m(func, x0, fprime, args, tol, maxiter, fprime2, x1, rtol, full_output, disp)\u001b[0m\n\u001b[1;32m    305\u001b[0m method \u001b[38;5;241m=\u001b[39m \u001b[38;5;124m\"\u001b[39m\u001b[38;5;124mnewton\u001b[39m\u001b[38;5;124m\"\u001b[39m\n\u001b[1;32m    306\u001b[0m \u001b[38;5;28;01mfor\u001b[39;00m itr \u001b[38;5;129;01min\u001b[39;00m \u001b[38;5;28mrange\u001b[39m(maxiter):\n\u001b[1;32m    307\u001b[0m     \u001b[38;5;66;03m# first evaluate fval\u001b[39;00m\n\u001b[0;32m--> 308\u001b[0m     fval \u001b[38;5;241m=\u001b[39m \u001b[43mfunc\u001b[49m\u001b[43m(\u001b[49m\u001b[43mp0\u001b[49m\u001b[43m,\u001b[49m\u001b[43m \u001b[49m\u001b[38;5;241;43m*\u001b[39;49m\u001b[43margs\u001b[49m\u001b[43m)\u001b[49m\n\u001b[1;32m    309\u001b[0m     funcalls \u001b[38;5;241m+\u001b[39m\u001b[38;5;241m=\u001b[39m \u001b[38;5;241m1\u001b[39m\n\u001b[1;32m    310\u001b[0m     \u001b[38;5;66;03m# If fval is 0, a root has been found, then terminate\u001b[39;00m\n",
      "\u001b[0;31mTypeError\u001b[0m: f() takes 0 positional arguments but 1 was given"
     ]
    }
   ],
   "source": [
    "p_nr, p_nr_info = spo.newton(f, X0, fprime=df_dV, tol = X_TOL, maxiter = MAX_ITERS, full_output = True)"
   ]
  },
  {
   "cell_type": "markdown",
   "id": "31afdfab",
   "metadata": {},
   "source": [
    "## Results\n",
    "\n",
    "Do not modify nor remove the following code cell."
   ]
  },
  {
   "cell_type": "code",
   "execution_count": null,
   "id": "83df63f6",
   "metadata": {},
   "outputs": [],
   "source": [
    "print(f\"Finding a root from {X0}:\")\n",
    "print(p_nr_info)\n",
    "print(f\"Residual value: {f(p_nr)}\")"
   ]
  },
  {
   "cell_type": "code",
   "execution_count": null,
   "id": "63ecf5c5",
   "metadata": {},
   "outputs": [],
   "source": [
    "print(f\"The RMS voltage at the common bus is {p_nr} + j{1302.522329/13800} kVA.\")\n",
    "#The imaginary part was solved using algebra and the real part was solved for using univariate root finding methods."
   ]
  },
  {
   "cell_type": "markdown",
   "id": "16ebcfa6",
   "metadata": {},
   "source": [
    "## Submission instructions"
   ]
  },
  {
   "cell_type": "markdown",
   "id": "84dd36b9",
   "metadata": {},
   "source": [
    "Download this notebook file,\n",
    "and save with a filename following the pattern\n",
    "`ACT-02_<section>_<ID number>`,\n",
    "where the section is as reflected in your Google Classroom.\n",
    "For example, if your ID number is 2013-0024\n",
    "and you are enrolled to the M34W12 class,\n",
    "then your notebook should be named `ACT-02_M34W12_2013-0024.ipynb`.\n",
    "Submit your notebook via the classwork platform for this activity in Google Classroom.\n",
    "\n",
    "Lastly, the use of AI tools to answer this exam is not prohibited,\n",
    "but it is of ethical interest to disclose such use.\n",
    "This is in line with the\n",
    "[MSU Policy on the Fair and Ethical Use of AI and Its Applications](https://www.msumain.edu.ph/wp-content/uploads/2024/05/MSU-Policy-on-Ethical-use-of-AI-Policies.pdf).\n",
    "As such, please include a brief statement (in a private comment to this classwork)\n",
    "declaring which and how AI tools are used in your work."
   ]
  },
  {
   "cell_type": "markdown",
   "id": "f3bf61ca",
   "metadata": {},
   "source": [
    "*Last updated by Christian Cahig on 2025-10-01*"
   ]
  }
 ],
 "metadata": {
  "kernelspec": {
   "display_name": "eee102",
   "language": "python",
   "name": "python3"
  },
  "language_info": {
   "codemirror_mode": {
    "name": "ipython",
    "version": 3
   },
   "file_extension": ".py",
   "mimetype": "text/x-python",
   "name": "python",
   "nbconvert_exporter": "python",
   "pygments_lexer": "ipython3",
   "version": "3.12.5"
  }
 },
 "nbformat": 4,
 "nbformat_minor": 5
}
