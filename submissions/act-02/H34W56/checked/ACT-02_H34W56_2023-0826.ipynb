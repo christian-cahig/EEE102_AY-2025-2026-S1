{
 "cells": [
  {
   "cell_type": "markdown",
   "id": "f28854c2-1c1f-4579-9536-fc3fd3d26834",
   "metadata": {},
   "source": [
    "EEE102 Activity 2\n",
    "\n",
    "\n",
    "This activity is an application of Newton-Raphson for univariate root-finding."
   ]
  },
  {
   "cell_type": "markdown",
   "id": "529ed443-7213-400e-b832-d8fae3b5e3be",
   "metadata": {},
   "source": [
    "IMP0RTS"
   ]
  },
  {
   "cell_type": "code",
   "execution_count": 1,
   "id": "2a395c06-cfc3-4aec-b019-34d8828bc5fb",
   "metadata": {},
   "outputs": [],
   "source": [
    "import math as mt\n",
    "import cmath\n",
    "import scipy.optimize as spo"
   ]
  },
  {
   "cell_type": "markdown",
   "id": "b5a3c299-dcae-45a0-9a05-2c8482e42b8c",
   "metadata": {},
   "source": [
    "SCENARIO"
   ]
  },
  {
   "cell_type": "markdown",
   "id": "f417e20d-0c05-4f08-963b-c1c08040b992",
   "metadata": {},
   "source": [
    "You are a power systems engineer tasked to analyze two customer loads and served at a common bus.\n",
    "The bus is at the receiving end of a feeder line extending from the utility system.\n",
    "\n",
    "One of the loads is estimated to be 400 kilowatts at a lagging power factor of 0.85,\n",
    "while the other is rated 300 kilovars at a lagging power factor of 0.75.\n",
    "\n",
    "Records show that the feeder line impedance is rated 1.00 + j2.50 ohms.\n",
    "If it is reasonable to assume that the utility system's RMS voltage hovers around 13.8 kilovolts,\n",
    "at what RMS voltage are the loads served?"
   ]
  },
  {
   "cell_type": "markdown",
   "id": "7e466f2f-828d-4ad6-85a0-74ddcc207bda",
   "metadata": {},
   "source": [
    "You are to approach this as a root-finding problem,\n",
    "and so must first derive a function $f\\!\\left(V\\right)$\n",
    "whose root corresponds to the desired quantity."
   ]
  },
  {
   "cell_type": "markdown",
   "id": "29ac0c51-ff13-4558-9a31-4a2479d1c1e1",
   "metadata": {},
   "source": [
    "NEWTON-RAPHSON"
   ]
  },
  {
   "cell_type": "markdown",
   "id": "ae11cae2-c1fb-45d0-9baa-e27e111eb77e",
   "metadata": {},
   "source": [
    "Construct two Python functions:\n",
    "- f(), which implements $f\\!\\left(V\\right)$, and\n",
    "- df_dV(), which implements $f^{\\prime}\\!\\left(V\\right)$\n",
    "(i.e., the derivative of $f\\!\\left(V\\right)$ w.r.t. $V$).\n",
    "\n",
    "Each of the said Python functions takes a single positional argument x,\n",
    "representing $V$."
   ]
  },
  {
   "cell_type": "code",
   "execution_count": 2,
   "id": "f03b4c14-4d80-4c0c-b242-0ee335d71ca0",
   "metadata": {},
   "outputs": [],
   "source": [
    "def f(V):\n",
    "    # Replace the `pass` statement with your code\n",
    "    return mt.pow(V,2) - 186220175.3 + ((6.148294589*mt.pow(10,12))/mt.pow(V,2))\n",
    "\n",
    "def df_dV(V):\n",
    "    # Replace the `pass` statement with your code\n",
    "    return 2*V - ((1.229658918*mt.pow(10,13))/(mt.pow(V,4)))"
   ]
  },
  {
   "cell_type": "markdown",
   "id": "3f00dcbb-f994-46ec-a58c-971c7ec12815",
   "metadata": {},
   "source": [
    "Use Newton-Raphson to find a root of $f\\!\\left(V\\right)$.\n",
    "Use an iteration budget of 42 and a tolerance of $10^{-7}$.\n",
    "\n",
    "Define the following variables.\n",
    "- X0, to store the initial guess\n",
    "- MAX_ITERS, to store the iteration budget\n",
    "- X_TOL to store the tolerance\n",
    "\n",
    "Run\n",
    "[scipy.optimize.newton()](https://docs.scipy.org/doc/scipy/reference/generated/scipy.optimize.newton.html)\n",
    "such that you get the (approximate) root as well as information concerning the run.\n",
    "Store the root and the information in variables p_nr and p_nr_info, respectively.\n",
    "Make sure to verify if the returned root is indeed a root."
   ]
  },
  {
   "cell_type": "code",
   "execution_count": 3,
   "id": "340d42ff-d0cb-4101-a1eb-ea36bb2133e2",
   "metadata": {},
   "outputs": [],
   "source": [
    "# Initial guess, iteration limit, tolerance\n",
    "X0 = 13.0e3\n",
    "MAX_ITERS = 42\n",
    "X_TOL = 1e-7\n",
    "\n",
    "# Newton-Raphson method\n",
    "p_nr, p_nr_info = spo.newton(f, X0, fprime=df_dV, maxiter=MAX_ITERS, tol=X_TOL, full_output=True)"
   ]
  },
  {
   "cell_type": "markdown",
   "id": "3d0aefab-7abc-4bd7-b45b-b1cc750d06ae",
   "metadata": {},
   "source": [
    "RESULTS"
   ]
  },
  {
   "cell_type": "code",
   "execution_count": 4,
   "id": "a1fa6977-519f-4823-9629-741952bf4c85",
   "metadata": {},
   "outputs": [
    {
     "name": "stdout",
     "output_type": "stream",
     "text": [
      "Finding a root from 13000.0:\n",
      "      converged: True\n",
      "           flag: converged\n",
      " function_calls: 10\n",
      "     iterations: 5\n",
      "           root: 13645.0413403405\n",
      "         method: newton\n",
      "Residual value: 3.445165930315852e-08\n"
     ]
    }
   ],
   "source": [
    "print(f\"Finding a root from {X0}:\")\n",
    "print(p_nr_info)\n",
    "print(f\"Residual value: {f(p_nr)}\")"
   ]
  },
  {
   "cell_type": "code",
   "execution_count": 5,
   "id": "bbf74fe1-2dfb-4693-8c57-faa9c314194c",
   "metadata": {},
   "outputs": [
    {
     "name": "stdout",
     "output_type": "stream",
     "text": [
      "The RMS voltage at the common bus is 13645.0413403405 kilovolts.\n"
     ]
    }
   ],
   "source": [
    "print(f\"The RMS voltage at the common bus is {p_nr} kilovolts.\")"
   ]
  },
  {
   "cell_type": "markdown",
   "id": "ad2a1b3f-df8a-4765-9b0b-3d003a610b70",
   "metadata": {},
   "source": [
    "SUBMISSION INSTRUCTIONS"
   ]
  },
  {
   "cell_type": "markdown",
   "id": "166744e9-f0ef-40d4-b58a-c20289aaa7e1",
   "metadata": {},
   "source": [
    "Download this notebook file,\n",
    "and save with a filename following the pattern\n",
    "ACT-02_\n",
    "_,\n",
    "where the section is as reflected in your Google Classroom.\n",
    "For example, if your ID number is 2013-0024\n",
    "and you are enrolled to the M34W12 class,\n",
    "then your notebook should be named ACT-02_M34W12_2013-0024.ipynb.\n",
    "Submit your notebook via the classwork platform for this activity in Google Classroom.\n",
    "\n",
    "Lastly, the use of AI tools to answer this exam is not prohibited,\n",
    "but it is of ethical interest to disclose such use.\n",
    "This is in line with the\n",
    "[MSU Policy on the Fair and Ethical Use of AI and Its Applications](https://www.msumain.edu.ph/wp-content/uploads/2024/05/MSU-Policy-on-Ethical-use-of-AI-Policies.pdf).\n",
    "As such, please include a brief statement (in a private comment to this classwork)\n",
    "declaring which and how AI tools are used in your work."
   ]
  },
  {
   "cell_type": "markdown",
   "id": "4c0bc21c-0223-40f9-acef-e9bcba8d532d",
   "metadata": {},
   "source": [
    "Last updated by Christian Cahig on 2025-10-01"
   ]
  },
  {
   "cell_type": "code",
   "execution_count": null,
   "id": "6b47bf31-5a36-4129-b6ef-89d57da51d8f",
   "metadata": {},
   "outputs": [],
   "source": []
  }
 ],
 "metadata": {
  "kernelspec": {
   "display_name": "eee102",
   "language": "python",
   "name": "python3"
  },
  "language_info": {
   "codemirror_mode": {
    "name": "ipython",
    "version": 3
   },
   "file_extension": ".py",
   "mimetype": "text/x-python",
   "name": "python",
   "nbconvert_exporter": "python",
   "pygments_lexer": "ipython3",
   "version": "3.12.5"
  }
 },
 "nbformat": 4,
 "nbformat_minor": 5
}
