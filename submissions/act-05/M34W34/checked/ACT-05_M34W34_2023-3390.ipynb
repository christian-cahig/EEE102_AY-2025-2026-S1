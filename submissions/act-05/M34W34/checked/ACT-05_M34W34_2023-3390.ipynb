{
 "cells": [
  {
   "cell_type": "markdown",
   "id": "05a8cc99",
   "metadata": {},
   "source": [
    "# Activity 5\n",
    "\n",
    "This activity is an application of the Newton-Raphson method for univariate root-finding."
   ]
  },
  {
   "cell_type": "markdown",
   "id": "81b76d77",
   "metadata": {},
   "source": [
    "## Imports"
   ]
  },
  {
   "cell_type": "markdown",
   "id": "73cc1a5b",
   "metadata": {},
   "source": [
    "If you wish to import other packages and/or modules,\n",
    "add a blank line after importing `scipy.optimize` in the following code cell,\n",
    "followed by the comment line `# Custom imports`,\n",
    "after which your additional imports should be disclosed.\n",
    "For example, to use NumPy, the succeeding code cell should show\n",
    "\n",
    ">> ```python\n",
    ">> import math as mt\n",
    ">> \n",
    ">> import scipy.optimize as spo\n",
    ">> \n",
    ">> # Custom imports\n",
    ">> import numpy as np\n",
    ">> ```"
   ]
  },
  {
   "cell_type": "code",
   "execution_count": 1,
   "id": "b8f40eff",
   "metadata": {},
   "outputs": [],
   "source": [
    "import math as mt\n",
    "\n",
    "import scipy.optimize as spo\n",
    "\n",
    "# Custom imports\n",
    "import numpy as np"
   ]
  },
  {
   "cell_type": "markdown",
   "id": "e38d8b0a",
   "metadata": {},
   "source": [
    "## Scenario"
   ]
  },
  {
   "cell_type": "markdown",
   "id": "77006f54",
   "metadata": {},
   "source": [
    "Suppose you have a second-order circuit that can be reduced into\n",
    "an equivalent resistance $R$\n",
    "parallel-connected to\n",
    "an equivalent inductance $L$\n",
    "as well as to\n",
    "an equivalent capacitance $C$\n",
    "(see [diagram](./act-05.png)).\n",
    "The said model is only valid over the interval $4 \\leq t \\leq 21$ seconds."
   ]
  },
  {
   "cell_type": "markdown",
   "id": "a39a3d28",
   "metadata": {},
   "source": [
    "Determine:\n",
    "- the minimum voltage across the equivalent-inductance element,\n",
    "  and\n",
    "- when the voltage across the equivalent-resistance element is a minimum,\n",
    "\n",
    "for when:\n",
    "- $C = 500$ millifarads,\n",
    "- $R = \\frac{2}{3}$ ohms,\n",
    "  and\n",
    "- $L = 1000$ millihenrys,\n",
    "\n",
    "provided that \n",
    "$V = 10$ volts\n",
    "and\n",
    "$I = 2$ amperes\n",
    "at the start of the applicable interval."
   ]
  },
  {
   "cell_type": "markdown",
   "id": "b663b2f8",
   "metadata": {},
   "source": [
    "## Modelling"
   ]
  },
  {
   "cell_type": "markdown",
   "id": "3cf9a6f3",
   "metadata": {},
   "source": [
    "Derive $f\\!\\left(t\\right)$ whose root corresponds to when the voltage across the equivalent-resistance element is a minimum.\n",
    "Then, derive an expression of $V\\!\\left(t\\right)$ across the equivalent-inductance element."
   ]
  },
  {
   "cell_type": "markdown",
   "id": "75976f2a",
   "metadata": {},
   "source": [
    "Construct three Python functions:\n",
    "- `f()`, which implements $f\\!\\left(t\\right)$;\n",
    "- `df()`, which implements the derivative of $f\\!\\left(t\\right)$;\n",
    "  and\n",
    "- `v_L()`, which implements $V\\!\\left(t\\right)$.\n",
    "\n",
    "Each of the said functions should take a single positional argument `t`.\n",
    "\n",
    "In the succeeding code cell,\n",
    "replace the `pass` statement with your code."
   ]
  },
  {
   "cell_type": "markdown",
   "id": "76fccb40-6a5d-49a0-8c82-9335452713c6",
   "metadata": {},
   "source": [
    "Solution: \n",
    "\n",
    "Applying KCL on the top node:\n",
    "$$i_L(t) + i_R(t) + i_C(t) = 0$$\n",
    "\n",
    "Express each branch current in terms of \\(V\\):\n",
    "$$i_L(t) + \\frac{V(t)}{R} + C\\frac{dV(t)}{dt} = 0$$\n",
    "\n",
    "Differentiate the KCL with respect to time (t) (so that $i_L(t)$ is replaced by $\\frac{di_L(t)}{dt}\\ = \\frac{V(t)}{L}\\ $:\n",
    "$$\\frac{1}{L}V(t) + \\frac{1}{R}\\frac{dV(t)}{dt} + C\\frac{d^2V(t)}{dt^2} = 0$$\n",
    "\n",
    "Dividing both sides by C, rearranging, and substituting the given:\n",
    "$$\\frac{d^2V(t)}{dt^2} + \\frac{1}{RC}\\frac{dV(t)}{dt} + \\frac{1}{LC}V(t) = 0$$\n",
    "$$\\frac{d^2V(t)}{dt^2} + 3\\frac{dV(t)}{dt} + 2V(t) = 0$$\n",
    "\n",
    "Since this is a simple parallel RLC circuit, we can define $a$ and $w_0$:\n",
    "$$\\alpha = \\frac{1}{2RC} = \\frac{3}{2} \\, s^{-1}$$\n",
    "$$\\omega_0 = \\frac{1}{\\sqrt{LC}} = \\sqrt{2} \\, s^{-1}$$\n",
    "\n",
    "Since $a$ is > $w_0$ the system is overdamped with two real and distinct roots:\n",
    "$$s_{1,2} = -\\alpha \\pm \\sqrt{\\alpha^2 - \\omega_0^2}$$\n",
    "$$s_1 = -1 \\quad s_2 = -2$$\n",
    "\n",
    "Thus the general solution for the voltage (using time origin shifted to the start of the model interval $t_0 = 4s$; defining $τ = t-t_0$:\n",
    "$$V(τ) = Ae^{-τ} + Be^{-2τ}$$\n",
    "$$V(t) = Ae^{-(t-4)} + Be^{-2(t-4)}$$\n",
    "\n",
    "Solving for constants A and B, we apply the predetermined conditions.  \n",
    "Let the initial capacitor voltage at $t_0 = 4s$ be $V_0 = V(4)$, and the initial current $I_0=i_L(4)$. Then at $τ = 0$: \n",
    "\n",
    "$$V(0) = A + B = 10V →Eq.1$$\n",
    "\n",
    "Differentiating $V(t)$:\n",
    "$$V'(t) = -Ae^{-\\tau} - 2Be^{-2\\tau}$$\n",
    "\n",
    "From capacitor current:\n",
    "$$C V'(0) = i_C(0) = -(i_L(0) + i_R(0)) = -\\frac{V(0)}{R}\\ - I_0$$\n",
    "$$V'(0) = -\\frac{1}{C}\\ (\\frac{V(0)}{R}\\ + \\frac{1}{C}\\ I_0)$$\n",
    "\n",
    "Substituting:\n",
    "$$V'(0) = -2\\left(\\frac{1}{3}(V(0) + I(0))\\right) = -(3V(0) + 2I(0)) = -34V$$\n",
    "$$V'(0) = -A - 2B = -34 → Eq. 2$$\n",
    "\n",
    "Two equations, two unknowns:\n",
    "$$A = -14$$\n",
    "$$B = 24$$\n",
    "\n",
    "Hence,\n",
    "$$V(\\tau) = -14e^{-\\tau} + 24e^{-2\\tau}$$\n",
    "$$V(t) = -14e^{-(t-4)} + 24e^{-2(t-4)}$$\n",
    "\n",
    "A minimum of $V(t)$ occurs when $\\frac{dV(t)}{dt} = 0 $; that is our $f(t)$:\n",
    "$$f(t) = \\frac{dV(t)}{dt} = (-14e^{-(t-4)} + 24e^{-2(t-4)})$$\n",
    "$$f'(t) = 14e^{-(t-4)} - 48e^{-2(t-4)}$$\n",
    "\n",
    "solving for the values of $A$ and $B$\\\n",
    "$A= -14e^{4}$ and $B= 24e^{8}$ "
   ]
  },
  {
   "cell_type": "code",
   "execution_count": 2,
   "id": "f550cba7",
   "metadata": {},
   "outputs": [],
   "source": [
    "C = 0.5 # Farad\n",
    "R = 2/3 # Ohm\n",
    "L = 1   # Henry\n",
    "\n",
    "S_1, S_2 = -1, -2 # damping factors\n",
    "A, B = -14*mt.exp(4), 24*mt.exp(8)\n",
    "\n",
    "def V_L(t):    # V_L(t) = V(t) across the circuit\n",
    "    V = A*mt.exp(S_1*t) + B*mt.exp(S_2*t) \n",
    "    return V\n",
    "\n",
    "def resid_from_x(t):   # V'(t) = f(t), where it is at minimum.\n",
    "    V_prime = S_1*A*mt.exp(S_1*t) + S_2*B*mt.exp(S_2*t)\n",
    "    return V_prime\n",
    "\n",
    "def resid_from_x_prime(t):   # V\"(t) = f'(t) for the newton search derivative.\n",
    "    return S_1*S_1*A*mt.exp(S_1*t) + S_2*S_2*B*mt.exp(S_2*t)"
   ]
  },
  {
   "cell_type": "markdown",
   "id": "72b386cb",
   "metadata": {},
   "source": [
    "Use the Newton-Raphson method to find the root of $f\\!\\left(t\\right)$.\n",
    "\n",
    "Define the Python variable `T0` that will store the initial estimate of the root.\n",
    "Run\n",
    "[`scipy.optimize.newton()`](https://docs.scipy.org/doc/scipy/reference/generated/scipy.optimize.newton.html)\n",
    "such that you get the (approximate) root as well as convergence information,\n",
    "and store the said outputs in Python variables `t_nr` and `t_nr_info`, respectively.\n",
    "You may provide non-default values to the tolerances and to the iteration budget.\n",
    "\n",
    "In the succeeding code cell,\n",
    "replace the `pass` statement with your code."
   ]
  },
  {
   "cell_type": "code",
   "execution_count": 3,
   "id": "0504cc34",
   "metadata": {},
   "outputs": [
    {
     "name": "stdout",
     "output_type": "stream",
     "text": [
      "Finding a root starting at 4:\n"
     ]
    }
   ],
   "source": [
    "T0 = 4\n",
    "MAX_I = 300\n",
    "tolerance = 1e-6\n",
    "\n",
    "t_nr, t_nr_info = spo.newton(resid_from_x, T0, fprime = resid_from_x_prime, tol = tolerance, maxiter = MAX_I, full_output = True, disp = False)\n",
    "print(f\"Finding a root starting at {T0}:\")"
   ]
  },
  {
   "cell_type": "code",
   "execution_count": 4,
   "id": "1d385184",
   "metadata": {},
   "outputs": [
    {
     "name": "stdout",
     "output_type": "stream",
     "text": [
      "      converged: True\n",
      "           flag: converged\n",
      " function_calls: 16\n",
      "     iterations: 8\n",
      "           root: 5.232143681292632\n",
      "         method: newton\n"
     ]
    }
   ],
   "source": [
    "print(t_nr_info)\n",
    "\n"
   ]
  },
  {
   "cell_type": "markdown",
   "id": "fda25422",
   "metadata": {},
   "source": [
    "## Results and discussion"
   ]
  },
  {
   "cell_type": "markdown",
   "id": "cecfe23b",
   "metadata": {},
   "source": [
    "Verify if the obtained (approximate) root is indeed the root\n",
    "by printing the corresponding value of $f\\!\\left(t\\right)$.\n",
    "The printed display should follow the following format\n",
    "\n",
    ">> Residual value: 1.23456790e-07\n",
    "\n",
    "where 1.23456790e-07 is just an exemplar value.\n",
    "\n",
    "In the succeeding code cell,\n",
    "replace the `pass` statement with your code."
   ]
  },
  {
   "cell_type": "code",
   "execution_count": 5,
   "id": "8eceda5f",
   "metadata": {},
   "outputs": [
    {
     "name": "stdout",
     "output_type": "stream",
     "text": [
      "Residual value: -1.7763568394002505e-15\n"
     ]
    }
   ],
   "source": [
    "print(f\"Residual value: {resid_from_x(t_nr)}\") "
   ]
  },
  {
   "cell_type": "markdown",
   "id": "78133b5a",
   "metadata": {},
   "source": [
    "Print the minimum voltage across the equivalent-inductance element,\n",
    "such that the output follows the following:\n",
    "\n",
    ">> The minimum voltage across the equivalent-inductance element is 1.234567 volts.\n",
    "\n",
    "where 1.234567 is just an examplar value for the said minimum voltage.\n",
    "\n",
    "In the succeeding code cell,\n",
    "replace the `pass` statement with your code."
   ]
  },
  {
   "cell_type": "code",
   "execution_count": 6,
   "id": "01337f28",
   "metadata": {},
   "outputs": [
    {
     "name": "stdout",
     "output_type": "stream",
     "text": [
      "The minimum voltage across the equivalent-inductance element is -2.0416666666666665 volts.\n"
     ]
    }
   ],
   "source": [
    "print(f\"The minimum voltage across the equivalent-inductance element is {V_L(t_nr)} volts.\")"
   ]
  },
  {
   "cell_type": "markdown",
   "id": "72db5291",
   "metadata": {},
   "source": [
    "## Submission instructions"
   ]
  },
  {
   "cell_type": "markdown",
   "id": "4791c660",
   "metadata": {},
   "source": [
    "Download this notebook file,\n",
    "and save with a filename following the pattern\n",
    "`ACT-05_<section>_<ID number>`,\n",
    "where the section is as reflected in your Google Classroom.\n",
    "For example, if your ID number is 2013-0024\n",
    "and you are enrolled to the M34W12 class,\n",
    "then your notebook should be named `ACT-05_M34W12_2013-0024.ipynb`.\n",
    "Submit your notebook via the classwork platform for this activity in Google Classroom.\n",
    "Submissions beyond the deadline will not be considered.\n",
    "\n",
    "Lastly, the use of AI tools to answer this exam is not prohibited,\n",
    "but it is of ethical interest to disclose such use.\n",
    "This is in line with the\n",
    "[MSU Policy on the Fair and Ethical Use of AI and Its Applications](https://www.msumain.edu.ph/wp-content/uploads/2024/05/MSU-Policy-on-Ethical-use-of-AI-Policies.pdf).\n",
    "As such, please include a brief statement (in a private comment to this classwork)\n",
    "declaring which and how AI tools are used in your work."
   ]
  },
  {
   "cell_type": "markdown",
   "id": "6cb55aa8",
   "metadata": {},
   "source": [
    "*Last updated by Christian Cahig on 2025-10-09*"
   ]
  }
 ],
 "metadata": {
  "kernelspec": {
   "display_name": "eee102",
   "language": "python",
   "name": "python3"
  },
  "language_info": {
   "codemirror_mode": {
    "name": "ipython",
    "version": 3
   },
   "file_extension": ".py",
   "mimetype": "text/x-python",
   "name": "python",
   "nbconvert_exporter": "python",
   "pygments_lexer": "ipython3",
   "version": "3.12.5"
  }
 },
 "nbformat": 4,
 "nbformat_minor": 5
}
