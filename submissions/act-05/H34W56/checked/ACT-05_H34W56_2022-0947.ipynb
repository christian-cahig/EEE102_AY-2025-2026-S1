{
 "cells": [
  {
   "cell_type": "markdown",
   "id": "05a8cc99",
   "metadata": {},
   "source": [
    "# Activity 5\n",
    "\n",
    "This activity is an application of the Newton-Raphson method for univariate root-finding."
   ]
  },
  {
   "cell_type": "markdown",
   "id": "81b76d77",
   "metadata": {},
   "source": [
    "## Imports"
   ]
  },
  {
   "cell_type": "markdown",
   "id": "73cc1a5b",
   "metadata": {},
   "source": [
    "If you wish to import other packages and/or modules,\n",
    "add a blank line after importing `scipy.optimize` in the following code cell,\n",
    "followed by the comment line `# Custom imports`,\n",
    "after which your additional imports should be disclosed.\n",
    "For example, to use NumPy, the succeeding code cell should show\n",
    "\n",
    ">> ```python\n",
    ">> import math as mt\n",
    ">> \n",
    ">> import scipy.optimize as spo\n",
    ">> \n",
    ">> # Custom imports\n",
    ">> import numpy as np\n",
    ">> ```"
   ]
  },
  {
   "cell_type": "code",
   "execution_count": 1,
   "id": "5bb02ee5",
   "metadata": {},
   "outputs": [],
   "source": [
    "import math as mt\n",
    "\n",
    "import scipy.optimize as spo\n",
    "\n",
    "# Custom imports\n",
    "import numpy as np"
   ]
  },
  {
   "cell_type": "markdown",
   "id": "e38d8b0a",
   "metadata": {},
   "source": [
    "## Scenario"
   ]
  },
  {
   "cell_type": "markdown",
   "id": "77006f54",
   "metadata": {},
   "source": [
    "Suppose you have a second-order circuit that can be reduced into\n",
    "an equivalent resistance $R$\n",
    "parallel-connected to\n",
    "an equivalent inductance $L$\n",
    "as well as to\n",
    "an equivalent capacitance $C$\n",
    "(see [diagram](./act-05.png)).\n",
    "The said model is only valid over the interval $4 \\leq t \\leq 21$ seconds."
   ]
  },
  {
   "cell_type": "markdown",
   "id": "a39a3d28",
   "metadata": {},
   "source": [
    "Determine:\n",
    "- the minimum voltage across the equivalent-inductance element,\n",
    "  and\n",
    "- when the voltage across the equivalent-resistance element is a minimum,\n",
    "\n",
    "for when:\n",
    "- $C = 500$ millifarads,\n",
    "- $R = \\frac{2}{3}$ ohms,\n",
    "  and\n",
    "- $L = 1000$ millihenrys,\n",
    "\n",
    "provided that \n",
    "$V = 10$ volts\n",
    "and\n",
    "$I = 2$ amperes\n",
    "at the start of the applicable interval."
   ]
  },
  {
   "cell_type": "markdown",
   "id": "b663b2f8",
   "metadata": {},
   "source": [
    "## Modelling"
   ]
  },
  {
   "cell_type": "markdown",
   "id": "3cf9a6f3",
   "metadata": {},
   "source": [
    "Derive $f\\!\\left(t\\right)$ whose root corresponds to when the voltage across the equivalent-resistance element is a minimum.\n",
    "Then, derive an expression of $V\\!\\left(t\\right)$ across the equivalent-inductance element."
   ]
  },
  {
   "cell_type": "markdown",
   "id": "75976f2a",
   "metadata": {},
   "source": [
    "Construct three Python functions:\n",
    "- `f()`, which implements $f\\!\\left(t\\right)$;\n",
    "- `df()`, which implements the derivative of $f\\!\\left(t\\right)$;\n",
    "  and\n",
    "- `v_L()`, which implements $V\\!\\left(t\\right)$.\n",
    "\n",
    "Each of the said functions should take a single positional argument `t`.\n",
    "\n",
    "In the succeeding code cell,\n",
    "replace the `pass` statement with your code."
   ]
  },
  {
   "cell_type": "markdown",
   "id": "bde8b819",
   "metadata": {},
   "source": [
    "## SOLUTION"
   ]
  },
  {
   "cell_type": "markdown",
   "id": "44b7c4de",
   "metadata": {},
   "source": [
    "This is a source-free parallel RLC circuit using the interval $4 \\leq t \\leq 21$ seconds, with the initial conditions at $t = 4$.\n",
    "\n",
    "By applying KCL at the top node, we have:\n",
    "\n",
    "$$ I_L + \\frac{1}{R}V + C\\frac{dV}{dt} = 0 $$\n",
    "\n",
    "After multiplying the equation by $\\frac{d}{dt}$ and subsituting the given parameters, we have this second-order differential equation:\n",
    "\n",
    "$$ \\frac{d^2V}{dt^2} + 3\\frac{dV}{dt} + 2V = 0 $$\n",
    "\n",
    "Hence, we have this characteristic equation:\n",
    "\n",
    "$$ m^2 + 3m + 2 = 0 $$\n",
    "\n",
    "With two real and distinct roots:\n",
    "\n",
    "$$ m_1 = -1 ; m_2 = -2 $$\n",
    "\n",
    "Resulting to a general equation, and its corresponding differentiation:\n",
    "\n",
    "$$ V(t) = C_1e^{-t} + C_2e^{-2t} $$\n",
    "$$ \\frac{dV}{dt} = V'(t) = -C_1e^{-t} - 2C_2e^{-2t} $$\n",
    "\n",
    "At initial conditions:\n",
    "\n",
    "For $V(4)$,\n",
    "\n",
    "$$ V(t) = 10 = C_1e^{-4} + C_2e^{-8} $$\n",
    "\n",
    "For $V'(t)$, we use the KCL equation first to determine $\\frac{dV}{dt}$ at $t=4$, where $I_L(4) = 2A$.\n",
    "\n",
    "$$ 2 + \\frac{10}{\\frac{2}{3}} + 0.5\\frac{dV(4)}{dt} $$\n",
    "\n",
    "Hence,\n",
    "\n",
    "$$ \\frac{dV(4)}{dt} = V'(4) = -34 $$\n",
    "\n",
    "And after applying system of equations for $V(t)$ and $V'(t)$, the final equations are:\n",
    "\n",
    "$$ V(t) = -14e^{4-t} + 24e^{8-2t} $$\n",
    "$$ V'(t) = 14e^{4-t} - 48e^{8-2t} $$\n",
    "\n",
    "Where $V'(t) = f(t)$ due to it being set to minimum."
   ]
  },
  {
   "cell_type": "code",
   "execution_count": 2,
   "id": "0504cc34",
   "metadata": {},
   "outputs": [
    {
     "ename": "NameError",
     "evalue": "name 'T0' is not defined",
     "output_type": "error",
     "traceback": [
      "\u001b[0;31m---------------------------------------------------------------------------\u001b[0m",
      "\u001b[0;31mNameError\u001b[0m                                 Traceback (most recent call last)",
      "Cell \u001b[0;32mIn[2], line 1\u001b[0m\n\u001b[0;32m----> 1\u001b[0m \u001b[38;5;28mprint\u001b[39m(\u001b[38;5;124mf\u001b[39m\u001b[38;5;124m\"\u001b[39m\u001b[38;5;124mFinding a root starting at \u001b[39m\u001b[38;5;132;01m{\u001b[39;00m\u001b[43mT0\u001b[49m\u001b[38;5;132;01m}\u001b[39;00m\u001b[38;5;124m:\u001b[39m\u001b[38;5;124m\"\u001b[39m)\n\u001b[1;32m      2\u001b[0m C \u001b[38;5;241m=\u001b[39m \u001b[38;5;241m0.5\u001b[39m \n\u001b[1;32m      3\u001b[0m R \u001b[38;5;241m=\u001b[39m \u001b[38;5;241m2\u001b[39m\u001b[38;5;241m/\u001b[39m\u001b[38;5;241m3\u001b[39m \n",
      "\u001b[0;31mNameError\u001b[0m: name 'T0' is not defined"
     ]
    }
   ],
   "source": [
    "print(f\"Finding a root starting at {T0}:\")\n",
    "C = 0.5 \n",
    "R = 2/3 \n",
    "L = 1\n",
    "\n",
    "m_1, m_2 = -1, -2 \n",
    "C_1, C_2 = -14*mt.exp(4), 24*mt.exp(8)\n",
    "\n",
    "def V_L(t): \n",
    "    return C_1*mt.exp(m_1*t) + C_2*mt.exp(m_2*t) \n",
    "\n",
    "def f(t):  \n",
    "    return m_1*C_1*mt.exp(m_1*t) + m_2*C_2*mt.exp(m_2*t)"
   ]
  },
  {
   "cell_type": "markdown",
   "id": "8da05421",
   "metadata": {},
   "source": [
    "Use bisection method to find the root of $f\\!\\left(t\\right)$.\n",
    "\n",
    "Define Python variables `TL` and `TU`\n",
    "to which are respectively assigned the lower and the upper end of the search interval.\n",
    "Run\n",
    "[`scipy.optimize.bisect()`](https://docs.scipy.org/doc/scipy/reference/generated/scipy.optimize.bisect.html)\n",
    "such that you get the (approximate) root as well as information concerning the root-finding process,\n",
    "where the said outputs are stored in Python variables `t_bs` and `t_bs_info`, respectively.\n",
    "Use default values for tolerances.\n",
    "\n",
    "In the succeeding code cell,\n",
    "replace the `pass` statement with your code."
   ]
  },
  {
   "cell_type": "code",
   "execution_count": null,
   "id": "4c3c130f",
   "metadata": {},
   "outputs": [],
   "source": [
    "TL, TU = 4, 21\n",
    "MAX_ITERS = 750\n",
    "TOL = 1E-7\n",
    "\n",
    "print(f\"Finding a root in the interval [{TL}, {TU}]:\")"
   ]
  },
  {
   "cell_type": "code",
   "execution_count": null,
   "id": "a5339117",
   "metadata": {},
   "outputs": [],
   "source": [
    "t_bs, t_bs_info = spo.bisect(\n",
    "    f, TL, TU,\n",
    "    rtol = TOL, maxiter = MAX_ITERS,\n",
    "    full_output = True, disp = False,\n",
    ")\n",
    "\n",
    "print(t_bs_info)"
   ]
  },
  {
   "cell_type": "markdown",
   "id": "fda25422",
   "metadata": {},
   "source": [
    "## Results and discussion"
   ]
  },
  {
   "cell_type": "markdown",
   "id": "cecfe23b",
   "metadata": {},
   "source": [
    "Verify if the obtained (approximate) root is indeed the root\n",
    "by printing the corresponding value of $f\\!\\left(t\\right)$.\n",
    "The printed display should follow the following format\n",
    "\n",
    ">> Residual value: 1.23456790e-07\n",
    "\n",
    "where 1.23456790e-07 is just an exemplar value.\n",
    "\n",
    "In the succeeding code cell,\n",
    "replace the `pass` statement with your code."
   ]
  },
  {
   "cell_type": "code",
   "execution_count": null,
   "id": "713e6a87",
   "metadata": {},
   "outputs": [],
   "source": [
    "print(f\"Residual value: {f(t_bs)}\")"
   ]
  },
  {
   "cell_type": "markdown",
   "id": "78133b5a",
   "metadata": {},
   "source": [
    "Print the minimum voltage across the equivalent-inductance element,\n",
    "such that the output follows the following:\n",
    "\n",
    ">> The minimum voltage across the equivalent-inductance element is 1.234567 volts.\n",
    "\n",
    "where 1.234567 is just an examplar value for the said minimum voltage.\n",
    "\n",
    "In the succeeding code cell,\n",
    "replace the `pass` statement with your code."
   ]
  },
  {
   "cell_type": "markdown",
   "id": "72db5291",
   "metadata": {},
   "source": [
    "## Submission instructions"
   ]
  },
  {
   "cell_type": "code",
   "execution_count": null,
   "id": "ed2b1373",
   "metadata": {},
   "outputs": [],
   "source": [
    "print(f\"The minimum voltage across the equivalent-inductance element is {V_L(t_bs)} volts.\")"
   ]
  },
  {
   "cell_type": "markdown",
   "id": "4791c660",
   "metadata": {},
   "source": [
    "Download this notebook file,\n",
    "and save with a filename following the pattern\n",
    "`ACT-05_<section>_<ID number>`,\n",
    "where the section is as reflected in your Google Classroom.\n",
    "For example, if your ID number is 2013-0024\n",
    "and you are enrolled to the M34W12 class,\n",
    "then your notebook should be named `ACT-05_M34W12_2013-0024.ipynb`.\n",
    "Submit your notebook via the classwork platform for this activity in Google Classroom.\n",
    "Submissions beyond the deadline will not be considered.\n",
    "\n",
    "Lastly, the use of AI tools to answer this exam is not prohibited,\n",
    "but it is of ethical interest to disclose such use.\n",
    "This is in line with the\n",
    "[MSU Policy on the Fair and Ethical Use of AI and Its Applications](https://www.msumain.edu.ph/wp-content/uploads/2024/05/MSU-Policy-on-Ethical-use-of-AI-Policies.pdf).\n",
    "As such, please include a brief statement (in a private comment to this classwork)\n",
    "declaring which and how AI tools are used in your work."
   ]
  },
  {
   "cell_type": "markdown",
   "id": "6cb55aa8",
   "metadata": {},
   "source": [
    "*Last updated by Christian Cahig on 2025-10-09*"
   ]
  }
 ],
 "metadata": {
  "kernelspec": {
   "display_name": "eee102",
   "language": "python",
   "name": "python3"
  },
  "language_info": {
   "codemirror_mode": {
    "name": "ipython",
    "version": 3
   },
   "file_extension": ".py",
   "mimetype": "text/x-python",
   "name": "python",
   "nbconvert_exporter": "python",
   "pygments_lexer": "ipython3",
   "version": "3.12.5"
  }
 },
 "nbformat": 4,
 "nbformat_minor": 5
}
