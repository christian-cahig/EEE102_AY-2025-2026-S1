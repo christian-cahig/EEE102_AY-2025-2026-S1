{
 "cells": [
  {
   "cell_type": "code",
   "execution_count": 1,
   "id": "f1f3c333-78ea-42d1-a24a-439c89385bbf",
   "metadata": {},
   "outputs": [],
   "source": [
    "import math as mt\n",
    "import scipy.optimize as spo"
   ]
  },
  {
   "cell_type": "code",
   "execution_count": 2,
   "id": "0bb3c22e-04e9-4e7a-b8fa-9a19d4c7da86",
   "metadata": {},
   "outputs": [],
   "source": [
    "#given \n",
    "C = 0.5 #capacitance\n",
    "R = 2/3 #resistance\n",
    "L = 1 #inductance\n",
    "v_L = 10 #initial voltage (inductance) at t=4s\n",
    "IL = 2 #initial current  (inductance) at t=4s"
   ]
  },
  {
   "cell_type": "code",
   "execution_count": 3,
   "id": "45f5b20e-884a-4f3d-9c84-64c33c247911",
   "metadata": {},
   "outputs": [],
   "source": [
    "def v_L(t):\n",
    "    return (-14*mt.exp(4-t)) + (24*mt.exp(8-2*t))\n",
    "def f(t):\n",
    "    return (14*mt.exp(4-t)) - (48*mt.exp(8-2*t))\n",
    "def df(t):\n",
    "    return (-14*mt.exp(4-t)) + (96*mt.exp(8-2*t))"
   ]
  },
  {
   "cell_type": "code",
   "execution_count": 4,
   "id": "a1e323fd-da38-445b-9c1d-8c43f6def7ce",
   "metadata": {},
   "outputs": [
    {
     "name": "stdout",
     "output_type": "stream",
     "text": [
      "Finding a root starting at 4:\n",
      "The root t_nr was found to be: 5.232143681292632\n"
     ]
    }
   ],
   "source": [
    "T0 = 4\n",
    "print(f\"Finding a root starting at {T0}:\")\n",
    "t_nr, t_nr_info = spo.newton(f, T0, fprime=df, full_output=True)\n",
    "\n",
    "print(f\"The root t_nr was found to be: {t_nr}\")"
   ]
  },
  {
   "cell_type": "code",
   "execution_count": 5,
   "id": "1a525389-bf61-4495-8b99-cf3109838ff9",
   "metadata": {},
   "outputs": [
    {
     "name": "stdout",
     "output_type": "stream",
     "text": [
      "      converged: True\n",
      "           flag: converged\n",
      " function_calls: 16\n",
      "     iterations: 8\n",
      "           root: 5.232143681292632\n",
      "         method: newton\n"
     ]
    }
   ],
   "source": [
    "print (t_nr_info)"
   ]
  },
  {
   "cell_type": "code",
   "execution_count": 6,
   "id": "29b75395-3f6b-4e72-818b-b2aaa1af3209",
   "metadata": {},
   "outputs": [
    {
     "name": "stdout",
     "output_type": "stream",
     "text": [
      "Residual value: -1.7763568394002505e-15\n"
     ]
    }
   ],
   "source": [
    "residual = f(t_nr)\n",
    "print(f\"Residual value: {residual}\")"
   ]
  },
  {
   "cell_type": "code",
   "execution_count": 7,
   "id": "6f2b0935-aef9-4adb-b17a-6f177db700d7",
   "metadata": {},
   "outputs": [
    {
     "name": "stdout",
     "output_type": "stream",
     "text": [
      "The minimum voltage across the equivalent-inductance element is -2.0416666666666665 volts.\n"
     ]
    }
   ],
   "source": [
    "min_voltage = v_L(t_nr)\n",
    "print(f\"The minimum voltage across the equivalent-inductance element is {min_voltage} volts.\")"
   ]
  }
 ],
 "metadata": {
  "kernelspec": {
   "display_name": "eee102",
   "language": "python",
   "name": "python3"
  },
  "language_info": {
   "codemirror_mode": {
    "name": "ipython",
    "version": 3
   },
   "file_extension": ".py",
   "mimetype": "text/x-python",
   "name": "python",
   "nbconvert_exporter": "python",
   "pygments_lexer": "ipython3",
   "version": "3.12.5"
  }
 },
 "nbformat": 4,
 "nbformat_minor": 5
}
