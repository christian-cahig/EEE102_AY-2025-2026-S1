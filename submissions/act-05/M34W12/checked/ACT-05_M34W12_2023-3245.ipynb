{
 "cells": [
  {
   "cell_type": "markdown",
   "id": "05a8cc99",
   "metadata": {},
   "source": [
    "# Activity 5\n",
    "\n",
    "This activity is an application of the Newton-Raphson method for univariate root-finding."
   ]
  },
  {
   "cell_type": "markdown",
   "id": "81b76d77",
   "metadata": {},
   "source": [
    "## Imports"
   ]
  },
  {
   "cell_type": "markdown",
   "id": "73cc1a5b",
   "metadata": {},
   "source": [
    "If you wish to import other packages and/or modules,\n",
    "add a blank line after importing `scipy.optimize` in the following code cell,\n",
    "followed by the comment line `# Custom imports`,\n",
    "after which your additional imports should be disclosed.\n",
    "For example, to use NumPy, the succeeding code cell should show\n",
    "\n",
    ">> ```python\n",
    ">> import math as mt\n",
    ">> \n",
    ">> import scipy.optimize as spo\n",
    ">> \n",
    ">> # Custom imports\n",
    ">> import numpy as np\n",
    ">> ```"
   ]
  },
  {
   "cell_type": "code",
   "execution_count": 1,
   "id": "b8f40eff",
   "metadata": {},
   "outputs": [],
   "source": [
    "import math as mt\n",
    "\n",
    "import scipy.optimize as spo"
   ]
  },
  {
   "cell_type": "markdown",
   "id": "e38d8b0a",
   "metadata": {},
   "source": [
    "## Scenario"
   ]
  },
  {
   "cell_type": "markdown",
   "id": "77006f54",
   "metadata": {},
   "source": [
    "Suppose you have a second-order circuit that can be reduced into\n",
    "an equivalent resistance $R$\n",
    "parallel-connected to\n",
    "an equivalent inductance $L$\n",
    "as well as to\n",
    "an equivalent capacitance $C$\n",
    "(see [diagram](./act-05.png)).\n",
    "The said model is only valid over the interval $4 \\leq t \\leq 21$ seconds."
   ]
  },
  {
   "cell_type": "markdown",
   "id": "a39a3d28",
   "metadata": {},
   "source": [
    "Determine:\n",
    "- the minimum voltage across the equivalent-inductance element,\n",
    "  and\n",
    "- when the voltage across the equivalent-resistance element is a minimum,\n",
    "\n",
    "for when:\n",
    "- $C = 500$ millifarads,\n",
    "- $R = \\frac{2}{3}$ ohms,\n",
    "  and\n",
    "- $L = 1000$ millihenrys,\n",
    "\n",
    "provided that \n",
    "$V = 10$ volts\n",
    "and\n",
    "$I = 2$ amperes\n",
    "at the start of the applicable interval."
   ]
  },
  {
   "cell_type": "markdown",
   "id": "b663b2f8",
   "metadata": {},
   "source": [
    "## Modelling"
   ]
  },
  {
   "cell_type": "markdown",
   "id": "3cf9a6f3",
   "metadata": {},
   "source": [
    "Derive $f\\!\\left(t\\right)$ whose root corresponds to when the voltage across the equivalent-resistance element is a minimum.\n",
    "Then, derive an expression of $V\\!\\left(t\\right)$ across the equivalent-inductance element."
   ]
  },
  {
   "cell_type": "markdown",
   "id": "75976f2a",
   "metadata": {},
   "source": [
    "Construct three Python functions:\n",
    "- `f()`, which implements $f\\!\\left(t\\right)$;\n",
    "- `df()`, which implements the derivative of $f\\!\\left(t\\right)$;\n",
    "  and\n",
    "- `v_L()`, which implements $V\\!\\left(t\\right)$.\n",
    "\n",
    "Each of the said functions should take a single positional argument `t`.\n",
    "\n",
    "SOLUTION: \n",
    "\n",
    "For the parallel R–L–C (no external source) the voltage 𝑣(𝑡)v(t) across every branch satisfies\n",
    "\n",
    "$$ V\"+ \\frac{1}{RC} v' + \\frac{1}{LC}V = 0 $$ \n",
    "\n",
    "for when:\n",
    "- $C = 500$ millifarads,\n",
    "- $R = \\frac{2}{3}$ ohms,\n",
    "  and\n",
    "- $L = 1000$ millihenrys,\n",
    "\n",
    "provided Initial Condition: \n",
    "$V = 10$ volts\n",
    ",\n",
    "$I = 2$ amperes\n",
    "and \n",
    "$t=4$ \n",
    "\n",
    "By Solve the homogeneous ODE (characteristic equation), we can get:\n",
    "\n",
    "S1=-1\n",
    "\n",
    "S2=-2\n",
    "\n",
    "However in a parallel circuit, current in each parallel branch aren't equal, therefore then we KCL (@ t = 4):\n",
    "\n",
    "0 = I_R(4) + V(4)/R + C(dV/dt)\n",
    "\n",
    "Then we can fomulate Solution for Homogenous 2nd order ode:\n",
    "\n",
    "For v(t) = V_L:\n",
    "\n",
    "$$V\\!\\left(t\\right)= Ae^{(-t)} + Be^{(-2t)} $$\n",
    "\n",
    "for f(t):\n",
    "\n",
    "$$f\\!\\left(t\\right) = V^{\\prime}\\!\\left( t \\right)  = -Ae^{(-t)} -2Be^{(-2t)}= 0 $$\n",
    "\n",
    "And for f'(t) = df(t):\n",
    "$$f'\\!\\left(t\\right) = Ae^{(-t)} + 4Be^{(-2t)}= 0 $$\n",
    "\n",
    "\n",
    "Where value of f(t) is set @ minimum, to verify, its 2nd derivative should be > 0.\n",
    "\n",
    "Values of A and B upon solving the differential equation:\n",
    "\n",
    "A = $ -14e^{4} $\n",
    "\n",
    "B = $ 24e^{8} $\n",
    "\n"
   ]
  },
  {
   "cell_type": "code",
   "execution_count": 2,
   "id": "f550cba7",
   "metadata": {},
   "outputs": [],
   "source": [
    "import numpy as np\n",
    "import scipy.optimize as spo\n",
    "\n",
    "# Constants\n",
    "A = -14 * np.exp(4)\n",
    "B = 24 * np.exp(8)\n",
    "\n",
    "# --- Define functions ---\n",
    "def v_L(t):   # V(t)\n",
    "    return A * np.exp(-t) + B * np.exp(-2 * t)\n",
    "\n",
    "def f(t):     # First derivative (V'(t))\n",
    "    return -A * np.exp(-t) - 2 * B * np.exp(-2 * t)\n",
    "\n",
    "def df(t):    # Second derivative (V''(t))\n",
    "    return A * np.exp(-t) + 4 * B * np.exp(-2 * t)"
   ]
  },
  {
   "cell_type": "markdown",
   "id": "72b386cb",
   "metadata": {},
   "source": [
    "Use the Newton-Raphson method to find the root of $f\\!\\left(t\\right)$.\n",
    "\n",
    "Define the Python variable `T0` that will store the initial estimate of the root.\n",
    "Run\n",
    "[`scipy.optimize.newton()`](https://docs.scipy.org/doc/scipy/reference/generated/scipy.optimize.newton.html)\n",
    "such that you get the (approximate) root as well as convergence information,\n",
    "and store the said outputs in Python variables `t_nr` and `t_nr_info`, respectively.\n",
    "You may provide non-default values to the tolerances and to the iteration budget.\n",
    "\n",
    "In the succeeding code cell,\n",
    "replace the `pass` statement with your code."
   ]
  },
  {
   "cell_type": "code",
   "execution_count": 3,
   "id": "7021dd9b-38ab-4175-9537-33131b7df4c9",
   "metadata": {},
   "outputs": [
    {
     "name": "stdout",
     "output_type": "stream",
     "text": [
      "Finding a root starting at 2.0:\n"
     ]
    },
    {
     "ename": "NameError",
     "evalue": "name 'resid_from_x' is not defined",
     "output_type": "error",
     "traceback": [
      "\u001b[0;31m---------------------------------------------------------------------------\u001b[0m",
      "\u001b[0;31mNameError\u001b[0m                                 Traceback (most recent call last)",
      "Cell \u001b[0;32mIn[3], line 12\u001b[0m\n\u001b[1;32m      8\u001b[0m \u001b[38;5;28mprint\u001b[39m(\u001b[38;5;124mf\u001b[39m\u001b[38;5;124m\"\u001b[39m\u001b[38;5;124mFinding a root starting at \u001b[39m\u001b[38;5;132;01m{\u001b[39;00mT0\u001b[38;5;132;01m}\u001b[39;00m\u001b[38;5;124m:\u001b[39m\u001b[38;5;124m\"\u001b[39m)\n\u001b[1;32m     10\u001b[0m \u001b[38;5;66;03m# Run Newton–Raphson method (correct syntax)\u001b[39;00m\n\u001b[1;32m     11\u001b[0m t_nr, t_nr_info \u001b[38;5;241m=\u001b[39m spo\u001b[38;5;241m.\u001b[39mnewton(\n\u001b[0;32m---> 12\u001b[0m     \u001b[43mresid_from_x\u001b[49m,\n\u001b[1;32m     13\u001b[0m     x0\u001b[38;5;241m=\u001b[39mT0,\n\u001b[1;32m     14\u001b[0m     fprime\u001b[38;5;241m=\u001b[39mresid_from_x_prime,\n\u001b[1;32m     15\u001b[0m     tol\u001b[38;5;241m=\u001b[39mtol,\n\u001b[1;32m     16\u001b[0m     maxiter\u001b[38;5;241m=\u001b[39mmaxiter,\n\u001b[1;32m     17\u001b[0m     full_output\u001b[38;5;241m=\u001b[39m\u001b[38;5;28;01mTrue\u001b[39;00m\n\u001b[1;32m     18\u001b[0m )\n",
      "\u001b[0;31mNameError\u001b[0m: name 'resid_from_x' is not defined"
     ]
    }
   ],
   "source": [
    "import scipy.optimize as spo\n",
    "\n",
    "# Initial guess and parameters\n",
    "T0 = 2.0\n",
    "maxiter = 100\n",
    "tol = 1e-7\n",
    "\n",
    "print(f\"Finding a root starting at {T0}:\")\n",
    "\n",
    "# Run Newton–Raphson method (correct syntax)\n",
    "t_nr, t_nr_info = spo.newton(\n",
    "    resid_from_x,\n",
    "    x0=T0,\n",
    "    fprime=resid_from_x_prime,\n",
    "    tol=tol,\n",
    "    maxiter=maxiter,\n",
    "    full_output=True\n",
    ")\n"
   ]
  },
  {
   "cell_type": "code",
   "execution_count": null,
   "id": "57c648bb-9536-45da-9055-3b92718a9b3b",
   "metadata": {},
   "outputs": [],
   "source": [
    "print(f\"Finding a root starting at {T0}:\")"
   ]
  },
  {
   "cell_type": "code",
   "execution_count": null,
   "id": "1d385184",
   "metadata": {},
   "outputs": [],
   "source": [
    "print(t_nr_info)"
   ]
  },
  {
   "cell_type": "markdown",
   "id": "fda25422",
   "metadata": {},
   "source": [
    "## Results and discussion"
   ]
  },
  {
   "cell_type": "markdown",
   "id": "cecfe23b",
   "metadata": {},
   "source": [
    "Verify if the obtained (approximate) root is indeed the root\n",
    "by printing the corresponding value of $f\\!\\left(t\\right)$.\n",
    "The printed display should follow the following format\n",
    "\n",
    ">> Residual value: 1.23456790e-07\n",
    "\n",
    "where 1.23456790e-07 is just an exemplar value.\n",
    "\n",
    "In the succeeding code cell,\n",
    "replace the `pass` statement with your code."
   ]
  },
  {
   "cell_type": "code",
   "execution_count": null,
   "id": "8eceda5f",
   "metadata": {},
   "outputs": [],
   "source": [
    "print(f\"Residual value: {resid_from_x(t_nr)}\") #must be infinitely close to 0"
   ]
  },
  {
   "cell_type": "markdown",
   "id": "78133b5a",
   "metadata": {},
   "source": [
    "Print the minimum voltage across the equivalent-inductance element,\n",
    "such that the output follows the following:\n",
    "\n",
    ">> The minimum voltage across the equivalent-inductance element is 1.234567 volts.\n",
    "\n",
    "where 1.234567 is just an examplar value for the said minimum voltage.\n",
    "\n",
    "In the succeeding code cell,\n",
    "replace the `pass` statement with your code."
   ]
  },
  {
   "cell_type": "code",
   "execution_count": null,
   "id": "01337f28",
   "metadata": {},
   "outputs": [],
   "source": [
    "min_voltage = v_L(t_nr)\n",
    "print(f\"The minimum voltage across the equivalent-inductance element is {min_voltage:.6f} volts.\")"
   ]
  },
  {
   "cell_type": "markdown",
   "id": "72db5291",
   "metadata": {},
   "source": [
    "## Submission instructions"
   ]
  },
  {
   "cell_type": "markdown",
   "id": "4791c660",
   "metadata": {},
   "source": [
    "Download this notebook file,\n",
    "and save with a filename following the pattern\n",
    "`ACT-05_<section>_<ID number>`,\n",
    "where the section is as reflected in your Google Classroom.\n",
    "For example, if your ID number is 2013-0024\n",
    "and you are enrolled to the M34W12 class,\n",
    "then your notebook should be named `ACT-05_M34W12_2013-0024.ipynb`.\n",
    "Submit your notebook via the classwork platform for this activity in Google Classroom.\n",
    "Submissions beyond the deadline will not be considered.\n",
    "\n",
    "Lastly, the use of AI tools to answer this exam is not prohibited,\n",
    "but it is of ethical interest to disclose such use.\n",
    "This is in line with the\n",
    "[MSU Policy on the Fair and Ethical Use of AI and Its Applications](https://www.msumain.edu.ph/wp-content/uploads/2024/05/MSU-Policy-on-Ethical-use-of-AI-Policies.pdf).\n",
    "As such, please include a brief statement (in a private comment to this classwork)\n",
    "declaring which and how AI tools are used in your work."
   ]
  },
  {
   "cell_type": "markdown",
   "id": "6cb55aa8",
   "metadata": {},
   "source": [
    "*Last updated by Christian Cahig on 2025-10-09*"
   ]
  }
 ],
 "metadata": {
  "kernelspec": {
   "display_name": "eee102",
   "language": "python",
   "name": "python3"
  },
  "language_info": {
   "codemirror_mode": {
    "name": "ipython",
    "version": 3
   },
   "file_extension": ".py",
   "mimetype": "text/x-python",
   "name": "python",
   "nbconvert_exporter": "python",
   "pygments_lexer": "ipython3",
   "version": "3.12.5"
  }
 },
 "nbformat": 4,
 "nbformat_minor": 5
}
