{
 "cells": [
  {
   "cell_type": "markdown",
   "id": "05a8cc99",
   "metadata": {},
   "source": [
    "# Activity 5\n",
    "\n",
    "This activity is an application of the Newton-Raphson method for univariate root-finding."
   ]
  },
  {
   "cell_type": "markdown",
   "id": "81b76d77",
   "metadata": {},
   "source": [
    "## Imports"
   ]
  },
  {
   "cell_type": "markdown",
   "id": "73cc1a5b",
   "metadata": {},
   "source": [
    "If you wish to import other packages and/or modules,\n",
    "add a blank line after importing `scipy.optimize` in the following code cell,\n",
    "followed by the comment line `# Custom imports`,\n",
    "after which your additional imports should be disclosed.\n",
    "For example, to use NumPy, the succeeding code cell should show\n",
    "\n",
    ">> ```python\n",
    ">> import math as mt\n",
    ">> \n",
    ">> import scipy.optimize as spo\n",
    ">> \n",
    ">> # Custom imports\n",
    ">> import numpy as np\n",
    ">> ```"
   ]
  },
  {
   "cell_type": "code",
   "execution_count": 1,
   "id": "b8f40eff",
   "metadata": {},
   "outputs": [],
   "source": [
    "import math as mt\n",
    "\n",
    "import scipy.optimize as spo"
   ]
  },
  {
   "cell_type": "markdown",
   "id": "e38d8b0a",
   "metadata": {},
   "source": [
    "## Scenario"
   ]
  },
  {
   "cell_type": "markdown",
   "id": "77006f54",
   "metadata": {},
   "source": [
    "Suppose you have a second-order circuit that can be reduced into\n",
    "an equivalent resistance $R$\n",
    "parallel-connected to\n",
    "an equivalent inductance $L$\n",
    "as well as to\n",
    "an equivalent capacitance $C$\n",
    "(see [diagram](./act-05.png)).\n",
    "The said model is only valid over the interval $4 \\leq t \\leq 21$ seconds."
   ]
  },
  {
   "cell_type": "markdown",
   "id": "a39a3d28",
   "metadata": {},
   "source": [
    "Determine:\n",
    "- the minimum voltage across the equivalent-inductance element,\n",
    "  and\n",
    "- when the voltage across the equivalent-resistance element is a minimum,\n",
    "\n",
    "for when:\n",
    "- $C = 500$ millifarads,\n",
    "- $R = \\frac{2}{3}$ ohms,\n",
    "  and\n",
    "- $L = 1000$ millihenrys,\n",
    "\n",
    "provided that \n",
    "$V = 10$ volts\n",
    "and\n",
    "$I = 2$ amperes\n",
    "at the start of the applicable interval."
   ]
  },
  {
   "cell_type": "markdown",
   "id": "b663b2f8",
   "metadata": {},
   "source": [
    "## Modelling"
   ]
  },
  {
   "cell_type": "markdown",
   "id": "3cf9a6f3",
   "metadata": {},
   "source": [
    "Derive $f\\!\\left(t\\right)$ whose root corresponds to when the voltage across the equivalent-resistance element is a minimum.\n",
    "Then, derive an expression of $V\\!\\left(t\\right)$ across the equivalent-inductance element."
   ]
  },
  {
   "cell_type": "markdown",
   "id": "75976f2a",
   "metadata": {},
   "source": [
    "Construct three Python functions:\n",
    "- `f()`, which implements $f\\!\\left(t\\right)$;\n",
    "- `df()`, which implements the derivative of $f\\!\\left(t\\right)$;\n",
    "  and\n",
    "- `v_L()`, which implements $V\\!\\left(t\\right)$.\n",
    "\n",
    "Each of the said functions should take a single positional argument `t`.\n",
    "\n",
    "In the succeeding code cell,\n",
    "replace the `pass` statement with your code."
   ]
  },
  {
   "cell_type": "markdown",
   "id": "227cee2d-1398-4894-8547-051719a543b3",
   "metadata": {},
   "source": [
    "### Solution"
   ]
  },
  {
   "cell_type": "markdown",
   "id": "ec0d50f3-6fc7-4eef-9380-168b3fe192b1",
   "metadata": {},
   "source": [
    "$4 \\leq t \\leq 21$\n",
    "\n",
    "#### $I = C\\frac{dv}{dt}$,&emsp; $V =L\\frac{di}{dt}$,&emsp; $V=IR$\n",
    "\n",
    "#### $V(t) = \\frac{di(t)}{dt}$\n",
    "\n",
    "#### $\\frac{di}{dt} = C \\frac{d^{2}v}{dt}$\n",
    "\n",
    "#### $\\frac{di}{dt} = (\\frac{dv}{dt}) (\\frac{1}{R})$\n",
    "\n",
    "#### $\\frac{di}{dt} = \\frac{V}{L}$\n",
    "\n",
    "#### $V(t) = \\frac{di(t)}{dt} = C \\frac{d^{2}v}{dt} + (\\frac{dv}{dt}) (\\frac{1}{R}) + \\frac{V}{L}$\n",
    "\n",
    "#### $V(t) = V^{\\prime\\prime} + V^{\\prime}(\\frac{1}{RC}) + \\frac{V}{LC}$\n",
    "\n",
    "Substituting given values:\n",
    "#### $V(t) = V^{\\prime\\prime} + V^{\\prime}(\\frac{1}{(\\frac{2}{3})(0.5)}) + \\frac{V}{(1)(0.5)} = V^{\\prime\\prime} + 3V^{\\prime} + 2V$\n",
    "Roots:\n",
    "\n",
    "$r_{1} = -1$,&emsp;$r_{2} = -2$ (Real And Unequal)\n",
    "\n",
    "Getting $V^{prime}$ using Nodal Analysis:\n",
    "\n",
    "#### $C\\frac{dv}{dt} +\\frac{V}{R} + i = 0$\n",
    "\n",
    "#### $0.5V^{\\prime} +\\frac{10}{\\frac{2}{3}} + 2 = 0$\n",
    "\n",
    "#### $V^{\\prime} = -34$\n",
    "\n",
    "2nd Order DE:\n",
    "\n",
    "#### $V(t) = y = C_{1}e^{-t} + C_{2} e^{-2t}$\n",
    "\n",
    "#### $V^{\\prime}(t) = y^{\\prime} = -C_{1}e^{-t} + -2C_{2} e^{-2t}$\n",
    "\n",
    "#### $V(4) = y = C_{1}e^{-4} + C_{2} e^{-2(4)} = 10$\n",
    "\n",
    "#### $V^{\\prime}(4) = y^{\\prime} = -4C_{1}e^{-4} - 8C_{2} e^{-8} = 0$\n",
    "#### $V^{\\prime}(4) = y^{\\prime} = -C_{1}e^{-4} - 2C_{2} e^{-8} = 0$\n",
    "\n",
    "Input in calculator:\n",
    "$C_{1} =-764.37$\n",
    "$C_{2} =71542.99$\n",
    "\n",
    "#### $V_L(t) = y = -764.37e^{-t} + 71542.99 e^{-2t}$\n",
    "\n",
    "#### $f(t) = y^{\\prime} = 764.37e^{-t} -143085.98 e^{-2t}$\n",
    "\n",
    "#### $f^{\\prime}(t) = -764.37e^{-t} + 286171.96 e^{-2t}$"
   ]
  },
  {
   "cell_type": "code",
   "execution_count": 2,
   "id": "f550cba7",
   "metadata": {},
   "outputs": [],
   "source": [
    "def V_L(t):\n",
    "    return (-764.37) * (mt.exp(-t)) + (71542.99 * mt.exp(-2*t))\n",
    "\n",
    "def f(t):\n",
    "    return (764.37) * (mt.exp(-t)) - (143085.98* mt.exp(-2*t))\n",
    "\n",
    "def df(t):\n",
    "    return -(764.37) * (mt.exp(-t)) + (286171.96* mt.exp(-2*t))"
   ]
  },
  {
   "cell_type": "markdown",
   "id": "72b386cb",
   "metadata": {},
   "source": [
    "Use the Newton-Raphson method to find the root of $f\\!\\left(t\\right)$.\n",
    "\n",
    "Define the Python variable `T0` that will store the initial estimate of the root.\n",
    "Run\n",
    "[`scipy.optimize.newton()`](https://docs.scipy.org/doc/scipy/reference/generated/scipy.optimize.newton.html)\n",
    "such that you get the (approximate) root as well as convergence information,\n",
    "and store the said outputs in Python variables `t_nr` and `t_nr_info`, respectively.\n",
    "You may provide non-default values to the tolerances and to the iteration budget.\n",
    "\n",
    "In the succeeding code cell,\n",
    "replace the `pass` statement with your code."
   ]
  },
  {
   "cell_type": "code",
   "execution_count": 3,
   "id": "0504cc34",
   "metadata": {},
   "outputs": [
    {
     "name": "stdout",
     "output_type": "stream",
     "text": [
      "Finding a root starting at 3:\n"
     ]
    }
   ],
   "source": [
    "T0 = 3\n",
    "MAX_ITERS = 750\n",
    "X_TOL = 10**(-14)\n",
    "\n",
    "\n",
    "t_nr, t_nr_info = spo.newton(f, T0, fprime=df, tol=X_TOL, maxiter=MAX_ITERS, rtol=0.0, full_output=True, disp=False)\n",
    "print(f\"Finding a root starting at {T0}:\")"
   ]
  },
  {
   "cell_type": "code",
   "execution_count": 4,
   "id": "1d385184",
   "metadata": {},
   "outputs": [
    {
     "name": "stdout",
     "output_type": "stream",
     "text": [
      "      converged: True\n",
      "           flag: converged\n",
      " function_calls: 22\n",
      "     iterations: 11\n",
      "           root: 5.2321490221715505\n",
      "         method: newton\n"
     ]
    }
   ],
   "source": [
    "print(t_nr_info)"
   ]
  },
  {
   "cell_type": "markdown",
   "id": "fda25422",
   "metadata": {},
   "source": [
    "## Results and discussion"
   ]
  },
  {
   "cell_type": "markdown",
   "id": "cecfe23b",
   "metadata": {},
   "source": [
    "Verify if the obtained (approximate) root is indeed the root\n",
    "by printing the corresponding value of $f\\!\\left(t\\right)$.\n",
    "The printed display should follow the following format\n",
    "\n",
    ">> Residual value: 1.23456790e-07\n",
    "\n",
    "where 1.23456790e-07 is just an exemplar value.\n",
    "\n",
    "In the succeeding code cell,\n",
    "replace the `pass` statement with your code."
   ]
  },
  {
   "cell_type": "code",
   "execution_count": 5,
   "id": "8eceda5f",
   "metadata": {},
   "outputs": [
    {
     "name": "stdout",
     "output_type": "stream",
     "text": [
      "Residual value: 8.881784197001252e-16\n"
     ]
    }
   ],
   "source": [
    "print(f\"Residual value: {f(t_nr)}\")"
   ]
  },
  {
   "cell_type": "markdown",
   "id": "78133b5a",
   "metadata": {},
   "source": [
    "Print the minimum voltage across the equivalent-inductance element,\n",
    "such that the output follows the following:\n",
    "\n",
    ">> The minimum voltage across the equivalent-inductance element is 1.234567 volts.\n",
    "\n",
    "where 1.234567 is just an examplar value for the said minimum voltage.\n",
    "\n",
    "In the succeeding code cell,\n",
    "replace the `pass` statement with your code."
   ]
  },
  {
   "cell_type": "code",
   "execution_count": 6,
   "id": "01337f28",
   "metadata": {},
   "outputs": [
    {
     "name": "stdout",
     "output_type": "stream",
     "text": [
      "The minimum voltage across the equivalent-inductance element is -2.04164 volts\n"
     ]
    }
   ],
   "source": [
    "V_L = round(V_L(t_nr), 5)\n",
    "print(f\"The minimum voltage across the equivalent-inductance element is {V_L} volts\")"
   ]
  },
  {
   "cell_type": "markdown",
   "id": "72db5291",
   "metadata": {},
   "source": [
    "## Submission instructions"
   ]
  },
  {
   "cell_type": "markdown",
   "id": "4791c660",
   "metadata": {},
   "source": [
    "Download this notebook file,\n",
    "and save with a filename following the pattern\n",
    "`ACT-05_<section>_<ID number>`,\n",
    "where the section is as reflected in your Google Classroom.\n",
    "For example, if your ID number is 2013-0024\n",
    "and you are enrolled to the M34W12 class,\n",
    "then your notebook should be named `ACT-05_M34W12_2013-0024.ipynb`.\n",
    "Submit your notebook via the classwork platform for this activity in Google Classroom.\n",
    "Submissions beyond the deadline will not be considered.\n",
    "\n",
    "Lastly, the use of AI tools to answer this exam is not prohibited,\n",
    "but it is of ethical interest to disclose such use.\n",
    "This is in line with the\n",
    "[MSU Policy on the Fair and Ethical Use of AI and Its Applications](https://www.msumain.edu.ph/wp-content/uploads/2024/05/MSU-Policy-on-Ethical-use-of-AI-Policies.pdf).\n",
    "As such, please include a brief statement (in a private comment to this classwork)\n",
    "declaring which and how AI tools are used in your work."
   ]
  },
  {
   "cell_type": "markdown",
   "id": "6cb55aa8",
   "metadata": {},
   "source": [
    "*Last updated by Christian Cahig on 2025-10-09*"
   ]
  }
 ],
 "metadata": {
  "kernelspec": {
   "display_name": "eee102",
   "language": "python",
   "name": "python3"
  },
  "language_info": {
   "codemirror_mode": {
    "name": "ipython",
    "version": 3
   },
   "file_extension": ".py",
   "mimetype": "text/x-python",
   "name": "python",
   "nbconvert_exporter": "python",
   "pygments_lexer": "ipython3",
   "version": "3.12.5"
  }
 },
 "nbformat": 4,
 "nbformat_minor": 5
}
