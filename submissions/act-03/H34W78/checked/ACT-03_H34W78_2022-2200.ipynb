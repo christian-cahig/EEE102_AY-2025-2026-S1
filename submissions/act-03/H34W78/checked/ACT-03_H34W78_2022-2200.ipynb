{
 "cells": [
  {
   "cell_type": "markdown",
   "id": "13cf196a",
   "metadata": {},
   "source": [
    "# EEE102 Activity 3\n",
    "\n",
    "This activity is an application of the secant method for univariate root-finding."
   ]
  },
  {
   "cell_type": "markdown",
   "id": "242dd356",
   "metadata": {},
   "source": [
    "## Imports"
   ]
  },
  {
   "cell_type": "code",
   "execution_count": 1,
   "id": "c5809293",
   "metadata": {},
   "outputs": [],
   "source": [
    "import math as mt\n",
    "\n",
    "import scipy.optimize as spo\n",
    "\n",
    "# Add your imports after this line\n",
    "import numpy as np\n",
    "from scipy.optimize import newton"
   ]
  },
  {
   "cell_type": "markdown",
   "id": "b459de5d",
   "metadata": {},
   "source": [
    "## Scenario"
   ]
  },
  {
   "cell_type": "markdown",
   "id": "9f5fd5c0",
   "metadata": {},
   "source": [
    "You are a power systems engineer tasked to analyze two customer loads and served at a common bus.\n",
    "The bus is at the receiving end of a feeder line extending from the utility system.\n",
    "\n",
    "One of the loads is estimated to be 421 kilowatts at a lagging power factor of 0.80,\n",
    "while the other is rated 317 kilovars at a lagging power factor of 0.77.\n",
    "\n",
    "Records show that the feeder line impedance is rated 0.95 + j2.47 ohms.\n",
    "If it is reasonable to assume that the utility system's RMS voltage hovers around 49 kilovolts,\n",
    "at what RMS voltage are the loads served?"
   ]
  },
  {
   "cell_type": "markdown",
   "id": "5b68728e",
   "metadata": {},
   "source": [
    "You are to approach this as a root-finding problem,\n",
    "and so must first derive a function $f\\!\\left(V\\right)$\n",
    "whose root corresponds to the desired quantity."
   ]
  },
  {
   "cell_type": "markdown",
   "id": "5ed56af3",
   "metadata": {},
   "source": [
    "## Secant method"
   ]
  },
  {
   "cell_type": "markdown",
   "id": "9038c957",
   "metadata": {},
   "source": [
    "Construct a Python function `f()` that implements $f\\!\\left(V\\right)$.\n",
    "`f()` takes a single positional argument `x` representing $V$."
   ]
  },
  {
   "cell_type": "code",
   "execution_count": 2,
   "id": "bdbd41f8",
   "metadata": {},
   "outputs": [],
   "source": [
    "# Given data\n",
    "\n",
    "# Load 1: 421 kW at 0.80 pf lagging\n",
    "P1 = 421e3           \n",
    "PF1 = 0.8\n",
    "Q1 = P1 * np.tan(np.arccos(PF1))\n",
    "\n",
    "# Load 2: 317 kVAR at 0.77 pf lagging\n",
    "Q2 = 317e3          \n",
    "PF2 = 0.77\n",
    "P2 = Q2 / np.tan(np.arccos(PF2))\n",
    "\n",
    "Z = 0.95 + 2.47j     \n",
    "Vs = 49e3            \n",
    "\n",
    "# Root-finding function\n",
    "def f(V):\n",
    "    # Replace the `pass` statement with your code\n",
    "    S_total = (P1 + P2) + 1j*(Q1 + Q2)\n",
    "    I = np.conj(S_total / V)       \n",
    "    V_calc = V + I*Z\n",
    "    \n",
    "    return abs(V_calc) - Vs"
   ]
  },
  {
   "cell_type": "markdown",
   "id": "761b494c",
   "metadata": {},
   "source": [
    "Use the secant method to find a root of $f\\!\\left(V\\right)$.\n",
    "Use an iteration budget of 100 and a tolerance of $10^{-7}$.\n",
    "\n",
    "Define the following variables.\n",
    "- `X0`, to store the initial guess\n",
    "- `MAX_ITERS`, to store the iteration budget\n",
    "- `X_TOL` to store the tolerance\n",
    "\n",
    "Run\n",
    "[`scipy.optimize.newton()`](https://docs.scipy.org/doc/scipy/reference/generated/scipy.optimize.newton.html)\n",
    "such that you get the (approximate) root as well as information concerning the run.\n",
    "Store the root and the information in variables `p_sc` and `p_sc_info`, respectively.\n",
    "Make sure to verify if the returned root is indeed a root."
   ]
  },
  {
   "cell_type": "code",
   "execution_count": 3,
   "id": "e312d37e",
   "metadata": {},
   "outputs": [],
   "source": [
    "# Replace `None` with your answer\n",
    "X0 = 45e3\n",
    "MAX_ITERS = 100\n",
    "X_TOL = 1e-7\n",
    "X1 = 50e3\n",
    "\n",
    "# Use scipy.optimize.newton\n",
    "p_sc, p_sc_info = newton(f, X0, x1=X1, tol=X_TOL, maxiter=MAX_ITERS, full_output=True)\n"
   ]
  },
  {
   "cell_type": "markdown",
   "id": "31afdfab",
   "metadata": {},
   "source": [
    "## Results\n",
    "\n",
    "Do not modify nor remove the following code cell."
   ]
  },
  {
   "cell_type": "code",
   "execution_count": 4,
   "id": "83df63f6",
   "metadata": {},
   "outputs": [
    {
     "name": "stdout",
     "output_type": "stream",
     "text": [
      "Finding a root from 45000.0:\n",
      "      converged: True\n",
      "           flag: converged\n",
      " function_calls: 5\n",
      "     iterations: 4\n",
      "           root: 48952.47076498574\n",
      "         method: secant\n",
      "Residual value: 0.0\n"
     ]
    }
   ],
   "source": [
    "print(f\"Finding a root from {X0}:\")\n",
    "print(p_sc_info)\n",
    "print(f\"Residual value: {f(p_sc)}\")"
   ]
  },
  {
   "cell_type": "code",
   "execution_count": 5,
   "id": "63ecf5c5",
   "metadata": {},
   "outputs": [
    {
     "name": "stdout",
     "output_type": "stream",
     "text": [
      "The RMS voltage at the common bus is 48952.47076498574 kilovolts.\n"
     ]
    }
   ],
   "source": [
    "print(f\"The RMS voltage at the common bus is {p_sc} kilovolts.\")"
   ]
  },
  {
   "cell_type": "markdown",
   "id": "16ebcfa6",
   "metadata": {},
   "source": [
    "## Submission instructions"
   ]
  },
  {
   "cell_type": "markdown",
   "id": "84dd36b9",
   "metadata": {},
   "source": [
    "Download this notebook file,\n",
    "and save with a filename following the pattern\n",
    "`ACT-03_<section>_<ID number>`,\n",
    "where the section is as reflected in your Google Classroom.\n",
    "For example, if your ID number is 2013-0024\n",
    "and you are enrolled to the M34W12 class,\n",
    "then your notebook should be named `ACT-03_M34W12_2013-0024.ipynb`.\n",
    "Submit your notebook via the classwork platform for this activity in Google Classroom.\n",
    "\n",
    "Lastly, the use of AI tools to answer this exam is not prohibited,\n",
    "but it is of ethical interest to disclose such use.\n",
    "This is in line with the\n",
    "[MSU Policy on the Fair and Ethical Use of AI and Its Applications](https://www.msumain.edu.ph/wp-content/uploads/2024/05/MSU-Policy-on-Ethical-use-of-AI-Policies.pdf).\n",
    "As such, please include a brief statement (in a private comment to this classwork)\n",
    "declaring which and how AI tools are used in your work."
   ]
  },
  {
   "cell_type": "markdown",
   "id": "f3bf61ca",
   "metadata": {},
   "source": [
    "*Last updated by Christian Cahig on 2025-10-01*"
   ]
  }
 ],
 "metadata": {
  "kernelspec": {
   "display_name": "eee102",
   "language": "python",
   "name": "python3"
  },
  "language_info": {
   "codemirror_mode": {
    "name": "ipython",
    "version": 3
   },
   "file_extension": ".py",
   "mimetype": "text/x-python",
   "name": "python",
   "nbconvert_exporter": "python",
   "pygments_lexer": "ipython3",
   "version": "3.12.5"
  }
 },
 "nbformat": 4,
 "nbformat_minor": 5
}
