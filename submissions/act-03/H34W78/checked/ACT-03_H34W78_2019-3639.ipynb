{
 "cells": [
  {
   "cell_type": "markdown",
   "id": "87c1bcc7",
   "metadata": {},
   "source": [
    "# EEE102 Activity 3\n",
    "\n",
    "This activity is an application of the secant method for univariate root-finding."
   ]
  },
  {
   "cell_type": "markdown",
   "id": "ef7d886c",
   "metadata": {},
   "source": [
    "## Imports"
   ]
  },
  {
   "cell_type": "code",
   "execution_count": 1,
   "id": "eab19ecb",
   "metadata": {},
   "outputs": [],
   "source": [
    "import math as mt\n",
    "import scipy.optimize as spo\n"
   ]
  },
  {
   "cell_type": "code",
   "execution_count": 2,
   "id": "de647bce",
   "metadata": {},
   "outputs": [],
   "source": [
    "phase1 = 421e3          \n",
    "power_factor1 = 0.80        \n",
    "Q2 = 317e3         \n",
    "power_factor2 = 0.77        \n",
    "Z = complex(0.95, 2.47)   \n",
    "V_S_kV = 49.0            \n"
   ]
  },
  {
   "cell_type": "markdown",
   "id": "83d79793",
   "metadata": {},
   "source": [
    "## Scenario"
   ]
  },
  {
   "cell_type": "markdown",
   "id": "593c8ce6",
   "metadata": {},
   "source": [
    "You are a power systems engineer tasked to analyze two customer loads and served at a common bus.\n",
    "The bus is at the receiving end of a feeder line extending from the utility system.\n",
    "\n",
    "One of the loads is estimated to be 421 kilowatts at a lagging power factor of 0.80,\n",
    "while the other is rated 317 kilovars at a lagging power factor of 0.77.\n",
    "\n",
    "Records show that the feeder line impedance is rated 0.95 + j2.47 ohms.\n",
    "If it is reasonable to assume that the utility system's RMS voltage hovers around 49 kilovolts,\n",
    "at what RMS voltage are the loads served?"
   ]
  },
  {
   "cell_type": "markdown",
   "id": "c6342387",
   "metadata": {},
   "source": [
    "You are to approach this as a root-finding problem,\n",
    "and so must first derive a function $f\\!\\left(V\\right)$\n",
    "whose root corresponds to the desired quantity."
   ]
  },
  {
   "cell_type": "markdown",
   "id": "62b526c3",
   "metadata": {},
   "source": [
    "## Secant method"
   ]
  },
  {
   "cell_type": "markdown",
   "id": "f889ebff",
   "metadata": {},
   "source": [
    "Construct a Python function `f()` that implements $f\\!\\left(V\\right)$.\n",
    "`f()` takes a single positional argument `x` representing $V$."
   ]
  },
  {
   "cell_type": "code",
   "execution_count": 3,
   "id": "af233b2d",
   "metadata": {},
   "outputs": [],
   "source": [
    "theta1 = mt.acos(power_factor1)\n",
    "Q1 = phase1 * mt.tan(theta1)\n",
    "S2 = Q2 / mt.sin(mt.acos(power_factor1))\n",
    "phase2 = S2 * power_factor1\n",
    "S_tot = complex(phase1 + phase2, Q1 + Q2)\n",
    "A = S_tot.conjugate() * Z / mt.sqrt(3)\n",
    "a = A.real\n",
    "b = A.imag\n"
   ]
  },
  {
   "cell_type": "code",
   "execution_count": 4,
   "id": "45d9bf7d",
   "metadata": {},
   "outputs": [],
   "source": [
    "def f(V_kV):\n",
    "    V = V_kV * 1000.0\n",
    "    X = V + a / V\n",
    "    Y = b / V\n",
    "    m = mt.hypot(X, Y)\n",
    "    return (m / 1000.0) - V_S_kV\n"
   ]
  },
  {
   "cell_type": "markdown",
   "id": "4643621f",
   "metadata": {},
   "source": [
    "Use the secant method to find a root of $f\\!\\left(V\\right)$.\n",
    "Use an iteration budget of 100 and a tolerance of $10^{-7}$.\n",
    "\n",
    "Define the following variables.\n",
    "- `X0`, to store the initial guess\n",
    "- `MAX_ITERS`, to store the iteration budget\n",
    "- `X_TOL` to store the tolerance\n",
    "\n",
    "Run\n",
    "[`scipy.optimize.newton()`](https://docs.scipy.org/doc/scipy/reference/generated/scipy.optimize.newton.html)\n",
    "such that you get the (approximate) root as well as information concerning the run.\n",
    "Store the root and the information in variables `p_sc` and `p_sc_info`, respectively.\n",
    "Make sure to verify if the returned root is indeed a root."
   ]
  },
  {
   "cell_type": "code",
   "execution_count": 5,
   "id": "e5c4114e",
   "metadata": {},
   "outputs": [],
   "source": [
    "X0 = 47.5        \n",
    "X1 = 48.5        \n",
    "MAX_ITERS = 100\n",
    "X_TOL = 1e-8\n",
    "p_sc, p_sc_info = spo.newton(\n",
    "    f, X0, fprime=None, args=(), tol=X_TOL, maxiter=MAX_ITERS, full_output=True, x1=X1\n",
    ")\n",
    "residual = f(p_sc)\n"
   ]
  },
  {
   "cell_type": "markdown",
   "id": "0f40a376",
   "metadata": {},
   "source": [
    "## Results\n",
    "\n",
    "Do not modify nor remove the following code cell."
   ]
  },
  {
   "cell_type": "code",
   "execution_count": 6,
   "id": "5fd3c494",
   "metadata": {},
   "outputs": [
    {
     "name": "stdout",
     "output_type": "stream",
     "text": [
      "Finding a root from 47.5:\n",
      "      converged: True\n",
      "           flag: converged\n",
      " function_calls: 4\n",
      "     iterations: 3\n",
      "           root: 48.97212239012291\n",
      "         method: secant\n",
      "Residual value: -7.105427357601002e-15\n"
     ]
    }
   ],
   "source": [
    "print(f\"Finding a root from {X0}:\")\n",
    "print(p_sc_info)\n",
    "print(f\"Residual value: {residual}\")\n",
    "\n"
   ]
  },
  {
   "cell_type": "code",
   "execution_count": 7,
   "id": "564f2b47",
   "metadata": {},
   "outputs": [
    {
     "name": "stdout",
     "output_type": "stream",
     "text": [
      "The RMS voltage at the common bus is 48.972122 kilovolts.\n"
     ]
    }
   ],
   "source": [
    "print(f\"The RMS voltage at the common bus is {p_sc:.6f} kilovolts.\")"
   ]
  },
  {
   "cell_type": "markdown",
   "id": "82e54f4a",
   "metadata": {},
   "source": [
    "## Submission instructions"
   ]
  },
  {
   "cell_type": "markdown",
   "id": "65b2369a",
   "metadata": {},
   "source": [
    "Download this notebook file,\n",
    "and save with a filename following the pattern\n",
    "`ACT-03_<section>_<ID number>`,\n",
    "where the section is as reflected in your Google Classroom.\n",
    "For example, if your ID number is 2013-0024\n",
    "and you are enrolled to the M34W12 class,\n",
    "then your notebook should be named `ACT-03_M34W12_2013-0024.ipynb`.\n",
    "Submit your notebook via the classwork platform for this activity in Google Classroom.\n",
    "\n",
    "Lastly, the use of AI tools to answer this exam is not prohibited,\n",
    "but it is of ethical interest to disclose such use.\n",
    "This is in line with the\n",
    "[MSU Policy on the Fair and Ethical Use of AI and Its Applications](https://www.msumain.edu.ph/wp-content/uploads/2024/05/MSU-Policy-on-Ethical-use-of-AI-Policies.pdf).\n",
    "As such, please include a brief statement (in a private comment to this classwork)\n",
    "declaring which and how AI tools are used in your work."
   ]
  },
  {
   "cell_type": "markdown",
   "id": "7b806c9c",
   "metadata": {},
   "source": [
    "*Last updated by Christian Cahig on 2025-10-01*"
   ]
  }
 ],
 "metadata": {
  "kernelspec": {
   "display_name": "eee102",
   "language": "python",
   "name": "python3"
  },
  "language_info": {
   "codemirror_mode": {
    "name": "ipython",
    "version": 3
   },
   "file_extension": ".py",
   "mimetype": "text/x-python",
   "name": "python",
   "nbconvert_exporter": "python",
   "pygments_lexer": "ipython3",
   "version": "3.12.5"
  }
 },
 "nbformat": 4,
 "nbformat_minor": 5
}
