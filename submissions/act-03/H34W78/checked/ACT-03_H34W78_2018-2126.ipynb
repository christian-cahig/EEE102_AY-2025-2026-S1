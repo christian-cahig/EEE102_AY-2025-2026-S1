{
 "cells": [
  {
   "cell_type": "code",
   "execution_count": 1,
   "id": "d6e70b49-9cb7-4de7-9723-be377526eebf",
   "metadata": {},
   "outputs": [],
   "source": [
    "import math as mt\n",
    "import scipy.optimize as spo"
   ]
  },
  {
   "cell_type": "code",
   "execution_count": 2,
   "id": "c365bbcc-61e1-4315-bae5-8e54480868e1",
   "metadata": {},
   "outputs": [],
   "source": [
    "VS_SQUARED = 49**2 \n",
    "\n",
    "R = 0.95\n",
    "X = 2.47\n",
    "\n",
    "P1 = 0.421\n",
    "Q1 = 0.31575\n",
    "\n",
    "P2 = 0.317 * (0.77 / mt.sqrt(1 - 0.77**2))\n",
    "Q2 = 0.317\n",
    "\n",
    "P = P1 + P2\n",
    "Q = Q1 + Q2\n",
    "\n",
    "TERM1 = (P * R) + (Q * X)\n",
    "\n",
    "TERM2_SQUARED = ((P * X) - (Q * R))**2\n",
    "\n",
    "C1 = 2 * TERM1 - VS_SQUARED\n",
    "\n",
    "C0 = TERM1**2 + TERM2_SQUARED"
   ]
  },
  {
   "cell_type": "code",
   "execution_count": 3,
   "id": "1949739b-9216-4db4-8f22-0aa2bb445e11",
   "metadata": {},
   "outputs": [],
   "source": [
    "def f(x):\n",
    "    V = x\n",
    "    return V**4 + C1 * (V**2) + C0"
   ]
  },
  {
   "cell_type": "code",
   "execution_count": 4,
   "id": "668e6f7e-f499-4fec-b222-0274a38239a4",
   "metadata": {},
   "outputs": [],
   "source": [
    "X0 = 49.0\n",
    "MAX_ITERS = 100\n",
    "X_TOL = 1e-7\n",
    "\n",
    "p_sc, p_sc_info = spo.newton(\n",
    "    f, \n",
    "    X0, \n",
    "    maxiter=MAX_ITERS, \n",
    "    tol=X_TOL, \n",
    "    full_output=True\n",
    ")"
   ]
  },
  {
   "cell_type": "code",
   "execution_count": 5,
   "id": "c38e9cb7-e27b-4524-a7a8-b9f79d21c78d",
   "metadata": {},
   "outputs": [
    {
     "name": "stdout",
     "output_type": "stream",
     "text": [
      "Finding a root from 49.0:\n",
      "      converged: True\n",
      "           flag: converged\n",
      " function_calls: 5\n",
      "     iterations: 4\n",
      "           root: 48.95247076498574\n",
      "         method: secant\n",
      "Residual value: -3.179039254064264e-10\n"
     ]
    }
   ],
   "source": [
    "print(f\"Finding a root from {X0}:\")\n",
    "print(p_sc_info)\n",
    "print(f\"Residual value: {f(p_sc)}\")"
   ]
  },
  {
   "cell_type": "code",
   "execution_count": 6,
   "id": "542f5c75-3f79-487c-8a49-10ddd2a8328c",
   "metadata": {},
   "outputs": [
    {
     "name": "stdout",
     "output_type": "stream",
     "text": [
      "The RMS voltage at the common bus is 48.95247076498574 kilovolts.\n"
     ]
    }
   ],
   "source": [
    "print(f\"The RMS voltage at the common bus is {p_sc} kilovolts.\")"
   ]
  }
 ],
 "metadata": {
  "kernelspec": {
   "display_name": "eee102",
   "language": "python",
   "name": "python3"
  },
  "language_info": {
   "codemirror_mode": {
    "name": "ipython",
    "version": 3
   },
   "file_extension": ".py",
   "mimetype": "text/x-python",
   "name": "python",
   "nbconvert_exporter": "python",
   "pygments_lexer": "ipython3",
   "version": "3.12.5"
  }
 },
 "nbformat": 4,
 "nbformat_minor": 5
}
