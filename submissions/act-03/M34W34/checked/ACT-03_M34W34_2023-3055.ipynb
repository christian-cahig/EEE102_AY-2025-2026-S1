{
 "cells": [
  {
   "cell_type": "code",
   "execution_count": 1,
   "id": "1f671785",
   "metadata": {},
   "outputs": [
    {
     "name": "stdout",
     "output_type": "stream",
     "text": [
      "Finding a root from {X0}:\n",
      "      converged: True\n",
      "           flag: converged\n",
      " function_calls: 5\n",
      "     iterations: 4\n",
      "           root: 48965.78102180318\n",
      "         method: secant\n",
      "Residual value: {f(p_sc)}\n",
      "The RMS voltage at the common bus is {p_sc / 1000:.4f} kilovolts.\n"
     ]
    }
   ],
   "source": [
    "# ======================\n",
    "# Imports\n",
    "# ======================\n",
    "import math as mt\n",
    "import scipy.optimize as spo\n",
    "\n",
    "\n",
    "# ======================\n",
    "# Scenario Setup\n",
    "# ======================\n",
    "# Given data\n",
    "S1 = 421e3          # Load 1 = 421 kW\n",
    "pf1 = 0.80           # Power factor (lagging)\n",
    "S2 = 317e3          # Load 2 = 317 kW\n",
    "pf2 = 0.77           # Power factor (lagging)\n",
    "Z_line = 0.95 + 2.47j    # Line impedance (ohms)\n",
    "V_source = 49e3      # Source RMS voltage (volts)\n",
    "\n",
    "# Compute power angles\n",
    "theta1 = mt.acos(pf1)\n",
    "theta2 = mt.acos(pf2)\n",
    "\n",
    "# Complex powers for both loads (S = P + jQ)\n",
    "S_load1 = S1 * (mt.cos(theta1) + 1j * mt.sin(theta1))\n",
    "S_load2 = S2 * (mt.cos(theta2) + 1j * mt.sin(theta2))\n",
    "\n",
    "\n",
    "# ======================\n",
    "# Secant Method Function\n",
    "# ======================\n",
    "def f(V):\n",
    "    \"\"\"\n",
    "    Residual function f(V) = |V + I*Z_line| - V_source\n",
    "    where I = (S_total.conjugate()) / V\n",
    "    \"\"\"\n",
    "    S_total = S_load1 + S_load2\n",
    "    I = S_total.conjugate() / V\n",
    "    V_send = V + I * Z_line\n",
    "    return abs(V_send) - V_source\n",
    "\n",
    "\n",
    "# ======================\n",
    "# Secant Method Setup\n",
    "# ======================\n",
    "X0 = 30000       # Initial guess (30 kV)\n",
    "X1 = 49000       # Second initial guess (49 kV)\n",
    "MAX_ITERS = 100  # Iteration limit\n",
    "X_TOL = 1e-7     # Tolerance\n",
    "\n",
    "# Run Secant Method using scipy's newton (without derivative)\n",
    "p_sc, p_sc_info = spo.newton(\n",
    "    f, X0, fprime=None, args=(),\n",
    "    tol=X_TOL, maxiter=MAX_ITERS,\n",
    "    full_output=True, x1=X1\n",
    ")\n",
    "\n",
    "\n",
    "# ======================\n",
    "# Results\n",
    "# ======================\n",
    "print(f\"Finding a root from {{X0}}:\")\n",
    "print(p_sc_info)\n",
    "print(f\"Residual value: {{f(p_sc)}}\")\n",
    "print(f\"The RMS voltage at the common bus is {{p_sc / 1000:.4f}} kilovolts.\")"
   ]
  }
 ],
 "metadata": {
  "kernelspec": {
   "display_name": "eee102",
   "language": "python",
   "name": "python3"
  },
  "language_info": {
   "codemirror_mode": {
    "name": "ipython",
    "version": 3
   },
   "file_extension": ".py",
   "mimetype": "text/x-python",
   "name": "python",
   "nbconvert_exporter": "python",
   "pygments_lexer": "ipython3",
   "version": "3.12.5"
  }
 },
 "nbformat": 4,
 "nbformat_minor": 5
}
