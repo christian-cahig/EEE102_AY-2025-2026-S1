{
 "cells": [
  {
   "cell_type": "markdown",
   "id": "13cf196a",
   "metadata": {},
   "source": [
    "# EEE102 Activity 3\n",
    "\n",
    "This activity is an application of the secant method for univariate root-finding."
   ]
  },
  {
   "cell_type": "markdown",
   "id": "242dd356",
   "metadata": {},
   "source": [
    "## Imports"
   ]
  },
  {
   "cell_type": "code",
   "execution_count": 1,
   "id": "c5809293",
   "metadata": {},
   "outputs": [],
   "source": [
    "import math as mt\n",
    "\n",
    "import scipy.optimize as spo\n",
    "\n",
    "# Add your imports after this line"
   ]
  },
  {
   "cell_type": "markdown",
   "id": "b459de5d",
   "metadata": {},
   "source": [
    "## Scenario"
   ]
  },
  {
   "cell_type": "markdown",
   "id": "9f5fd5c0",
   "metadata": {},
   "source": [
    "You are a power systems engineer tasked to analyze two customer loads and served at a common bus.\n",
    "The bus is at the receiving end of a feeder line extending from the utility system.\n",
    "\n",
    "One of the loads is estimated to be 421 kilowatts at a lagging power factor of 0.80,\n",
    "while the other is rated 317 kilovars at a lagging power factor of 0.77.\n",
    "\n",
    "Records show that the feeder line impedance is rated 0.95 + j2.47 ohms.\n",
    "If it is reasonable to assume that the utility system's RMS voltage hovers around 49 kilovolts,\n",
    "at what RMS voltage are the loads served?"
   ]
  },
  {
   "cell_type": "markdown",
   "id": "5b68728e",
   "metadata": {},
   "source": [
    "You are to approach this as a root-finding problem,\n",
    "and so must first derive a function $f\\!\\left(V\\right)$\n",
    "whose root corresponds to the desired quantity."
   ]
  },
  {
   "cell_type": "markdown",
   "id": "5ed56af3",
   "metadata": {},
   "source": [
    "## Secant method"
   ]
  },
  {
   "cell_type": "markdown",
   "id": "9038c957",
   "metadata": {},
   "source": [
    "Construct a Python function `f()` that implements $f\\!\\left(V\\right)$.\n",
    "`f()` takes a single positional argument `x` representing $V$."
   ]
  },
  {
   "cell_type": "code",
   "execution_count": 2,
   "id": "bdbd41f8",
   "metadata": {},
   "outputs": [],
   "source": [
    "def f(V):\n",
    "    # Replace the `pass` statement with your code\n",
    "    V_rms = V * 1000\n",
    "    I = S_total.conjugate() / V_rms\n",
    "    V_send = V_rms + I * Z\n",
    "    return abs(V_send) / 1000 - 49"
   ]
  },
  {
   "cell_type": "markdown",
   "id": "761b494c",
   "metadata": {},
   "source": [
    "Use the secant method to find a root of $f\\!\\left(V\\right)$.\n",
    "Use an iteration budget of 100 and a tolerance of $10^{-7}$.\n",
    "\n",
    "Define the following variables.\n",
    "- `X0`, to store the initial guess\n",
    "- `MAX_ITERS`, to store the iteration budget\n",
    "- `X_TOL` to store the tolerance\n",
    "\n",
    "Run\n",
    "[`scipy.optimize.newton()`](https://docs.scipy.org/doc/scipy/reference/generated/scipy.optimize.newton.html)\n",
    "such that you get the (approximate) root as well as information concerning the run.\n",
    "Store the root and the information in variables `p_sc` and `p_sc_info`, respectively.\n",
    "Make sure to verify if the returned root is indeed a root."
   ]
  },
  {
   "cell_type": "code",
   "execution_count": 3,
   "id": "e312d37e",
   "metadata": {},
   "outputs": [
    {
     "ename": "NameError",
     "evalue": "name 'S_total' is not defined",
     "output_type": "error",
     "traceback": [
      "\u001b[0;31m---------------------------------------------------------------------------\u001b[0m",
      "\u001b[0;31mNameError\u001b[0m                                 Traceback (most recent call last)",
      "Cell \u001b[0;32mIn[3], line 7\u001b[0m\n\u001b[1;32m      4\u001b[0m X_TOL \u001b[38;5;241m=\u001b[39m \u001b[38;5;241m1e-7\u001b[39m\n\u001b[1;32m      6\u001b[0m \u001b[38;5;66;03m# Write code here. You may have additional code cells.\u001b[39;00m\n\u001b[0;32m----> 7\u001b[0m p_sc, p_sc_info \u001b[38;5;241m=\u001b[39m \u001b[43mspo\u001b[49m\u001b[38;5;241;43m.\u001b[39;49m\u001b[43mnewton\u001b[49m\u001b[43m(\u001b[49m\n\u001b[1;32m      8\u001b[0m \u001b[43m    \u001b[49m\u001b[43mf\u001b[49m\u001b[43m,\u001b[49m\n\u001b[1;32m      9\u001b[0m \u001b[43m    \u001b[49m\u001b[43mX0\u001b[49m\u001b[43m,\u001b[49m\n\u001b[1;32m     10\u001b[0m \u001b[43m    \u001b[49m\u001b[43mtol\u001b[49m\u001b[38;5;241;43m=\u001b[39;49m\u001b[43mX_TOL\u001b[49m\u001b[43m,\u001b[49m\n\u001b[1;32m     11\u001b[0m \u001b[43m    \u001b[49m\u001b[43mmaxiter\u001b[49m\u001b[38;5;241;43m=\u001b[39;49m\u001b[43mMAX_ITERS\u001b[49m\u001b[43m,\u001b[49m\n\u001b[1;32m     12\u001b[0m \u001b[43m    \u001b[49m\u001b[43mfull_output\u001b[49m\u001b[38;5;241;43m=\u001b[39;49m\u001b[38;5;28;43;01mTrue\u001b[39;49;00m\n\u001b[1;32m     13\u001b[0m \u001b[43m)\u001b[49m\n",
      "File \u001b[0;32m/opt/miniconda3/envs/eee102/lib/python3.12/site-packages/scipy/optimize/_zeros_py.py:356\u001b[0m, in \u001b[0;36mnewton\u001b[0;34m(func, x0, fprime, args, tol, maxiter, fprime2, x1, rtol, full_output, disp)\u001b[0m\n\u001b[1;32m    354\u001b[0m     p1 \u001b[38;5;241m=\u001b[39m x0 \u001b[38;5;241m*\u001b[39m (\u001b[38;5;241m1\u001b[39m \u001b[38;5;241m+\u001b[39m eps)\n\u001b[1;32m    355\u001b[0m     p1 \u001b[38;5;241m+\u001b[39m\u001b[38;5;241m=\u001b[39m (eps \u001b[38;5;28;01mif\u001b[39;00m p1 \u001b[38;5;241m>\u001b[39m\u001b[38;5;241m=\u001b[39m \u001b[38;5;241m0\u001b[39m \u001b[38;5;28;01melse\u001b[39;00m \u001b[38;5;241m-\u001b[39meps)\n\u001b[0;32m--> 356\u001b[0m q0 \u001b[38;5;241m=\u001b[39m \u001b[43mfunc\u001b[49m\u001b[43m(\u001b[49m\u001b[43mp0\u001b[49m\u001b[43m,\u001b[49m\u001b[43m \u001b[49m\u001b[38;5;241;43m*\u001b[39;49m\u001b[43margs\u001b[49m\u001b[43m)\u001b[49m\n\u001b[1;32m    357\u001b[0m funcalls \u001b[38;5;241m+\u001b[39m\u001b[38;5;241m=\u001b[39m \u001b[38;5;241m1\u001b[39m\n\u001b[1;32m    358\u001b[0m q1 \u001b[38;5;241m=\u001b[39m func(p1, \u001b[38;5;241m*\u001b[39margs)\n",
      "Cell \u001b[0;32mIn[2], line 4\u001b[0m, in \u001b[0;36mf\u001b[0;34m(V)\u001b[0m\n\u001b[1;32m      1\u001b[0m \u001b[38;5;28;01mdef\u001b[39;00m \u001b[38;5;21mf\u001b[39m(V):\n\u001b[1;32m      2\u001b[0m     \u001b[38;5;66;03m# Replace the `pass` statement with your code\u001b[39;00m\n\u001b[1;32m      3\u001b[0m     V_rms \u001b[38;5;241m=\u001b[39m V \u001b[38;5;241m*\u001b[39m \u001b[38;5;241m1000\u001b[39m\n\u001b[0;32m----> 4\u001b[0m     I \u001b[38;5;241m=\u001b[39m \u001b[43mS_total\u001b[49m\u001b[38;5;241m.\u001b[39mconjugate() \u001b[38;5;241m/\u001b[39m V_rms\n\u001b[1;32m      5\u001b[0m     V_send \u001b[38;5;241m=\u001b[39m V_rms \u001b[38;5;241m+\u001b[39m I \u001b[38;5;241m*\u001b[39m Z\n\u001b[1;32m      6\u001b[0m     \u001b[38;5;28;01mreturn\u001b[39;00m \u001b[38;5;28mabs\u001b[39m(V_send) \u001b[38;5;241m/\u001b[39m \u001b[38;5;241m1000\u001b[39m \u001b[38;5;241m-\u001b[39m \u001b[38;5;241m49\u001b[39m\n",
      "\u001b[0;31mNameError\u001b[0m: name 'S_total' is not defined"
     ]
    }
   ],
   "source": [
    "# Replace `None` with your answer\n",
    "X0 = 48.0\n",
    "MAX_ITERS = 100\n",
    "X_TOL = 1e-7\n",
    "\n",
    "# Write code here. You may have additional code cells.\n",
    "p_sc, p_sc_info = spo.newton(\n",
    "    f,\n",
    "    X0,\n",
    "    tol=X_TOL,\n",
    "    maxiter=MAX_ITERS,\n",
    "    full_output=True\n",
    ")"
   ]
  },
  {
   "cell_type": "markdown",
   "id": "31afdfab",
   "metadata": {},
   "source": [
    "## Results\n",
    "\n",
    "Do not modify nor remove the following code cell."
   ]
  },
  {
   "cell_type": "code",
   "execution_count": null,
   "id": "83df63f6",
   "metadata": {},
   "outputs": [],
   "source": [
    "print(f\"Finding a root from {X0}:\")\n",
    "print(p_sc_info)\n",
    "print(f\"Residual value: {f(p_sc)}\")"
   ]
  },
  {
   "cell_type": "code",
   "execution_count": null,
   "id": "63ecf5c5",
   "metadata": {},
   "outputs": [],
   "source": [
    "print(f\"The RMS voltage at the common bus is {p_sc} kilovolts.\")"
   ]
  },
  {
   "cell_type": "markdown",
   "id": "16ebcfa6",
   "metadata": {},
   "source": [
    "## Submission instructions"
   ]
  },
  {
   "cell_type": "markdown",
   "id": "84dd36b9",
   "metadata": {},
   "source": [
    "Download this notebook file,\n",
    "and save with a filename following the pattern\n",
    "`ACT-03_<section>_<ID number>`,\n",
    "where the section is as reflected in your Google Classroom.\n",
    "For example, if your ID number is 2013-0024\n",
    "and you are enrolled to the M34W12 class,\n",
    "then your notebook should be named `ACT-03_M34W12_2013-0024.ipynb`.\n",
    "Submit your notebook via the classwork platform for this activity in Google Classroom.\n",
    "\n",
    "Lastly, the use of AI tools to answer this exam is not prohibited,\n",
    "but it is of ethical interest to disclose such use.\n",
    "This is in line with the\n",
    "[MSU Policy on the Fair and Ethical Use of AI and Its Applications](https://www.msumain.edu.ph/wp-content/uploads/2024/05/MSU-Policy-on-Ethical-use-of-AI-Policies.pdf).\n",
    "As such, please include a brief statement (in a private comment to this classwork)\n",
    "declaring which and how AI tools are used in your work."
   ]
  },
  {
   "cell_type": "markdown",
   "id": "f3bf61ca",
   "metadata": {},
   "source": [
    "*Last updated by Christian Cahig on 2025-10-01*"
   ]
  }
 ],
 "metadata": {
  "kernelspec": {
   "display_name": "eee102",
   "language": "python",
   "name": "python3"
  },
  "language_info": {
   "codemirror_mode": {
    "name": "ipython",
    "version": 3
   },
   "file_extension": ".py",
   "mimetype": "text/x-python",
   "name": "python",
   "nbconvert_exporter": "python",
   "pygments_lexer": "ipython3",
   "version": "3.12.5"
  }
 },
 "nbformat": 4,
 "nbformat_minor": 5
}
